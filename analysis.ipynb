{
 "cells": [
  {
   "cell_type": "code",
   "execution_count": 1,
   "id": "improved-religious",
   "metadata": {},
   "outputs": [
    {
     "name": "stderr",
     "output_type": "stream",
     "text": [
      "/Users/Salim/Library/Python/3.8/lib/python/site-packages/geopandas/_compat.py:106: UserWarning: The Shapely GEOS version (3.8.0-CAPI-1.13.1 ) is incompatible with the GEOS version PyGEOS was compiled with (3.9.1-CAPI-1.14.2). Conversions between both will be slow.\n",
      "  warnings.warn(\n"
     ]
    }
   ],
   "source": [
    "import pandas as pd\n",
    "import geopandas as gpd\n",
    "from scipy.stats import pearsonr\n",
    "import matplotlib.pyplot as plt\n",
    "from statsmodels.tools.tools import add_constant\n",
    "import numpy as np\n",
    "import statsmodels.api as sm"
   ]
  },
  {
   "cell_type": "markdown",
   "id": "clinical-michael",
   "metadata": {},
   "source": [
    "### Load data"
   ]
  },
  {
   "cell_type": "markdown",
   "id": "collectible-archive",
   "metadata": {},
   "source": [
    "Load dataset with snapshot of 2014 pipeline snapshot and outcomes."
   ]
  },
  {
   "cell_type": "code",
   "execution_count": 2,
   "id": "civic-retirement",
   "metadata": {},
   "outputs": [],
   "source": [
    "mv_history = pd.read_csv('./data/pipeline_history.csv')"
   ]
  },
  {
   "cell_type": "markdown",
   "id": "governmental-manufacturer",
   "metadata": {},
   "source": [
    "The variable 'Built' indicates how much of the project was built by June 2022. The variable 'Units' indicates how large the project was as of June 2014 - or, if the project had no size listed in 2014, then the eventual size of the project. The variable 'Pg' indicates what page of the (2014 Planning Division Update)[https://web.archive.org/web/20140709150825/http://mountainview.gov/civicax/filebank/blobdload.aspx?BlobID=13170 ] the project is listed on. "
   ]
  },
  {
   "cell_type": "code",
   "execution_count": 3,
   "id": "micro-concentrate",
   "metadata": {},
   "outputs": [
    {
     "data": {
      "text/html": [
       "<div>\n",
       "<style scoped>\n",
       "    .dataframe tbody tr th:only-of-type {\n",
       "        vertical-align: middle;\n",
       "    }\n",
       "\n",
       "    .dataframe tbody tr th {\n",
       "        vertical-align: top;\n",
       "    }\n",
       "\n",
       "    .dataframe thead th {\n",
       "        text-align: right;\n",
       "    }\n",
       "</style>\n",
       "<table border=\"1\" class=\"dataframe\">\n",
       "  <thead>\n",
       "    <tr style=\"text-align: right;\">\n",
       "      <th></th>\n",
       "      <th>Address</th>\n",
       "      <th>Pg</th>\n",
       "      <th>Built</th>\n",
       "      <th>Units</th>\n",
       "    </tr>\n",
       "  </thead>\n",
       "  <tbody>\n",
       "    <tr>\n",
       "      <th>0</th>\n",
       "      <td>420 San Antonio</td>\n",
       "      <td>3</td>\n",
       "      <td>1.00</td>\n",
       "      <td>373</td>\n",
       "    </tr>\n",
       "    <tr>\n",
       "      <th>1</th>\n",
       "      <td>2580 California St</td>\n",
       "      <td>4</td>\n",
       "      <td>0.26</td>\n",
       "      <td>632</td>\n",
       "    </tr>\n",
       "    <tr>\n",
       "      <th>2</th>\n",
       "      <td>1701 ECR</td>\n",
       "      <td>7</td>\n",
       "      <td>1.00</td>\n",
       "      <td>24</td>\n",
       "    </tr>\n",
       "    <tr>\n",
       "      <th>3</th>\n",
       "      <td>1101 ECR</td>\n",
       "      <td>8</td>\n",
       "      <td>1.00</td>\n",
       "      <td>52</td>\n",
       "    </tr>\n",
       "    <tr>\n",
       "      <th>4</th>\n",
       "      <td>801 ECR</td>\n",
       "      <td>8</td>\n",
       "      <td>1.00</td>\n",
       "      <td>164</td>\n",
       "    </tr>\n",
       "  </tbody>\n",
       "</table>\n",
       "</div>"
      ],
      "text/plain": [
       "              Address  Pg  Built  Units\n",
       "0     420 San Antonio   3   1.00    373\n",
       "1  2580 California St   4   0.26    632\n",
       "2            1701 ECR   7   1.00     24\n",
       "3            1101 ECR   8   1.00     52\n",
       "4             801 ECR   8   1.00    164"
      ]
     },
     "execution_count": 3,
     "metadata": {},
     "output_type": "execute_result"
    }
   ],
   "source": [
    "mv_history.head()"
   ]
  },
  {
   "cell_type": "markdown",
   "id": "biological-algorithm",
   "metadata": {},
   "source": [
    "Load site inventory datasets."
   ]
  },
  {
   "cell_type": "code",
   "execution_count": 4,
   "id": "elder-falls",
   "metadata": {},
   "outputs": [],
   "source": [
    "si_geo = gpd.read_file('./data/MV_Site_Inventory/MV_Site_Inventory.shp')"
   ]
  },
  {
   "cell_type": "code",
   "execution_count": 5,
   "id": "stupid-trainer",
   "metadata": {},
   "outputs": [],
   "source": [
    "si = pd.read_csv('./data/hcd_table_a.csv', low_memory=False)\n",
    "si = si[~si.isna().all(axis=1)]\n",
    "si = si[:-1]"
   ]
  },
  {
   "cell_type": "code",
   "execution_count": 6,
   "id": "recreational-progressive",
   "metadata": {},
   "outputs": [],
   "source": [
    "permits = gpd.read_file('./data/all_permits.json')"
   ]
  },
  {
   "cell_type": "code",
   "execution_count": 7,
   "id": "opened-devil",
   "metadata": {},
   "outputs": [],
   "source": [
    "zoning = gpd.read_file('./data/Zoning_Districts/Zoning_Districts.shp')"
   ]
  },
  {
   "cell_type": "markdown",
   "id": "variable-seating",
   "metadata": {},
   "source": [
    "### Pending Projects History Analysis"
   ]
  },
  {
   "cell_type": "code",
   "execution_count": 8,
   "id": "classified-algorithm",
   "metadata": {},
   "outputs": [
    {
     "data": {
      "text/plain": [
       "0.6719286871961102"
      ]
     },
     "execution_count": 8,
     "metadata": {},
     "output_type": "execute_result"
    }
   ],
   "source": [
    "sum(mv_history.Units * mv_history.Built) / mv_history.Units.sum()"
   ]
  },
  {
   "cell_type": "code",
   "execution_count": 9,
   "id": "numerical-doctor",
   "metadata": {},
   "outputs": [
    {
     "data": {
      "text/plain": [
       "(-0.24156975644156864, 0.3048589611212049)"
      ]
     },
     "execution_count": 9,
     "metadata": {},
     "output_type": "execute_result"
    }
   ],
   "source": [
    "pearsonr(mv_history.Units, mv_history.Built)"
   ]
  },
  {
   "cell_type": "markdown",
   "id": "digital-package",
   "metadata": {},
   "source": [
    "### Pending Projects Predictions"
   ]
  },
  {
   "cell_type": "code",
   "execution_count": 13,
   "id": "funded-adelaide",
   "metadata": {},
   "outputs": [
    {
     "name": "stdout",
     "output_type": "stream",
     "text": [
      "Optimization terminated successfully    (Exit mode 0)\n",
      "            Current function value: 0.4578744955743205\n",
      "            Iterations: 50\n",
      "            Function evaluations: 480\n",
      "            Gradient evaluations: 50\n"
     ]
    }
   ],
   "source": [
    "np.random.seed(1)\n",
    "reg = sm.Logit(mv_history.Built, add_constant(mv_history.Units)).fit_regularized()\n",
    "\n",
    "def predict_success(n_units):\n",
    "    \"\"\"P(devs) adjusted for number of units in project.\"\"\"\n",
    "    return reg.predict([1, n_units])"
   ]
  },
  {
   "cell_type": "code",
   "execution_count": 14,
   "id": "optional-lloyd",
   "metadata": {},
   "outputs": [],
   "source": [
    "def predict_success_floor(n_units):\n",
    "    \"\"\"\n",
    "    P(devs) adjusted for number of units in project, with a floor that \n",
    "    pipeline sites are at least as likely to be developed as opportunity sites.\n",
    "    \"\"\"\n",
    "    return max(reg.predict([1, n_units]), .206)"
   ]
  },
  {
   "cell_type": "code",
   "execution_count": 15,
   "id": "apparent-honolulu",
   "metadata": {},
   "outputs": [],
   "source": [
    "pipeline = si[si['Optional Information 1'].str.contains('Pending')]"
   ]
  },
  {
   "cell_type": "markdown",
   "id": "vanilla-consultancy",
   "metadata": {},
   "source": [
    "This dataset excludes approved projects, which is why it has less total capacity than the draft claims."
   ]
  },
  {
   "cell_type": "code",
   "execution_count": 16,
   "id": "clean-toyota",
   "metadata": {},
   "outputs": [
    {
     "data": {
      "text/plain": [
       "6913.0"
      ]
     },
     "execution_count": 16,
     "metadata": {},
     "output_type": "execute_result"
    }
   ],
   "source": [
    "pipeline['Total Capacity'].sum()"
   ]
  },
  {
   "cell_type": "code",
   "execution_count": 17,
   "id": "institutional-billion",
   "metadata": {},
   "outputs": [
    {
     "data": {
      "text/plain": [
       "Pending Project    66\n",
       "Name: Site Status, dtype: int64"
      ]
     },
     "execution_count": 17,
     "metadata": {},
     "output_type": "execute_result"
    }
   ],
   "source": [
    "pipeline['Site Status'].value_counts()"
   ]
  },
  {
   "cell_type": "markdown",
   "id": "annual-dodge",
   "metadata": {},
   "source": [
    "#### Pipeline capacity with plain Logistic Regression"
   ]
  },
  {
   "cell_type": "code",
   "execution_count": 24,
   "id": "active-laser",
   "metadata": {},
   "outputs": [],
   "source": [
    "p_devs = pipeline['Total Capacity'].apply(predict_success)"
   ]
  },
  {
   "cell_type": "code",
   "execution_count": 25,
   "id": "monthly-minutes",
   "metadata": {},
   "outputs": [
    {
     "data": {
      "text/plain": [
       "2114.4157200269683"
      ]
     },
     "execution_count": 25,
     "metadata": {},
     "output_type": "execute_result"
    }
   ],
   "source": [
    "sum(p_devs * pipeline['Total Capacity']).item()"
   ]
  },
  {
   "cell_type": "code",
   "execution_count": 26,
   "id": "legislative-exemption",
   "metadata": {},
   "outputs": [
    {
     "data": {
      "text/plain": [
       "919.6555947279619"
      ]
     },
     "execution_count": 26,
     "metadata": {},
     "output_type": "execute_result"
    }
   ],
   "source": [
    "sum(p_devs * pipeline['Lower Income Capacity']).item()"
   ]
  },
  {
   "cell_type": "markdown",
   "id": "ranking-decimal",
   "metadata": {},
   "source": [
    "#### Pipeline capacity with constraint that P(dev | pipeline) > P(dev | opp) for all sites"
   ]
  },
  {
   "cell_type": "code",
   "execution_count": 27,
   "id": "incorporate-professional",
   "metadata": {},
   "outputs": [],
   "source": [
    "p_devs = pipeline['Total Capacity'].apply(predict_success_floor)"
   ]
  },
  {
   "cell_type": "code",
   "execution_count": 28,
   "id": "unauthorized-michigan",
   "metadata": {},
   "outputs": [
    {
     "data": {
      "text/plain": [
       "2804.1691536696494"
      ]
     },
     "execution_count": 28,
     "metadata": {},
     "output_type": "execute_result"
    }
   ],
   "source": [
    "sum(p_devs * pipeline['Total Capacity']).item() "
   ]
  },
  {
   "cell_type": "code",
   "execution_count": 29,
   "id": "interstate-culture",
   "metadata": {},
   "outputs": [
    {
     "data": {
      "text/plain": [
       "1027.8843652965609"
      ]
     },
     "execution_count": 29,
     "metadata": {},
     "output_type": "execute_result"
    }
   ],
   "source": [
    "sum(p_devs * pipeline['Lower Income Capacity']).item()"
   ]
  },
  {
   "cell_type": "markdown",
   "id": "bulgarian-championship",
   "metadata": {},
   "source": [
    "### Opportunity Sites"
   ]
  },
  {
   "cell_type": "code",
   "execution_count": 30,
   "id": "pretty-density",
   "metadata": {},
   "outputs": [],
   "source": [
    "opps = si[~si['Site Status'].str.contains('Pending')]"
   ]
  },
  {
   "cell_type": "code",
   "execution_count": 31,
   "id": "collaborative-traffic",
   "metadata": {},
   "outputs": [
    {
     "data": {
      "text/plain": [
       "P(38) - El Camino Real Precise Plan    55\n",
       "P(41) - East Whisman Precise Plan      15\n",
       "P(40) - San Antonio Precise Plan        9\n",
       "P(39) - North Bayshore Precise Plan     6\n",
       "CN                                      5\n",
       "CRA                                     4\n",
       "P(27) - Grant-Phyllis Precise Plan      2\n",
       "P(19) - Downtown Precise Plan           1\n",
       "Name: Zoning Designation (Current), dtype: int64"
      ]
     },
     "execution_count": 31,
     "metadata": {},
     "output_type": "execute_result"
    }
   ],
   "source": [
    "opps['Zoning Designation (Current)'].value_counts()"
   ]
  },
  {
   "cell_type": "markdown",
   "id": "rubber-smoke",
   "metadata": {},
   "source": [
    "Find opportunity sites for each of four major precise plan areas."
   ]
  },
  {
   "cell_type": "code",
   "execution_count": 32,
   "id": "subtle-hypothesis",
   "metadata": {},
   "outputs": [],
   "source": [
    "ecr = opps[opps['Zoning Designation (Current)'].str.contains(\"El Camino Real\")]"
   ]
  },
  {
   "cell_type": "code",
   "execution_count": 33,
   "id": "intellectual-edinburgh",
   "metadata": {},
   "outputs": [],
   "source": [
    "ew = opps[opps['Zoning Designation (Current)'].str.contains(\"East Whisman\")]"
   ]
  },
  {
   "cell_type": "code",
   "execution_count": 34,
   "id": "superior-violation",
   "metadata": {},
   "outputs": [],
   "source": [
    "sa = opps[opps['Zoning Designation (Current)'].str.contains(\"San Antonio\")]"
   ]
  },
  {
   "cell_type": "code",
   "execution_count": 35,
   "id": "social-grammar",
   "metadata": {},
   "outputs": [],
   "source": [
    "nb = opps[opps['Zoning Designation (Current)'].str.contains(\"North Bayshore\")]"
   ]
  },
  {
   "cell_type": "markdown",
   "id": "nuclear-maria",
   "metadata": {},
   "source": [
    "There are 55 opportunity sites in El Camino Real Precise Plan, 15 in the East Whisman precise plan, 9 in the San Antonio precise plan, and 6 in the North Bayshore precise plan."
   ]
  },
  {
   "cell_type": "code",
   "execution_count": 36,
   "id": "sized-textbook",
   "metadata": {},
   "outputs": [
    {
     "data": {
      "text/plain": [
       "(55, 15, 9, 6)"
      ]
     },
     "execution_count": 36,
     "metadata": {},
     "output_type": "execute_result"
    }
   ],
   "source": [
    "len(ecr), len(ew), len(sa), len(nb)"
   ]
  },
  {
   "cell_type": "markdown",
   "id": "acknowledged-moldova",
   "metadata": {},
   "source": [
    "### Cleaning permits dataset"
   ]
  },
  {
   "cell_type": "markdown",
   "id": "specific-roberts",
   "metadata": {},
   "source": [
    "Half of older permits have same geometry."
   ]
  },
  {
   "cell_type": "code",
   "execution_count": 37,
   "id": "incorrect-neighborhood",
   "metadata": {},
   "outputs": [],
   "source": [
    "permits.apn = permits.apn.str.split('-').str.join('')"
   ]
  },
  {
   "cell_type": "code",
   "execution_count": 38,
   "id": "authentic-glass",
   "metadata": {},
   "outputs": [],
   "source": [
    "permits.apn = permits.apn.str.replace('Â\\xa0', '').values.tolist()"
   ]
  },
  {
   "cell_type": "code",
   "execution_count": 39,
   "id": "naval-overview",
   "metadata": {},
   "outputs": [],
   "source": [
    "permits.apn = permits.apn.str.strip()"
   ]
  },
  {
   "cell_type": "code",
   "execution_count": 40,
   "id": "dynamic-advertising",
   "metadata": {},
   "outputs": [],
   "source": [
    "permits = permits[(~permits.apn.duplicated()) | (permits.apn.isnull())]"
   ]
  },
  {
   "cell_type": "code",
   "execution_count": 41,
   "id": "reasonable-january",
   "metadata": {},
   "outputs": [],
   "source": [
    "permits = gpd.sjoin(permits, zoning.to_crs('EPSG:4326'))"
   ]
  },
  {
   "cell_type": "code",
   "execution_count": 42,
   "id": "cheap-producer",
   "metadata": {},
   "outputs": [
    {
     "data": {
      "text/plain": [
       "(array([1., 0., 0., 0., 0., 0., 0., 0., 0., 1.]),\n",
       " array([2018. , 2018.3, 2018.6, 2018.9, 2019.2, 2019.5, 2019.8, 2020.1,\n",
       "        2020.4, 2020.7, 2021. ]),\n",
       " <BarContainer object of 10 artists>)"
      ]
     },
     "execution_count": 42,
     "metadata": {},
     "output_type": "execute_result"
    },
    {
     "data": {
      "image/png": "[encoded data removed]",
      "text/plain": [
       "<Figure size 432x288 with 1 Axes>"
      ]
     },
     "metadata": {
      "needs_background": "light"
     },
     "output_type": "display_data"
    }
   ],
   "source": [
    "plt.hist(permits[permits.PRECPLAN == 'P(39)'].permyear)"
   ]
  },
  {
   "cell_type": "code",
   "execution_count": 43,
   "id": "productive-zimbabwe",
   "metadata": {},
   "outputs": [],
   "source": [
    "pp_permits = permits['PRECPLAN'].value_counts()"
   ]
  },
  {
   "cell_type": "code",
   "execution_count": 44,
   "id": "exceptional-breast",
   "metadata": {},
   "outputs": [],
   "source": [
    "ecr_ppid = 'P(38)'\n",
    "nbs_ppid = 'P(39)'\n",
    "sa_ppid = 'P(40)'\n",
    "ew_ppid = 'P(41)'"
   ]
  },
  {
   "cell_type": "code",
   "execution_count": 46,
   "id": "affected-relaxation",
   "metadata": {},
   "outputs": [],
   "source": [
    "ecr_yrs, ew_yrs, sa_yrs, nbs_yrs = 8, 3, 8, 5"
   ]
  },
  {
   "cell_type": "code",
   "execution_count": 47,
   "id": "early-spirit",
   "metadata": {},
   "outputs": [],
   "source": [
    "ecr_exp = pp_permits[ecr_ppid] / ecr_yrs * 8"
   ]
  },
  {
   "cell_type": "code",
   "execution_count": 48,
   "id": "humanitarian-cheese",
   "metadata": {},
   "outputs": [
    {
     "data": {
      "text/plain": [
       "3.125"
      ]
     },
     "execution_count": 48,
     "metadata": {},
     "output_type": "execute_result"
    }
   ],
   "source": [
    "pp_permits[ecr_ppid] / ecr_yrs"
   ]
  },
  {
   "cell_type": "code",
   "execution_count": 49,
   "id": "handmade-emission",
   "metadata": {},
   "outputs": [],
   "source": [
    "nbs_exp = pp_permits[nbs_ppid] / nbs_yrs * 8"
   ]
  },
  {
   "cell_type": "code",
   "execution_count": 50,
   "id": "affected-transparency",
   "metadata": {},
   "outputs": [
    {
     "data": {
      "text/plain": [
       "0.4"
      ]
     },
     "execution_count": 50,
     "metadata": {},
     "output_type": "execute_result"
    }
   ],
   "source": [
    "pp_permits[nbs_ppid] / nbs_yrs"
   ]
  },
  {
   "cell_type": "code",
   "execution_count": 51,
   "id": "cardiac-shoot",
   "metadata": {},
   "outputs": [],
   "source": [
    "sa_exp = pp_permits[sa_ppid] / sa_yrs * 8"
   ]
  },
  {
   "cell_type": "code",
   "execution_count": 52,
   "id": "canadian-robinson",
   "metadata": {},
   "outputs": [
    {
     "data": {
      "text/plain": [
       "0.875"
      ]
     },
     "execution_count": 52,
     "metadata": {},
     "output_type": "execute_result"
    }
   ],
   "source": [
    "pp_permits[sa_ppid] / sa_yrs"
   ]
  },
  {
   "cell_type": "code",
   "execution_count": 53,
   "id": "czech-honor",
   "metadata": {},
   "outputs": [],
   "source": [
    "ew_exp = pp_permits[ew_ppid] / ew_yrs * 8"
   ]
  },
  {
   "cell_type": "code",
   "execution_count": 54,
   "id": "binary-capability",
   "metadata": {},
   "outputs": [
    {
     "data": {
      "text/plain": [
       "0.6666666666666666"
      ]
     },
     "execution_count": 54,
     "metadata": {},
     "output_type": "execute_result"
    }
   ],
   "source": [
    "pp_permits[ew_ppid] / ew_yrs"
   ]
  },
  {
   "cell_type": "code",
   "execution_count": 55,
   "id": "entire-relation",
   "metadata": {},
   "outputs": [
    {
     "name": "stdout",
     "output_type": "stream",
     "text": [
      "For ecr the city claims 55 projects in 8 years  but historical trends suggest\n",
      "25 is more reasonable. That'd discount their site capacity claims by 0.55 %\n",
      "\n",
      "\n",
      "For ew the city claims 15 projects in 8 years  but historical trends suggest\n",
      "5 is more reasonable. That'd discount their site capacity claims by 0.67 %\n",
      "\n",
      "\n",
      "For sa the city claims 9 projects in 8 years  but historical trends suggest\n",
      "7 is more reasonable. That'd discount their site capacity claims by 0.22 %\n",
      "\n",
      "\n",
      "For nb the city claims 6 projects in 8 years  but historical trends suggest\n",
      "3 is more reasonable. That'd discount their site capacity claims by 0.5 %\n",
      "\n",
      "\n"
     ]
    }
   ],
   "source": [
    "for pp, name, expect in zip([ecr, ew, sa, nb], ['ecr', 'ew', 'sa', 'nb'], [ecr_exp, ew_exp, sa_exp, nbs_exp]):\n",
    "    print('For', name, 'the city claims', len(pp), 'projects in 8 years', ' but historical trends suggest')\n",
    "    print(int(round(expect, 0)), \"is more reasonable. That'd discount their site capacity claims by\", round(1 - (int(round(expect,0)) / len(pp)), 2), '%')\n",
    "    print('\\n')"
   ]
  },
  {
   "cell_type": "code",
   "execution_count": 56,
   "id": "dominant-index",
   "metadata": {},
   "outputs": [
    {
     "name": "stdout",
     "output_type": "stream",
     "text": [
      "For ecr the city claims 55 projects in 8 years, but historical trends suggest\n",
      "25 is more reasonable. That'd inflate their site capacity claims by 120 %\n",
      "\n",
      "\n",
      "For ew the city claims 15 projects in 8 years, but historical trends suggest\n",
      "5 is more reasonable. That'd inflate their site capacity claims by 181 %\n",
      "\n",
      "\n",
      "For sa the city claims 9 projects in 8 years, but historical trends suggest\n",
      "7 is more reasonable. That'd inflate their site capacity claims by 29 %\n",
      "\n",
      "\n",
      "For nb the city claims 6 projects in 8 years, but historical trends suggest\n",
      "3 is more reasonable. That'd inflate their site capacity claims by 88 %\n",
      "\n",
      "\n"
     ]
    }
   ],
   "source": [
    "for pp, name, expect in zip([ecr, ew, sa, nb], ['ecr', 'ew', 'sa', 'nb'], [ecr_exp, ew_exp, sa_exp, nbs_exp]):\n",
    "    print('For', name, 'the city claims', len(pp), 'projects in 8 years, but historical trends suggest')\n",
    "    print(int(round(expect, 0)), \"is more reasonable. That'd inflate their site capacity claims by\", \n",
    "          int(round(round(len(pp) / expect, 3)*100 - 100, 0)), '%')\n",
    "    print('\\n')"
   ]
  },
  {
   "cell_type": "code",
   "execution_count": 74,
   "id": "checked-biology",
   "metadata": {},
   "outputs": [],
   "source": [
    "ecr_li, ecr_tot = 1283, 2530\n",
    "ew_li, ew_tot = 997, 1312\n",
    "sa_li, sa_tot = 182, 325\n",
    "nb_li, nb_tot = 313, 405\n",
    "run_sum_li, run_sum_tot = 0, 0"
   ]
  },
  {
   "cell_type": "code",
   "execution_count": 75,
   "id": "optional-hostel",
   "metadata": {},
   "outputs": [
    {
     "name": "stdout",
     "output_type": "stream",
     "text": [
      "For ecr 699.8181818181818\n",
      "\n",
      "\n",
      "For ecr 1380.0\n",
      "\n",
      "\n",
      "For ew 642.5111111111112\n",
      "\n",
      "\n",
      "For ew 845.5111111111112\n",
      "\n",
      "\n",
      "For sa 40.44444444444444\n",
      "\n",
      "\n",
      "For sa 72.22222222222221\n",
      "\n",
      "\n",
      "For nb 146.06666666666666\n",
      "\n",
      "\n",
      "For nb 189.0\n",
      "\n",
      "\n"
     ]
    }
   ],
   "source": [
    "for pp, name, expect, li, tot in zip([ecr, ew, sa, nb], \n",
    "                                ['ecr', 'ew', 'sa', 'nb'], \n",
    "                                [ecr_exp, ew_exp, sa_exp, nbs_exp],\n",
    "                                [ecr_li, ew_li, sa_li, nb_li],\n",
    "                                [ecr_tot, ew_tot, sa_tot, nb_tot]):\n",
    "    print('For', name, li*(1 - expect / len(pp)))\n",
    "    print('\\n')\n",
    "    print('For', name, tot*(1 - expect / len(pp)))\n",
    "    print('\\n')\n",
    "    run_sum_li += li*(1 - expect / len(pp))\n",
    "    run_sum_tot += tot*(1 - expect / len(pp))"
   ]
  },
  {
   "cell_type": "code",
   "execution_count": 62,
   "id": "limited-central",
   "metadata": {},
   "outputs": [
    {
     "data": {
      "text/plain": [
       "1528.8404040404039"
      ]
     },
     "execution_count": 62,
     "metadata": {},
     "output_type": "execute_result"
    }
   ],
   "source": [
    "run_sum_li"
   ]
  },
  {
   "cell_type": "code",
   "execution_count": 63,
   "id": "younger-georgia",
   "metadata": {},
   "outputs": [
    {
     "data": {
      "text/plain": [
       "2486.733333333333"
      ]
     },
     "execution_count": 63,
     "metadata": {},
     "output_type": "execute_result"
    }
   ],
   "source": [
    "run_sum_tot"
   ]
  },
  {
   "cell_type": "code",
   "execution_count": 70,
   "id": "fabulous-strand",
   "metadata": {},
   "outputs": [
    {
     "data": {
      "text/plain": [
       "3015.266666666667"
      ]
     },
     "execution_count": 70,
     "metadata": {},
     "output_type": "execute_result"
    }
   ],
   "source": [
    "5502 - run_sum_tot"
   ]
  },
  {
   "cell_type": "code",
   "execution_count": 71,
   "id": "painful-quest",
   "metadata": {},
   "outputs": [
    {
     "data": {
      "text/plain": [
       "1711.1595959595961"
      ]
     },
     "execution_count": 71,
     "metadata": {},
     "output_type": "execute_result"
    }
   ],
   "source": [
    "3240 - run_sum_li"
   ]
  },
  {
   "cell_type": "code",
   "execution_count": 69,
   "id": "increased-conditions",
   "metadata": {},
   "outputs": [
    {
     "data": {
      "text/plain": [
       "3240"
      ]
     },
     "execution_count": 69,
     "metadata": {},
     "output_type": "execute_result"
    }
   ],
   "source": [
    "2775 + 465\n"
   ]
  },
  {
   "cell_type": "code",
   "execution_count": 68,
   "id": "acknowledged-lying",
   "metadata": {},
   "outputs": [
    {
     "data": {
      "text/plain": [
       "5502"
      ]
     },
     "execution_count": 68,
     "metadata": {},
     "output_type": "execute_result"
    }
   ],
   "source": [
    "4698 + 804"
   ]
  },
  {
   "cell_type": "code",
   "execution_count": null,
   "id": "sustained-setup",
   "metadata": {},
   "outputs": [],
   "source": []
  }
 ],
 "metadata": {
  "kernelspec": {
   "display_name": "Python 3",
   "language": "python",
   "name": "python3"
  },
  "language_info": {
   "codemirror_mode": {
    "name": "ipython",
    "version": 3
   },
   "file_extension": ".py",
   "mimetype": "text/x-python",
   "name": "python",
   "nbconvert_exporter": "python",
   "pygments_lexer": "ipython3",
   "version": "3.8.9"
  }
 },
 "nbformat": 4,
 "nbformat_minor": 5
}
