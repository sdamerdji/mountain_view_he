{
 "cells": [
  {
   "cell_type": "code",
   "execution_count": 10,
   "id": "veterinary-compilation",
   "metadata": {},
   "outputs": [],
   "source": [
    "import pandas as pd\n",
    "from scipy.stats import pearsonr"
   ]
  },
  {
   "cell_type": "code",
   "execution_count": 7,
   "id": "passing-theory",
   "metadata": {},
   "outputs": [],
   "source": [
    "mv_history = pd.read_csv('./data/pipeline_history.csv')"
   ]
  },
  {
   "cell_type": "code",
   "execution_count": 14,
   "id": "historic-preliminary",
   "metadata": {},
   "outputs": [
    {
     "data": {
      "text/plain": [
       "0.6719286871961102"
      ]
     },
     "execution_count": 14,
     "metadata": {},
     "output_type": "execute_result"
    }
   ],
   "source": [
    "sum(mv_history.Units * mv_history.Built) / mv_history.Units.sum()"
   ]
  }
 ],
 "metadata": {
  "kernelspec": {
   "display_name": "Python 3",
   "language": "python",
   "name": "python3"
  },
  "language_info": {
   "codemirror_mode": {
    "name": "ipython",
    "version": 3
   },
   "file_extension": ".py",
   "mimetype": "text/x-python",
   "name": "python",
   "nbconvert_exporter": "python",
   "pygments_lexer": "ipython3",
   "version": "3.8.9"
  }
 },
 "nbformat": 4,
 "nbformat_minor": 5
}
