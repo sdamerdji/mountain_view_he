{
 "cells": [
  {
   "cell_type": "code",
   "execution_count": 251,
   "id": "nominated-alaska",
   "metadata": {},
   "outputs": [],
   "source": [
    "import pandas as pd\n",
    "import geopandas as gpd\n",
    "from scipy.stats import pearsonr\n",
    "import matplotlib.pyplot as plt\n",
    "from statsmodels.tools.tools import add_constant\n",
    "import numpy as np"
   ]
  },
  {
   "cell_type": "markdown",
   "id": "ceramic-residence",
   "metadata": {},
   "source": [
    "### Load data"
   ]
  },
  {
   "cell_type": "markdown",
   "id": "directed-middle",
   "metadata": {},
   "source": [
    "Load dataset with snapshot of 2014 pipeline snapshot and outcomes."
   ]
  },
  {
   "cell_type": "code",
   "execution_count": 7,
   "id": "contained-xerox",
   "metadata": {},
   "outputs": [],
   "source": [
    "mv_history = pd.read_csv('./data/pipeline_history.csv')"
   ]
  },
  {
   "cell_type": "code",
   "execution_count": 15,
   "id": "robust-fight",
   "metadata": {},
   "outputs": [
    {
     "data": {
      "text/html": [
       "<div>\n",
       "<style scoped>\n",
       "    .dataframe tbody tr th:only-of-type {\n",
       "        vertical-align: middle;\n",
       "    }\n",
       "\n",
       "    .dataframe tbody tr th {\n",
       "        vertical-align: top;\n",
       "    }\n",
       "\n",
       "    .dataframe thead th {\n",
       "        text-align: right;\n",
       "    }\n",
       "</style>\n",
       "<table border=\"1\" class=\"dataframe\">\n",
       "  <thead>\n",
       "    <tr style=\"text-align: right;\">\n",
       "      <th></th>\n",
       "      <th>Address</th>\n",
       "      <th>Pg</th>\n",
       "      <th>Built</th>\n",
       "      <th>Units</th>\n",
       "    </tr>\n",
       "  </thead>\n",
       "  <tbody>\n",
       "    <tr>\n",
       "      <th>0</th>\n",
       "      <td>420 San Antonio</td>\n",
       "      <td>3</td>\n",
       "      <td>1.00</td>\n",
       "      <td>373</td>\n",
       "    </tr>\n",
       "    <tr>\n",
       "      <th>1</th>\n",
       "      <td>2580 California St</td>\n",
       "      <td>4</td>\n",
       "      <td>0.26</td>\n",
       "      <td>632</td>\n",
       "    </tr>\n",
       "    <tr>\n",
       "      <th>2</th>\n",
       "      <td>1701 ECR</td>\n",
       "      <td>7</td>\n",
       "      <td>1.00</td>\n",
       "      <td>24</td>\n",
       "    </tr>\n",
       "    <tr>\n",
       "      <th>3</th>\n",
       "      <td>1101 ECR</td>\n",
       "      <td>8</td>\n",
       "      <td>1.00</td>\n",
       "      <td>52</td>\n",
       "    </tr>\n",
       "    <tr>\n",
       "      <th>4</th>\n",
       "      <td>801 ECR</td>\n",
       "      <td>8</td>\n",
       "      <td>1.00</td>\n",
       "      <td>164</td>\n",
       "    </tr>\n",
       "  </tbody>\n",
       "</table>\n",
       "</div>"
      ],
      "text/plain": [
       "              Address  Pg  Built  Units\n",
       "0     420 San Antonio   3   1.00    373\n",
       "1  2580 California St   4   0.26    632\n",
       "2            1701 ECR   7   1.00     24\n",
       "3            1101 ECR   8   1.00     52\n",
       "4             801 ECR   8   1.00    164"
      ]
     },
     "execution_count": 15,
     "metadata": {},
     "output_type": "execute_result"
    }
   ],
   "source": [
    "mv_history.head()"
   ]
  },
  {
   "cell_type": "markdown",
   "id": "wanted-faculty",
   "metadata": {},
   "source": [
    "Load site inventory datasets."
   ]
  },
  {
   "cell_type": "code",
   "execution_count": null,
   "id": "binding-forestry",
   "metadata": {},
   "outputs": [],
   "source": [
    "si_geo = gpd.read_file('./data/MV_Site_Inventory/MV_Site_Inventory.shp')"
   ]
  },
  {
   "cell_type": "code",
   "execution_count": 66,
   "id": "pregnant-roommate",
   "metadata": {},
   "outputs": [],
   "source": [
    "si = pd.read_csv('./data/hcd_table_a.csv', low_memory=False)\n",
    "si = si[~si.isna().all(axis=1)]\n",
    "si = si[:-1]"
   ]
  },
  {
   "cell_type": "code",
   "execution_count": 303,
   "id": "chicken-blackberry",
   "metadata": {},
   "outputs": [],
   "source": [
    "newer_permits = gpd.read_file('./data/newer_permits.json')"
   ]
  },
  {
   "cell_type": "code",
   "execution_count": 252,
   "id": "through-status",
   "metadata": {},
   "outputs": [],
   "source": [
    "ABAG = None\n",
    "def load_abag_permits() -> gpd.GeoDataFrame:\n",
    "    \"\"\"\n",
    "    Loads all 2013-2017 building permits from ABAG as a GeoDataFrame.\n",
    "    \"\"\"\n",
    "    global ABAG\n",
    "    if ABAG is None:\n",
    "        geometry_df = gpd.read_file(\"./data/abag_permits/permits.shp\")\n",
    "        data_df = pd.read_csv(\"./data/abag_permits/permits.csv\")\n",
    "\n",
    "        # There shouldn't be any rows with geometry data that don't have label data\n",
    "        assert geometry_df[\"joinid\"].isin(data_df[\"joinid\"]).all()\n",
    "\n",
    "        ABAG = gpd.GeoDataFrame(data_df.merge(geometry_df, how=\"left\", on=\"joinid\"))\n",
    "\n",
    "    # Filter out permits from before the start of the 5th Housing Element cycle.\n",
    "    ABAG = ABAG[ABAG['permyear'] >= 2015].copy()\n",
    "\n",
    "    ABAG['apn'] = ABAG['apn'].replace({np.nan: None})\n",
    "\n",
    "    return ABAG"
   ]
  },
  {
   "cell_type": "code",
   "execution_count": 264,
   "id": "polar-saudi",
   "metadata": {},
   "outputs": [],
   "source": [
    "abag_perms = load_abag_permits()\n",
    "older_permits = abag_perms[(abag_perms['jurisdictn'] == 'Mountain View')]"
   ]
  },
  {
   "cell_type": "code",
   "execution_count": 265,
   "id": "sudden-filling",
   "metadata": {},
   "outputs": [
    {
     "data": {
      "text/plain": [
       "Index(['objectid', 'joinid', 'permyear', 'county', 'jurisdictn', 'apn',\n",
       "       'address', 'zip', 'projname', 'hcategory', 'vlowdr', 'vlowndr',\n",
       "       'vlowtot', 'lowdr', 'lowndr', 'lowtot', 'moddr', 'modndr', 'modtot',\n",
       "       'amodtot', 'totalunit', 'tenure', 'mapped', 'mapnotes', 'pda',\n",
       "       'pdacycle', 'pdajoinid', 'tpa', 'tpacycle', 'hsngsite', 'rhnacycle',\n",
       "       'notes', 'ObjectId2', 'OBJECTID', 'geometry'],\n",
       "      dtype='object')"
      ]
     },
     "execution_count": 265,
     "metadata": {},
     "output_type": "execute_result"
    }
   ],
   "source": [
    "older_permits.columns"
   ]
  },
  {
   "cell_type": "code",
   "execution_count": 273,
   "id": "cognitive-conflict",
   "metadata": {},
   "outputs": [],
   "source": [
    "zoning = gpd.read_file('./data/Zoning_Districts/Zoning_Districts.shp')"
   ]
  },
  {
   "cell_type": "markdown",
   "id": "suffering-satin",
   "metadata": {},
   "source": [
    "### Pipeline History Analysis"
   ]
  },
  {
   "cell_type": "code",
   "execution_count": 14,
   "id": "complete-dealer",
   "metadata": {},
   "outputs": [
    {
     "data": {
      "text/plain": [
       "0.6719286871961102"
      ]
     },
     "execution_count": 14,
     "metadata": {},
     "output_type": "execute_result"
    }
   ],
   "source": [
    "sum(mv_history.Units * mv_history.Built) / mv_history.Units.sum()"
   ]
  },
  {
   "cell_type": "code",
   "execution_count": 16,
   "id": "blond-owner",
   "metadata": {},
   "outputs": [
    {
     "data": {
      "text/plain": [
       "(-0.24156975644156864, 0.3048589611212049)"
      ]
     },
     "execution_count": 16,
     "metadata": {},
     "output_type": "execute_result"
    }
   ],
   "source": [
    "pearsonr(mv_history.Units, mv_history.Built)"
   ]
  },
  {
   "cell_type": "markdown",
   "id": "destroyed-apartment",
   "metadata": {},
   "source": [
    "### Pipeline Predictions"
   ]
  },
  {
   "cell_type": "code",
   "execution_count": 153,
   "id": "valued-casting",
   "metadata": {},
   "outputs": [
    {
     "name": "stdout",
     "output_type": "stream",
     "text": [
      "Optimization terminated successfully    (Exit mode 0)\n",
      "            Current function value: 0.4578744955743205\n",
      "            Iterations: 50\n",
      "            Function evaluations: 480\n",
      "            Gradient evaluations: 50\n"
     ]
    }
   ],
   "source": [
    "reg = sm.Logit(mv_history.Built, add_constant(mv_history.Units)).fit_regularized()\n",
    "\n",
    "def predict_success(n_units):\n",
    "    \"\"\"P(devs) adjusted for number of units in project.\"\"\"\n",
    "    return reg.predict([1, n_units])"
   ]
  },
  {
   "cell_type": "code",
   "execution_count": 154,
   "id": "expensive-apache",
   "metadata": {},
   "outputs": [],
   "source": [
    "def predict_success_floor(n_units):\n",
    "    \"\"\"\n",
    "    P(devs) adjusted for number of units in project, with a floor that \n",
    "    pipeline sites are at least as likely to be developed as opportunity sites.\n",
    "    \"\"\"\n",
    "    return max(reg.predict([1, n_units]), .206)"
   ]
  },
  {
   "cell_type": "code",
   "execution_count": 91,
   "id": "scenic-minimum",
   "metadata": {},
   "outputs": [],
   "source": [
    "pipeline = si[si['Optional Information 1'].str.contains('Pending')]"
   ]
  },
  {
   "cell_type": "markdown",
   "id": "adjacent-cooler",
   "metadata": {},
   "source": [
    "This dataset excludes approved projects, which is why it has less total capacity than the draft claims."
   ]
  },
  {
   "cell_type": "code",
   "execution_count": 139,
   "id": "impressed-shanghai",
   "metadata": {},
   "outputs": [
    {
     "data": {
      "text/plain": [
       "6913.0"
      ]
     },
     "execution_count": 139,
     "metadata": {},
     "output_type": "execute_result"
    }
   ],
   "source": [
    "pipeline['Total Capacity'].sum()"
   ]
  },
  {
   "cell_type": "code",
   "execution_count": 99,
   "id": "fatty-leone",
   "metadata": {},
   "outputs": [
    {
     "data": {
      "text/plain": [
       "Pending Project    66\n",
       "Name: Site Status, dtype: int64"
      ]
     },
     "execution_count": 99,
     "metadata": {},
     "output_type": "execute_result"
    }
   ],
   "source": [
    "pipeline['Site Status'].value_counts()"
   ]
  },
  {
   "cell_type": "markdown",
   "id": "connected-hartford",
   "metadata": {},
   "source": [
    "#### Pipeline capacity with plain Logistic Regression"
   ]
  },
  {
   "cell_type": "code",
   "execution_count": 171,
   "id": "concerned-retreat",
   "metadata": {},
   "outputs": [],
   "source": [
    "n_approved_units = 1847\n",
    "n_approved_li_units = 226\n",
    "p_devs = pipeline['Total Capacity'].apply(predict_success)"
   ]
  },
  {
   "cell_type": "code",
   "execution_count": 172,
   "id": "above-court",
   "metadata": {},
   "outputs": [
    {
     "data": {
      "text/plain": [
       "3961.4157200269683"
      ]
     },
     "execution_count": 172,
     "metadata": {},
     "output_type": "execute_result"
    }
   ],
   "source": [
    "sum(p_devs * pipeline['Total Capacity']).item() + n_approved_units"
   ]
  },
  {
   "cell_type": "code",
   "execution_count": 173,
   "id": "bright-craft",
   "metadata": {},
   "outputs": [
    {
     "data": {
      "text/plain": [
       "1145.655594727962"
      ]
     },
     "execution_count": 173,
     "metadata": {},
     "output_type": "execute_result"
    }
   ],
   "source": [
    "sum(p_devs * pipeline['Lower Income Capacity']).item() + n_approved_li_units"
   ]
  },
  {
   "cell_type": "markdown",
   "id": "sublime-customer",
   "metadata": {},
   "source": [
    "1847 is the number of total units in approved projects. This capacity is excluded from excel sheet."
   ]
  },
  {
   "cell_type": "markdown",
   "id": "spiritual-nelson",
   "metadata": {},
   "source": [
    "#### Pipeline capacity with constraint that P(dev | pipeline) > P(dev | opp) for all sites"
   ]
  },
  {
   "cell_type": "code",
   "execution_count": 174,
   "id": "understanding-greene",
   "metadata": {},
   "outputs": [],
   "source": [
    "p_devs = pipeline['Total Capacity'].apply(predict_success_floor)"
   ]
  },
  {
   "cell_type": "code",
   "execution_count": 175,
   "id": "needed-wireless",
   "metadata": {},
   "outputs": [
    {
     "data": {
      "text/plain": [
       "4651.169153669649"
      ]
     },
     "execution_count": 175,
     "metadata": {},
     "output_type": "execute_result"
    }
   ],
   "source": [
    "sum(p_devs * pipeline['Total Capacity']).item() + n_approved_units"
   ]
  },
  {
   "cell_type": "code",
   "execution_count": 176,
   "id": "acquired-academy",
   "metadata": {},
   "outputs": [
    {
     "data": {
      "text/plain": [
       "1253.8843652965609"
      ]
     },
     "execution_count": 176,
     "metadata": {},
     "output_type": "execute_result"
    }
   ],
   "source": [
    "sum(p_devs * pipeline['Lower Income Capacity']).item() + n_approved_li_units"
   ]
  },
  {
   "cell_type": "markdown",
   "id": "crucial-floor",
   "metadata": {},
   "source": [
    "### Opportunity Sites"
   ]
  },
  {
   "cell_type": "code",
   "execution_count": 181,
   "id": "international-assumption",
   "metadata": {},
   "outputs": [],
   "source": [
    "opps = si[~si['Site Status'].str.contains('Pending')]"
   ]
  },
  {
   "cell_type": "code",
   "execution_count": 185,
   "id": "compound-furniture",
   "metadata": {},
   "outputs": [
    {
     "data": {
      "text/plain": [
       "(array([20., 28.,  8., 21.,  8.,  3.,  2.,  1.,  0.,  1.,  1.,  0.,  0.,\n",
       "         0.,  0.,  0.,  1.,  1.,  0.,  1.,  0.,  0.,  0.,  0.,  0.,  0.,\n",
       "         0.,  0.,  0.,  1.]),\n",
       " array([0.1  , 0.362, 0.624, 0.886, 1.148, 1.41 , 1.672, 1.934, 2.196,\n",
       "        2.458, 2.72 , 2.982, 3.244, 3.506, 3.768, 4.03 , 4.292, 4.554,\n",
       "        4.816, 5.078, 5.34 , 5.602, 5.864, 6.126, 6.388, 6.65 , 6.912,\n",
       "        7.174, 7.436, 7.698, 7.96 ]),\n",
       " <BarContainer object of 30 artists>)"
      ]
     },
     "execution_count": 185,
     "metadata": {},
     "output_type": "execute_result"
    },
    {
     "data": {
      "image/png": "[encoded data removed]",
      "text/plain": [
       "<Figure size 432x288 with 1 Axes>"
      ]
     },
     "metadata": {
      "needs_background": "light"
     },
     "output_type": "display_data"
    }
   ],
   "source": [
    "plt.hist(opps['Parcel Size (Acres)'], bins=30)"
   ]
  },
  {
   "cell_type": "code",
   "execution_count": 186,
   "id": "governmental-fight",
   "metadata": {},
   "outputs": [
    {
     "data": {
      "text/plain": [
       "34"
      ]
     },
     "execution_count": 186,
     "metadata": {},
     "output_type": "execute_result"
    }
   ],
   "source": [
    "sum(opps['Parcel Size (Acres)'] < .5)"
   ]
  },
  {
   "cell_type": "code",
   "execution_count": 197,
   "id": "surprising-gothic",
   "metadata": {},
   "outputs": [
    {
     "data": {
      "text/plain": [
       "P(38) - El Camino Real Precise Plan    55\n",
       "P(41) - East Whisman Precise Plan      15\n",
       "P(40) - San Antonio Precise Plan        9\n",
       "P(39) - North Bayshore Precise Plan     6\n",
       "CN                                      5\n",
       "CRA                                     4\n",
       "P(27) - Grant-Phyllis Precise Plan      2\n",
       "P(19) - Downtown Precise Plan           1\n",
       "Name: Zoning Designation (Current), dtype: int64"
      ]
     },
     "execution_count": 197,
     "metadata": {},
     "output_type": "execute_result"
    }
   ],
   "source": [
    "opps['Zoning Designation (Current)'].value_counts()"
   ]
  },
  {
   "cell_type": "code",
   "execution_count": 204,
   "id": "recent-constitutional",
   "metadata": {},
   "outputs": [],
   "source": [
    "ecr = opps[opps['Zoning Designation (Current)'].str.contains(\"El Camino Real\")]"
   ]
  },
  {
   "cell_type": "code",
   "execution_count": 205,
   "id": "binding-perception",
   "metadata": {},
   "outputs": [],
   "source": [
    "ew = opps[opps['Zoning Designation (Current)'].str.contains(\"East Whisman\")]"
   ]
  },
  {
   "cell_type": "code",
   "execution_count": 206,
   "id": "leading-perception",
   "metadata": {},
   "outputs": [],
   "source": [
    "sa = opps[opps['Zoning Designation (Current)'].str.contains(\"San Antonio\")]"
   ]
  },
  {
   "cell_type": "code",
   "execution_count": 207,
   "id": "convenient-capture",
   "metadata": {},
   "outputs": [],
   "source": [
    "nb = opps[opps['Zoning Designation (Current)'].str.contains(\"North Bayshore\")]"
   ]
  },
  {
   "cell_type": "code",
   "execution_count": 211,
   "id": "viral-utilization",
   "metadata": {},
   "outputs": [
    {
     "data": {
      "text/plain": [
       "(55, 15, 9, 6)"
      ]
     },
     "execution_count": 211,
     "metadata": {},
     "output_type": "execute_result"
    }
   ],
   "source": [
    "len(ecr), len(ew), len(sa), len(nb)"
   ]
  },
  {
   "cell_type": "code",
   "execution_count": 213,
   "id": "optimum-corps",
   "metadata": {},
   "outputs": [
    {
     "name": "stdout",
     "output_type": "stream",
     "text": [
      "55 projects in 8 years for ecr\n",
      "15 projects in 8 years for ew\n",
      "9 projects in 8 years for sa\n",
      "6 projects in 8 years for nb\n"
     ]
    }
   ],
   "source": []
  },
  {
   "cell_type": "code",
   "execution_count": 267,
   "id": "veterinary-satisfaction",
   "metadata": {},
   "outputs": [
    {
     "data": {
      "text/plain": [
       "(13, 48)"
      ]
     },
     "execution_count": 267,
     "metadata": {},
     "output_type": "execute_result"
    }
   ],
   "source": [
    "newer_permits[newer_permits['Address'].str.lower().str.contains('el camino')].shape"
   ]
  },
  {
   "cell_type": "code",
   "execution_count": 271,
   "id": "outside-schema",
   "metadata": {},
   "outputs": [
    {
     "data": {
      "text/plain": [
       "(4, 35)"
      ]
     },
     "execution_count": 271,
     "metadata": {},
     "output_type": "execute_result"
    }
   ],
   "source": [
    "older_permits[older_permits['address'].str.lower().str.contains('el camino')].shape"
   ]
  },
  {
   "cell_type": "markdown",
   "id": "crucial-offering",
   "metadata": {},
   "source": [
    "Half of older permits have same geometry."
   ]
  },
  {
   "cell_type": "code",
   "execution_count": 282,
   "id": "minor-multimedia",
   "metadata": {},
   "outputs": [
    {
     "data": {
      "text/plain": [
       "5650     POINT (-122.05588 37.39211)\n",
       "5651     POINT (-122.05588 37.39211)\n",
       "5652     POINT (-122.05588 37.39211)\n",
       "5653     POINT (-122.05588 37.39211)\n",
       "5654     POINT (-122.05588 37.39211)\n",
       "                    ...             \n",
       "19410    POINT (-122.09941 37.39504)\n",
       "19457    POINT (-122.08958 37.39400)\n",
       "19458    POINT (-122.09809 37.38968)\n",
       "19459    POINT (-122.10081 37.40186)\n",
       "19460    POINT (-122.10063 37.40118)\n",
       "Name: geometry, Length: 486, dtype: geometry"
      ]
     },
     "execution_count": 282,
     "metadata": {},
     "output_type": "execute_result"
    }
   ],
   "source": [
    "older_permits.geometry.drop_duplicates().unique()"
   ]
  },
  {
   "cell_type": "code",
   "execution_count": 314,
   "id": "proud-width",
   "metadata": {},
   "outputs": [],
   "source": [
    "pp_permits_new = gpd.sjoin(newer_permits, zoning.to_crs('EPSG:4326'))['PRECPLAN'].value_counts()"
   ]
  },
  {
   "cell_type": "code",
   "execution_count": 315,
   "id": "dietary-israel",
   "metadata": {},
   "outputs": [],
   "source": [
    "pp_permits_old = gpd.sjoin(older_permits, zoning.to_crs('EPSG:4326'))['PRECPLAN'].value_counts()"
   ]
  },
  {
   "cell_type": "code",
   "execution_count": 335,
   "id": "discrete-deadline",
   "metadata": {},
   "outputs": [],
   "source": [
    "ecr_ppid = 'P(38)'\n",
    "nbs_ppid = 'P(39)'\n",
    "sa_ppid = 'P(40)'\n",
    "ew_ppid = 'P(41)'"
   ]
  },
  {
   "cell_type": "code",
   "execution_count": 336,
   "id": "little-doctrine",
   "metadata": {},
   "outputs": [
    {
     "data": {
      "text/plain": [
       "36"
      ]
     },
     "execution_count": 336,
     "metadata": {},
     "output_type": "execute_result"
    }
   ],
   "source": [
    "pp_permits_new[ecr_ppid] + pp_permits_old[ecr_ppid]"
   ]
  },
  {
   "cell_type": "code",
   "execution_count": 337,
   "id": "fewer-vegetation",
   "metadata": {},
   "outputs": [
    {
     "data": {
      "text/plain": [
       "2"
      ]
     },
     "execution_count": 337,
     "metadata": {},
     "output_type": "execute_result"
    }
   ],
   "source": [
    "pp_permits_new[nbs_ppid]"
   ]
  },
  {
   "cell_type": "code",
   "execution_count": 338,
   "id": "protecting-certificate",
   "metadata": {},
   "outputs": [
    {
     "data": {
      "text/plain": [
       "10"
      ]
     },
     "execution_count": 338,
     "metadata": {},
     "output_type": "execute_result"
    }
   ],
   "source": [
    "pp_permits_new[sa_ppid] + pp_permits_old[sa_ppid]"
   ]
  },
  {
   "cell_type": "code",
   "execution_count": 339,
   "id": "comfortable-allowance",
   "metadata": {},
   "outputs": [
    {
     "data": {
      "text/plain": [
       "4"
      ]
     },
     "execution_count": 339,
     "metadata": {},
     "output_type": "execute_result"
    }
   ],
   "source": [
    "pp_permits_new[ew_ppid] + pp_permits_old[ew_ppid]"
   ]
  },
  {
   "cell_type": "code",
   "execution_count": 341,
   "id": "impaired-hunger",
   "metadata": {},
   "outputs": [
    {
     "name": "stdout",
     "output_type": "stream",
     "text": [
      "55 projects in 8 years for ecr\n",
      "15 projects in 8 years for ew\n",
      "9 projects in 8 years for sa\n",
      "6 projects in 8 years for nb\n"
     ]
    }
   ],
   "source": [
    "for pp, name in zip([ecr, ew, sa, nb], ['ecr', 'ew', 'sa', 'nb']):\n",
    "    print(len(pp), 'projects in 8 years for', name)"
   ]
  },
  {
   "cell_type": "code",
   "execution_count": 345,
   "id": "seven-transcription",
   "metadata": {},
   "outputs": [
    {
     "data": {
      "text/plain": [
       "2021    317\n",
       "2019    138\n",
       "2020    126\n",
       "2018     39\n",
       "Name: Reporting Year, dtype: int64"
      ]
     },
     "execution_count": 345,
     "metadata": {},
     "output_type": "execute_result"
    }
   ],
   "source": [
    "newer_permits['Reporting Year'].value_counts()"
   ]
  },
  {
   "cell_type": "code",
   "execution_count": 346,
   "id": "polyphonic-handling",
   "metadata": {},
   "outputs": [
    {
     "data": {
      "text/plain": [
       "2017    303\n",
       "2016    174\n",
       "2015      9\n",
       "Name: permyear, dtype: int64"
      ]
     },
     "execution_count": 346,
     "metadata": {},
     "output_type": "execute_result"
    }
   ],
   "source": [
    "older_permits['permyear'].value_counts()"
   ]
  },
  {
   "cell_type": "code",
   "execution_count": null,
   "id": "linear-contributor",
   "metadata": {},
   "outputs": [],
   "source": []
  }
 ],
 "metadata": {
  "kernelspec": {
   "display_name": "Python 3",
   "language": "python",
   "name": "python3"
  },
  "language_info": {
   "codemirror_mode": {
    "name": "ipython",
    "version": 3
   },
   "file_extension": ".py",
   "mimetype": "text/x-python",
   "name": "python",
   "nbconvert_exporter": "python",
   "pygments_lexer": "ipython3",
   "version": "3.8.9"
  }
 },
 "nbformat": 4,
 "nbformat_minor": 5
}
