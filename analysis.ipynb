{
 "cells": [
  {
   "cell_type": "code",
   "execution_count": 57,
   "id": "improved-religious",
   "metadata": {},
   "outputs": [],
   "source": [
    "import pandas as pd\n",
    "import geopandas as gpd\n",
    "from scipy.stats import pearsonr\n",
    "import matplotlib.pyplot as plt\n",
    "from statsmodels.tools.tools import add_constant\n",
    "import numpy as np\n",
    "import statsmodels.api as sm\n",
    "from tabulate import tabulate"
   ]
  },
  {
   "cell_type": "markdown",
   "id": "clinical-michael",
   "metadata": {},
   "source": [
    "### Load data"
   ]
  },
  {
   "cell_type": "markdown",
   "id": "collectible-archive",
   "metadata": {},
   "source": [
    "Load dataset with snapshot of 2014 pipeline snapshot and outcomes."
   ]
  },
  {
   "cell_type": "code",
   "execution_count": 2,
   "id": "civic-retirement",
   "metadata": {},
   "outputs": [],
   "source": [
    "mv_history = pd.read_csv('./data/pipeline_history.csv')"
   ]
  },
  {
   "cell_type": "markdown",
   "id": "governmental-manufacturer",
   "metadata": {},
   "source": [
    "The variable 'Built' indicates how much of the project was built by June 2022. The variable 'Units' indicates how large the project was as of June 2014 - or, if the project had no size listed in 2014, then the eventual size of the project. The variable 'Pg' indicates what page of the [2014 Planning Division Update](https://web.archive.org/web/20140709150825/http://mountainview.gov/civicax/filebank/blobdload.aspx?BlobID=13170) the project is listed on. This dataframe was created manually by reading the 2014 PDU."
   ]
  },
  {
   "cell_type": "code",
   "execution_count": 3,
   "id": "micro-concentrate",
   "metadata": {},
   "outputs": [
    {
     "data": {
      "text/html": [
       "<div>\n",
       "<style scoped>\n",
       "    .dataframe tbody tr th:only-of-type {\n",
       "        vertical-align: middle;\n",
       "    }\n",
       "\n",
       "    .dataframe tbody tr th {\n",
       "        vertical-align: top;\n",
       "    }\n",
       "\n",
       "    .dataframe thead th {\n",
       "        text-align: right;\n",
       "    }\n",
       "</style>\n",
       "<table border=\"1\" class=\"dataframe\">\n",
       "  <thead>\n",
       "    <tr style=\"text-align: right;\">\n",
       "      <th></th>\n",
       "      <th>address</th>\n",
       "      <th>page</th>\n",
       "      <th>pct_built</th>\n",
       "      <th>units</th>\n",
       "    </tr>\n",
       "  </thead>\n",
       "  <tbody>\n",
       "    <tr>\n",
       "      <th>0</th>\n",
       "      <td>420 San Antonio Road</td>\n",
       "      <td>3</td>\n",
       "      <td>1.00</td>\n",
       "      <td>373</td>\n",
       "    </tr>\n",
       "    <tr>\n",
       "      <th>1</th>\n",
       "      <td>2580 California Street</td>\n",
       "      <td>4</td>\n",
       "      <td>0.26</td>\n",
       "      <td>632</td>\n",
       "    </tr>\n",
       "    <tr>\n",
       "      <th>2</th>\n",
       "      <td>1701 W. El Camino Real</td>\n",
       "      <td>7</td>\n",
       "      <td>1.00</td>\n",
       "      <td>24</td>\n",
       "    </tr>\n",
       "    <tr>\n",
       "      <th>3</th>\n",
       "      <td>1101 W. El Camino Real</td>\n",
       "      <td>8</td>\n",
       "      <td>1.00</td>\n",
       "      <td>52</td>\n",
       "    </tr>\n",
       "    <tr>\n",
       "      <th>4</th>\n",
       "      <td>801 W. El Camino Real</td>\n",
       "      <td>8</td>\n",
       "      <td>1.00</td>\n",
       "      <td>164</td>\n",
       "    </tr>\n",
       "  </tbody>\n",
       "</table>\n",
       "</div>"
      ],
      "text/plain": [
       "                  address  page  pct_built  units\n",
       "0    420 San Antonio Road     3       1.00    373\n",
       "1  2580 California Street     4       0.26    632\n",
       "2  1701 W. El Camino Real     7       1.00     24\n",
       "3  1101 W. El Camino Real     8       1.00     52\n",
       "4   801 W. El Camino Real     8       1.00    164"
      ]
     },
     "execution_count": 3,
     "metadata": {},
     "output_type": "execute_result"
    }
   ],
   "source": [
    "mv_history.head()"
   ]
  },
  {
   "cell_type": "markdown",
   "id": "biological-algorithm",
   "metadata": {},
   "source": [
    "Load site inventory datasets."
   ]
  },
  {
   "cell_type": "code",
   "execution_count": 4,
   "id": "elder-falls",
   "metadata": {},
   "outputs": [],
   "source": [
    "si_geo = gpd.read_file('./data/MV_Site_Inventory/MV_Site_Inventory.shp')"
   ]
  },
  {
   "cell_type": "code",
   "execution_count": null,
   "id": "c8c9e89b",
   "metadata": {},
   "outputs": [],
   "source": []
  },
  {
   "cell_type": "code",
   "execution_count": 5,
   "id": "stupid-trainer",
   "metadata": {},
   "outputs": [],
   "source": [
    "si = pd.read_csv('./data/hcd_table_a.csv', low_memory=False)\n",
    "si = si[~si.isna().all(axis=1)]\n",
    "si = si[:-1]"
   ]
  },
  {
   "cell_type": "code",
   "execution_count": 6,
   "id": "recreational-progressive",
   "metadata": {},
   "outputs": [],
   "source": [
    "permits = gpd.read_file('./data/all_permits.json')"
   ]
  },
  {
   "cell_type": "code",
   "execution_count": 9,
   "id": "opened-devil",
   "metadata": {},
   "outputs": [],
   "source": [
    "zoning = gpd.read_file('./data/Zoning_Districts/Zoning_Districts.shp')"
   ]
  },
  {
   "cell_type": "markdown",
   "id": "variable-seating",
   "metadata": {},
   "source": [
    "### Pending Projects History Analysis"
   ]
  },
  {
   "cell_type": "code",
   "execution_count": 10,
   "id": "classified-algorithm",
   "metadata": {},
   "outputs": [
    {
     "data": {
      "text/plain": [
       "0.6646353322528363"
      ]
     },
     "execution_count": 10,
     "metadata": {},
     "output_type": "execute_result"
    }
   ],
   "source": [
    "sum(mv_history.units * mv_history.pct_built) / mv_history.units.sum()"
   ]
  },
  {
   "cell_type": "markdown",
   "id": "alternative-sucking",
   "metadata": {},
   "source": [
    "What would a 33% discount factor do to the city's projections?"
   ]
  },
  {
   "cell_type": "code",
   "execution_count": null,
   "id": "4554f012",
   "metadata": {},
   "outputs": [],
   "source": []
  },
  {
   "cell_type": "code",
   "execution_count": 11,
   "id": "musical-assignment",
   "metadata": {},
   "outputs": [
    {
     "data": {
      "text/plain": [
       "4594.624051863858"
      ]
     },
     "execution_count": 11,
     "metadata": {},
     "output_type": "execute_result"
    }
   ],
   "source": [
    "# city projections\n",
    "tot_pipe = 6913\n",
    "li_pipe = 1896\n",
    "\n",
    "# expected total units\n",
    "sum(mv_history.units * mv_history.pct_built) / mv_history.units.sum() * tot_pipe"
   ]
  },
  {
   "cell_type": "code",
   "execution_count": 12,
   "id": "spare-walker",
   "metadata": {},
   "outputs": [
    {
     "data": {
      "text/plain": [
       "2318.375948136142"
      ]
     },
     "execution_count": 12,
     "metadata": {},
     "output_type": "execute_result"
    }
   ],
   "source": [
    "# delta\n",
    "tot_pipe - sum(mv_history.units * mv_history.pct_built) / mv_history.units.sum() * tot_pipe"
   ]
  },
  {
   "cell_type": "code",
   "execution_count": 13,
   "id": "naked-activity",
   "metadata": {},
   "outputs": [
    {
     "data": {
      "text/plain": [
       "1260.1485899513777"
      ]
     },
     "execution_count": 13,
     "metadata": {},
     "output_type": "execute_result"
    }
   ],
   "source": [
    "# expected li units \n",
    "sum(mv_history.units * mv_history.pct_built) / mv_history.units.sum() * li_pipe"
   ]
  },
  {
   "cell_type": "code",
   "execution_count": 14,
   "id": "freelance-greece",
   "metadata": {},
   "outputs": [
    {
     "data": {
      "text/plain": [
       "635.8514100486223"
      ]
     },
     "execution_count": 14,
     "metadata": {},
     "output_type": "execute_result"
    }
   ],
   "source": [
    "# delta (li)\n",
    "li_pipe - sum(mv_history.units * mv_history.pct_built) / mv_history.units.sum() * li_pipe"
   ]
  },
  {
   "cell_type": "code",
   "execution_count": 15,
   "id": "numerical-doctor",
   "metadata": {},
   "outputs": [
    {
     "data": {
      "text/plain": [
       "PearsonRResult(statistic=-0.15362040968120397, pvalue=0.5178707812714505)"
      ]
     },
     "execution_count": 15,
     "metadata": {},
     "output_type": "execute_result"
    }
   ],
   "source": [
    "pearsonr(mv_history.units, mv_history.pct_built)"
   ]
  },
  {
   "cell_type": "markdown",
   "id": "bulgarian-championship",
   "metadata": {},
   "source": [
    "### Opportunity Sites"
   ]
  },
  {
   "cell_type": "code",
   "execution_count": 16,
   "id": "pretty-density",
   "metadata": {},
   "outputs": [],
   "source": [
    "opps = si[~si['Site Status'].str.contains('Pending')]"
   ]
  },
  {
   "cell_type": "code",
   "execution_count": 17,
   "id": "collaborative-traffic",
   "metadata": {},
   "outputs": [
    {
     "data": {
      "text/plain": [
       "P(38) - El Camino Real Precise Plan    55\n",
       "P(41) - East Whisman Precise Plan      15\n",
       "P(40) - San Antonio Precise Plan        9\n",
       "P(39) - North Bayshore Precise Plan     6\n",
       "CN                                      5\n",
       "CRA                                     4\n",
       "P(27) - Grant-Phyllis Precise Plan      2\n",
       "P(19) - Downtown Precise Plan           1\n",
       "Name: Zoning Designation (Current), dtype: int64"
      ]
     },
     "execution_count": 17,
     "metadata": {},
     "output_type": "execute_result"
    }
   ],
   "source": [
    "opps['Zoning Designation (Current)'].value_counts()"
   ]
  },
  {
   "cell_type": "markdown",
   "id": "rubber-smoke",
   "metadata": {},
   "source": [
    "Find opportunity sites for each of four major precise plan areas."
   ]
  },
  {
   "cell_type": "code",
   "execution_count": 18,
   "id": "6797f857",
   "metadata": {},
   "outputs": [],
   "source": [
    "ecr = opps[opps['Zoning Designation (Current)'].str.contains(\"El Camino Real\")]\n",
    "ew = opps[opps['Zoning Designation (Current)'].str.contains(\"East Whisman\")]\n",
    "sa = opps[opps['Zoning Designation (Current)'].str.contains(\"San Antonio\")]\n",
    "nb = opps[opps['Zoning Designation (Current)'].str.contains(\"North Bayshore\")]"
   ]
  },
  {
   "cell_type": "markdown",
   "id": "nuclear-maria",
   "metadata": {},
   "source": [
    "There are 55 opportunity sites in El Camino Real Precise Plan, 15 in the East Whisman precise plan, 9 in the San Antonio precise plan, and 6 in the North Bayshore precise plan."
   ]
  },
  {
   "cell_type": "code",
   "execution_count": 19,
   "id": "sized-textbook",
   "metadata": {},
   "outputs": [
    {
     "data": {
      "text/plain": [
       "(55, 15, 9, 6)"
      ]
     },
     "execution_count": 19,
     "metadata": {},
     "output_type": "execute_result"
    }
   ],
   "source": [
    "len(ecr), len(ew), len(sa), len(nb)"
   ]
  },
  {
   "cell_type": "markdown",
   "id": "acknowledged-moldova",
   "metadata": {},
   "source": [
    "### Cleaning permits dataset"
   ]
  },
  {
   "cell_type": "markdown",
   "id": "specific-roberts",
   "metadata": {},
   "source": [
    "Half of older permits have same geometry."
   ]
  },
  {
   "cell_type": "code",
   "execution_count": 20,
   "id": "incorrect-neighborhood",
   "metadata": {},
   "outputs": [],
   "source": [
    "permits.apn = permits.apn.str.split('-').str.join('')"
   ]
  },
  {
   "cell_type": "code",
   "execution_count": 21,
   "id": "authentic-glass",
   "metadata": {},
   "outputs": [],
   "source": [
    "permits.apn = permits.apn.str.replace('Â\\xa0', '').values.tolist()"
   ]
  },
  {
   "cell_type": "code",
   "execution_count": 22,
   "id": "naval-overview",
   "metadata": {},
   "outputs": [],
   "source": [
    "permits.apn = permits.apn.str.strip()"
   ]
  },
  {
   "cell_type": "code",
   "execution_count": 23,
   "id": "dynamic-advertising",
   "metadata": {},
   "outputs": [],
   "source": [
    "permits = permits[(~permits.apn.duplicated()) | (permits.apn.isnull())]"
   ]
  },
  {
   "cell_type": "code",
   "execution_count": 24,
   "id": "reasonable-january",
   "metadata": {},
   "outputs": [],
   "source": [
    "permits = gpd.sjoin(permits, zoning.to_crs('EPSG:4326'))"
   ]
  },
  {
   "cell_type": "code",
   "execution_count": 25,
   "id": "cheap-producer",
   "metadata": {},
   "outputs": [
    {
     "data": {
      "text/plain": [
       "(array([1., 0., 0., 0., 0., 0., 0., 0., 0., 1.]),\n",
       " array([2018. , 2018.3, 2018.6, 2018.9, 2019.2, 2019.5, 2019.8, 2020.1,\n",
       "        2020.4, 2020.7, 2021. ]),\n",
       " <BarContainer object of 10 artists>)"
      ]
     },
     "execution_count": 25,
     "metadata": {},
     "output_type": "execute_result"
    },
    {
     "data": {
      "image/png": "[encoded data removed]",
      "text/plain": [
       "<Figure size 640x480 with 1 Axes>"
      ]
     },
     "metadata": {},
     "output_type": "display_data"
    }
   ],
   "source": [
    "plt.hist(permits[permits.PRECPLAN == 'P(39)'].permyear)"
   ]
  },
  {
   "cell_type": "code",
   "execution_count": 26,
   "id": "productive-zimbabwe",
   "metadata": {},
   "outputs": [],
   "source": [
    "pp_permits = permits['PRECPLAN'].value_counts()"
   ]
  },
  {
   "cell_type": "code",
   "execution_count": 27,
   "id": "exceptional-breast",
   "metadata": {},
   "outputs": [],
   "source": [
    "ecr_ppid = 'P(38)'\n",
    "nbs_ppid = 'P(39)'\n",
    "sa_ppid = 'P(40)'\n",
    "ew_ppid = 'P(41)'"
   ]
  },
  {
   "cell_type": "code",
   "execution_count": 28,
   "id": "affected-relaxation",
   "metadata": {},
   "outputs": [],
   "source": [
    "ecr_yrs, ew_yrs, sa_yrs, nbs_yrs = 8, 3, 8, 5"
   ]
  },
  {
   "cell_type": "code",
   "execution_count": 29,
   "id": "early-spirit",
   "metadata": {},
   "outputs": [],
   "source": [
    "ecr_exp = pp_permits[ecr_ppid] / ecr_yrs * 8"
   ]
  },
  {
   "cell_type": "code",
   "execution_count": 30,
   "id": "humanitarian-cheese",
   "metadata": {},
   "outputs": [
    {
     "data": {
      "text/plain": [
       "3.125"
      ]
     },
     "execution_count": 30,
     "metadata": {},
     "output_type": "execute_result"
    }
   ],
   "source": [
    "pp_permits[ecr_ppid] / ecr_yrs"
   ]
  },
  {
   "cell_type": "code",
   "execution_count": 31,
   "id": "handmade-emission",
   "metadata": {},
   "outputs": [],
   "source": [
    "nbs_exp = pp_permits[nbs_ppid] / nbs_yrs * 8"
   ]
  },
  {
   "cell_type": "code",
   "execution_count": 32,
   "id": "affected-transparency",
   "metadata": {},
   "outputs": [
    {
     "data": {
      "text/plain": [
       "0.4"
      ]
     },
     "execution_count": 32,
     "metadata": {},
     "output_type": "execute_result"
    }
   ],
   "source": [
    "pp_permits[nbs_ppid] / nbs_yrs"
   ]
  },
  {
   "cell_type": "code",
   "execution_count": 33,
   "id": "cardiac-shoot",
   "metadata": {},
   "outputs": [],
   "source": [
    "sa_exp = pp_permits[sa_ppid] / sa_yrs * 8"
   ]
  },
  {
   "cell_type": "code",
   "execution_count": 34,
   "id": "canadian-robinson",
   "metadata": {},
   "outputs": [
    {
     "data": {
      "text/plain": [
       "0.875"
      ]
     },
     "execution_count": 34,
     "metadata": {},
     "output_type": "execute_result"
    }
   ],
   "source": [
    "pp_permits[sa_ppid] / sa_yrs"
   ]
  },
  {
   "cell_type": "code",
   "execution_count": 35,
   "id": "czech-honor",
   "metadata": {},
   "outputs": [],
   "source": [
    "ew_exp = pp_permits[ew_ppid] / ew_yrs * 8"
   ]
  },
  {
   "cell_type": "code",
   "execution_count": 36,
   "id": "binary-capability",
   "metadata": {},
   "outputs": [
    {
     "data": {
      "text/plain": [
       "0.6666666666666666"
      ]
     },
     "execution_count": 36,
     "metadata": {},
     "output_type": "execute_result"
    }
   ],
   "source": [
    "pp_permits[ew_ppid] / ew_yrs"
   ]
  },
  {
   "cell_type": "code",
   "execution_count": 37,
   "id": "entire-relation",
   "metadata": {},
   "outputs": [
    {
     "name": "stdout",
     "output_type": "stream",
     "text": [
      "For ecr the city claims 55 projects in 8 years  but historical trends suggest\n",
      "25 is more reasonable. That'd discount their site capacity claims by 0.55 %\n",
      "\n",
      "\n",
      "For ew the city claims 15 projects in 8 years  but historical trends suggest\n",
      "5 is more reasonable. That'd discount their site capacity claims by 0.67 %\n",
      "\n",
      "\n",
      "For sa the city claims 9 projects in 8 years  but historical trends suggest\n",
      "7 is more reasonable. That'd discount their site capacity claims by 0.22 %\n",
      "\n",
      "\n",
      "For nb the city claims 6 projects in 8 years  but historical trends suggest\n",
      "3 is more reasonable. That'd discount their site capacity claims by 0.5 %\n",
      "\n",
      "\n"
     ]
    }
   ],
   "source": [
    "for pp, name, expect in zip([ecr, ew, sa, nb], ['ecr', 'ew', 'sa', 'nb'], [ecr_exp, ew_exp, sa_exp, nbs_exp]):\n",
    "    print('For', name, 'the city claims', len(pp), 'projects in 8 years', ' but historical trends suggest')\n",
    "    print(int(round(expect, 0)), \"is more reasonable. That'd discount their site capacity claims by\", round(1 - (int(round(expect,0)) / len(pp)), 2), '%')\n",
    "    print('\\n')"
   ]
  },
  {
   "cell_type": "code",
   "execution_count": 38,
   "id": "dominant-index",
   "metadata": {},
   "outputs": [
    {
     "name": "stdout",
     "output_type": "stream",
     "text": [
      "For ecr the city claims 55 projects in 8 years, but historical trends suggest\n",
      "25 is more reasonable. That'd inflate their site capacity claims by 120 %\n",
      "\n",
      "\n",
      "For ew the city claims 15 projects in 8 years, but historical trends suggest\n",
      "5 is more reasonable. That'd inflate their site capacity claims by 181 %\n",
      "\n",
      "\n",
      "For sa the city claims 9 projects in 8 years, but historical trends suggest\n",
      "7 is more reasonable. That'd inflate their site capacity claims by 29 %\n",
      "\n",
      "\n",
      "For nb the city claims 6 projects in 8 years, but historical trends suggest\n",
      "3 is more reasonable. That'd inflate their site capacity claims by 88 %\n",
      "\n",
      "\n"
     ]
    }
   ],
   "source": [
    "for pp, name, expect in zip([ecr, ew, sa, nb], ['ecr', 'ew', 'sa', 'nb'], [ecr_exp, ew_exp, sa_exp, nbs_exp]):\n",
    "    print('For', name, 'the city claims', len(pp), 'projects in 8 years, but historical trends suggest')\n",
    "    print(int(round(expect, 0)), \"is more reasonable. That'd inflate their site capacity claims by\", \n",
    "          round((len(pp) / expect)*100 - 100), '%')\n",
    "    print('\\n')"
   ]
  },
  {
   "cell_type": "code",
   "execution_count": 39,
   "id": "checked-biology",
   "metadata": {},
   "outputs": [],
   "source": [
    "# from table 55\n",
    "ew_li, ew_tot = 997, 1312\n",
    "ecr_li, ecr_tot = 1283, 2530\n",
    "nb_li, nb_tot = 313, 405\n",
    "sa_li, sa_tot = 182, 325\n",
    "\n",
    "run_sum_li, run_sum_tot = 0, 0"
   ]
  },
  {
   "cell_type": "code",
   "execution_count": 40,
   "id": "optional-hostel",
   "metadata": {},
   "outputs": [
    {
     "name": "stdout",
     "output_type": "stream",
     "text": [
      "For ecr 700 li units are overstated\n",
      "\n",
      "\n",
      "For ecr 1380 total units are overstated\n",
      "\n",
      "\n",
      "For ew 643 li units are overstated\n",
      "\n",
      "\n",
      "For ew 846 total units are overstated\n",
      "\n",
      "\n",
      "For sa 40 li units are overstated\n",
      "\n",
      "\n",
      "For sa 72 total units are overstated\n",
      "\n",
      "\n",
      "For nb 146 li units are overstated\n",
      "\n",
      "\n",
      "For nb 189 total units are overstated\n",
      "\n",
      "\n"
     ]
    }
   ],
   "source": [
    "for pp, name, expect, li, tot in zip([ecr, ew, sa, nb], \n",
    "                                ['ecr', 'ew', 'sa', 'nb'], \n",
    "                                [ecr_exp, ew_exp, sa_exp, nbs_exp],\n",
    "                                [ecr_li, ew_li, sa_li, nb_li],\n",
    "                                [ecr_tot, ew_tot, sa_tot, nb_tot]):\n",
    "    print('For', name, round(li*(1 - expect / len(pp))), 'li units are overstated')\n",
    "    print('\\n')\n",
    "    print('For', name, round(tot*(1 - expect / len(pp))), 'total units are overstated')\n",
    "    print('\\n')\n",
    "    run_sum_li += li*(1 - expect / len(pp))\n",
    "    run_sum_tot += tot*(1 - expect / len(pp))"
   ]
  },
  {
   "cell_type": "code",
   "execution_count": 41,
   "id": "alert-explosion",
   "metadata": {},
   "outputs": [
    {
     "name": "stdout",
     "output_type": "stream",
     "text": [
      "For ecr 583 li units are accommodated per mv yimby\n",
      "\n",
      "\n",
      "For ecr 1150 total units are accommodated per mv yimby\n",
      "\n",
      "\n",
      "For ew 354 li units are accommodated per mv yimby\n",
      "\n",
      "\n",
      "For ew 466 total units are accommodated per mv yimby\n",
      "\n",
      "\n",
      "For sa 142 li units are accommodated per mv yimby\n",
      "\n",
      "\n",
      "For sa 253 total units are accommodated per mv yimby\n",
      "\n",
      "\n",
      "For nb 167 li units are accommodated per mv yimby\n",
      "\n",
      "\n",
      "For nb 216 total units are accommodated per mv yimby\n",
      "\n",
      "\n"
     ]
    }
   ],
   "source": [
    "for pp, name, expect, li, tot in zip([ecr, ew, sa, nb], \n",
    "                                ['ecr', 'ew', 'sa', 'nb'], \n",
    "                                [ecr_exp, ew_exp, sa_exp, nbs_exp],\n",
    "                                [ecr_li, ew_li, sa_li, nb_li],\n",
    "                                [ecr_tot, ew_tot, sa_tot, nb_tot]):\n",
    "    print('For', name, round(li*(expect / len(pp))), 'li units are accommodated per mv yimby')\n",
    "    print('\\n')\n",
    "    print('For', name, round(tot*(expect / len(pp))), 'total units are accommodated per mv yimby')\n",
    "    print('\\n')\n",
    "    run_sum_li += li*(1 - expect / len(pp))\n",
    "    run_sum_tot += tot*(1 - expect / len(pp))"
   ]
  },
  {
   "cell_type": "code",
   "execution_count": 42,
   "id": "limited-central",
   "metadata": {},
   "outputs": [
    {
     "data": {
      "text/plain": [
       "3057.6808080808078"
      ]
     },
     "execution_count": 42,
     "metadata": {},
     "output_type": "execute_result"
    }
   ],
   "source": [
    "# total li units overstated \n",
    "run_sum_li"
   ]
  },
  {
   "cell_type": "code",
   "execution_count": 43,
   "id": "younger-georgia",
   "metadata": {},
   "outputs": [
    {
     "data": {
      "text/plain": [
       "4973.466666666667"
      ]
     },
     "execution_count": 43,
     "metadata": {},
     "output_type": "execute_result"
    }
   ],
   "source": [
    "#total units overstated \n",
    "run_sum_tot"
   ]
  },
  {
   "cell_type": "code",
   "execution_count": 44,
   "id": "fabulous-strand",
   "metadata": {},
   "outputs": [
    {
     "data": {
      "text/plain": [
       "528.5333333333328"
      ]
     },
     "execution_count": 44,
     "metadata": {},
     "output_type": "execute_result"
    }
   ],
   "source": [
    "5502 - run_sum_tot"
   ]
  },
  {
   "cell_type": "code",
   "execution_count": 45,
   "id": "painful-quest",
   "metadata": {},
   "outputs": [
    {
     "data": {
      "text/plain": [
       "182.31919191919224"
      ]
     },
     "execution_count": 45,
     "metadata": {},
     "output_type": "execute_result"
    }
   ],
   "source": [
    "3240 - run_sum_li"
   ]
  },
  {
   "cell_type": "code",
   "execution_count": 46,
   "id": "increased-conditions",
   "metadata": {},
   "outputs": [
    {
     "data": {
      "text/plain": [
       "3240"
      ]
     },
     "execution_count": 46,
     "metadata": {},
     "output_type": "execute_result"
    }
   ],
   "source": [
    "2775 + 465\n"
   ]
  },
  {
   "cell_type": "code",
   "execution_count": 47,
   "id": "acknowledged-lying",
   "metadata": {},
   "outputs": [
    {
     "data": {
      "text/plain": [
       "5502"
      ]
     },
     "execution_count": 47,
     "metadata": {},
     "output_type": "execute_result"
    }
   ],
   "source": [
    "4698 + 804"
   ]
  },
  {
   "cell_type": "markdown",
   "id": "27ae2123",
   "metadata": {},
   "source": [
    "## Replicating for November Update"
   ]
  },
  {
   "cell_type": "code",
   "execution_count": 48,
   "id": "b2c4b333",
   "metadata": {},
   "outputs": [
    {
     "data": {
      "text/html": [
       "<div>\n",
       "<style scoped>\n",
       "    .dataframe tbody tr th:only-of-type {\n",
       "        vertical-align: middle;\n",
       "    }\n",
       "\n",
       "    .dataframe tbody tr th {\n",
       "        vertical-align: top;\n",
       "    }\n",
       "\n",
       "    .dataframe thead th {\n",
       "        text-align: right;\n",
       "    }\n",
       "</style>\n",
       "<table border=\"1\" class=\"dataframe\">\n",
       "  <thead>\n",
       "    <tr style=\"text-align: right;\">\n",
       "      <th></th>\n",
       "      <th>Jurisdiction Name</th>\n",
       "      <th>Site Address/Intersection</th>\n",
       "      <th>5 Digit ZIP Code</th>\n",
       "      <th>Assessor Parcel Number</th>\n",
       "      <th>Consolidated Sites</th>\n",
       "      <th>General Plan Designation (Current)</th>\n",
       "      <th>Zoning Designation (Current)</th>\n",
       "      <th>Minimum Density Allowed (units/acre)</th>\n",
       "      <th>Max Density Allowed (units/acre)</th>\n",
       "      <th>Parcel Size (Acres)</th>\n",
       "      <th>...</th>\n",
       "      <th>Site Status</th>\n",
       "      <th>Identified in Last/Last Two Planning Cycle(s)</th>\n",
       "      <th>Lower Income Capacity</th>\n",
       "      <th>Moderate Income Capacity</th>\n",
       "      <th>Above Moderate Income Capacity</th>\n",
       "      <th>Total Capacity</th>\n",
       "      <th>Optional Information 1</th>\n",
       "      <th>Optional Information 2</th>\n",
       "      <th>Optional Information 3</th>\n",
       "      <th>Unnamed: 22</th>\n",
       "    </tr>\n",
       "  </thead>\n",
       "  <tbody>\n",
       "    <tr>\n",
       "      <th>0</th>\n",
       "      <td>MOUNTAIN VIEW</td>\n",
       "      <td>1500 SHORELINE BL</td>\n",
       "      <td>94043-1314</td>\n",
       "      <td>11613030.0</td>\n",
       "      <td>Not Applicable</td>\n",
       "      <td>North Bayshore Mixed-Use</td>\n",
       "      <td>P(39) - North Bayshore Precise Plan</td>\n",
       "      <td>0.0</td>\n",
       "      <td>~157</td>\n",
       "      <td>15.75</td>\n",
       "      <td>...</td>\n",
       "      <td>Available</td>\n",
       "      <td>Not Used in Prior Housing Element</td>\n",
       "      <td>150.0</td>\n",
       "      <td>150.0</td>\n",
       "      <td>1432.0</td>\n",
       "      <td>1732.0</td>\n",
       "      <td>Opportunity Site</td>\n",
       "      <td>Maximum Density set by FAR (3.5). Maximum dwel...</td>\n",
       "      <td>NaN</td>\n",
       "      <td>NaN</td>\n",
       "    </tr>\n",
       "    <tr>\n",
       "      <th>1</th>\n",
       "      <td>MOUNTAIN VIEW</td>\n",
       "      <td>1280 SPACE PARK WY</td>\n",
       "      <td>94043-1434</td>\n",
       "      <td>11614071.0</td>\n",
       "      <td>Not Applicable</td>\n",
       "      <td>North Bayshore Mixed-Use</td>\n",
       "      <td>P(39) - North Bayshore Precise Plan</td>\n",
       "      <td>0.0</td>\n",
       "      <td>~157</td>\n",
       "      <td>0.98</td>\n",
       "      <td>...</td>\n",
       "      <td>Available</td>\n",
       "      <td>Not Used in Prior Housing Element</td>\n",
       "      <td>107.0</td>\n",
       "      <td>0.0</td>\n",
       "      <td>0.0</td>\n",
       "      <td>107.0</td>\n",
       "      <td>Opportunity Site</td>\n",
       "      <td>Maximum Density set by FAR (3.5). Maximum dwel...</td>\n",
       "      <td>NaN</td>\n",
       "      <td>NaN</td>\n",
       "    </tr>\n",
       "    <tr>\n",
       "      <th>2</th>\n",
       "      <td>MOUNTAIN VIEW</td>\n",
       "      <td>1060 LA AVENIDA</td>\n",
       "      <td>94043-1422</td>\n",
       "      <td>11614107.0</td>\n",
       "      <td>Not Applicable</td>\n",
       "      <td>North Bayshore Mixed-Use</td>\n",
       "      <td>P(39) - North Bayshore Precise Plan</td>\n",
       "      <td>0.0</td>\n",
       "      <td>~71</td>\n",
       "      <td>1.24</td>\n",
       "      <td>...</td>\n",
       "      <td>Available</td>\n",
       "      <td>Not Used in Prior Housing Element</td>\n",
       "      <td>61.0</td>\n",
       "      <td>0.0</td>\n",
       "      <td>0.0</td>\n",
       "      <td>61.0</td>\n",
       "      <td>Opportunity Site</td>\n",
       "      <td>Maximum Density set by FAR (1.85). Maximum dwe...</td>\n",
       "      <td>NaN</td>\n",
       "      <td>NaN</td>\n",
       "    </tr>\n",
       "    <tr>\n",
       "      <th>3</th>\n",
       "      <td>MOUNTAIN VIEW</td>\n",
       "      <td>1070 LA AVENIDA</td>\n",
       "      <td>94043-1422</td>\n",
       "      <td>11614108.0</td>\n",
       "      <td>Not Applicable</td>\n",
       "      <td>North Bayshore Mixed-Use</td>\n",
       "      <td>P(39) - North Bayshore Precise Plan</td>\n",
       "      <td>0.0</td>\n",
       "      <td>~71</td>\n",
       "      <td>1.07</td>\n",
       "      <td>...</td>\n",
       "      <td>Available</td>\n",
       "      <td>Not Used in Prior Housing Element</td>\n",
       "      <td>53.0</td>\n",
       "      <td>0.0</td>\n",
       "      <td>0.0</td>\n",
       "      <td>53.0</td>\n",
       "      <td>Opportunity Site</td>\n",
       "      <td>Maximum Density set by FAR (1.85). Maximum dwe...</td>\n",
       "      <td>NaN</td>\n",
       "      <td>NaN</td>\n",
       "    </tr>\n",
       "    <tr>\n",
       "      <th>4</th>\n",
       "      <td>MOUNTAIN VIEW</td>\n",
       "      <td>1080 LA AVENIDA A</td>\n",
       "      <td>94043-1422</td>\n",
       "      <td>11614109.0</td>\n",
       "      <td>Not Applicable</td>\n",
       "      <td>North Bayshore Mixed-Use</td>\n",
       "      <td>P(39) - North Bayshore Precise Plan</td>\n",
       "      <td>0.0</td>\n",
       "      <td>~71</td>\n",
       "      <td>0.92</td>\n",
       "      <td>...</td>\n",
       "      <td>Available</td>\n",
       "      <td>Not Used in Prior Housing Element</td>\n",
       "      <td>0.0</td>\n",
       "      <td>45.0</td>\n",
       "      <td>0.0</td>\n",
       "      <td>45.0</td>\n",
       "      <td>Opportunity Site</td>\n",
       "      <td>Maximum Density set by FAR (1.85). Maximum dwe...</td>\n",
       "      <td>NaN</td>\n",
       "      <td>NaN</td>\n",
       "    </tr>\n",
       "  </tbody>\n",
       "</table>\n",
       "<p>5 rows × 23 columns</p>\n",
       "</div>"
      ],
      "text/plain": [
       "  Jurisdiction Name Site Address/Intersection 5 Digit ZIP Code  \\\n",
       "0     MOUNTAIN VIEW         1500 SHORELINE BL       94043-1314   \n",
       "1     MOUNTAIN VIEW        1280 SPACE PARK WY       94043-1434   \n",
       "2     MOUNTAIN VIEW           1060 LA AVENIDA       94043-1422   \n",
       "3     MOUNTAIN VIEW           1070 LA AVENIDA       94043-1422   \n",
       "4     MOUNTAIN VIEW         1080 LA AVENIDA A       94043-1422   \n",
       "\n",
       "   Assessor Parcel Number Consolidated Sites  \\\n",
       "0              11613030.0     Not Applicable   \n",
       "1              11614071.0     Not Applicable   \n",
       "2              11614107.0     Not Applicable   \n",
       "3              11614108.0     Not Applicable   \n",
       "4              11614109.0     Not Applicable   \n",
       "\n",
       "  General Plan Designation (Current)         Zoning Designation (Current)  \\\n",
       "0           North Bayshore Mixed-Use  P(39) - North Bayshore Precise Plan   \n",
       "1           North Bayshore Mixed-Use  P(39) - North Bayshore Precise Plan   \n",
       "2           North Bayshore Mixed-Use  P(39) - North Bayshore Precise Plan   \n",
       "3           North Bayshore Mixed-Use  P(39) - North Bayshore Precise Plan   \n",
       "4           North Bayshore Mixed-Use  P(39) - North Bayshore Precise Plan   \n",
       "\n",
       "   Minimum Density Allowed (units/acre) Max Density Allowed (units/acre)  \\\n",
       "0                                   0.0                             ~157   \n",
       "1                                   0.0                             ~157   \n",
       "2                                   0.0                              ~71   \n",
       "3                                   0.0                              ~71   \n",
       "4                                   0.0                              ~71   \n",
       "\n",
       "   Parcel Size (Acres)  ... Site Status  \\\n",
       "0                15.75  ...   Available   \n",
       "1                 0.98  ...   Available   \n",
       "2                 1.24  ...   Available   \n",
       "3                 1.07  ...   Available   \n",
       "4                 0.92  ...   Available   \n",
       "\n",
       "  Identified in Last/Last Two Planning Cycle(s) Lower Income Capacity  \\\n",
       "0             Not Used in Prior Housing Element                 150.0   \n",
       "1             Not Used in Prior Housing Element                 107.0   \n",
       "2             Not Used in Prior Housing Element                  61.0   \n",
       "3             Not Used in Prior Housing Element                  53.0   \n",
       "4             Not Used in Prior Housing Element                   0.0   \n",
       "\n",
       "  Moderate Income Capacity Above Moderate Income Capacity  Total Capacity  \\\n",
       "0                    150.0                         1432.0          1732.0   \n",
       "1                      0.0                            0.0           107.0   \n",
       "2                      0.0                            0.0            61.0   \n",
       "3                      0.0                            0.0            53.0   \n",
       "4                     45.0                            0.0            45.0   \n",
       "\n",
       "   Optional Information 1                             Optional Information 2  \\\n",
       "0       Opportunity Site   Maximum Density set by FAR (3.5). Maximum dwel...   \n",
       "1       Opportunity Site   Maximum Density set by FAR (3.5). Maximum dwel...   \n",
       "2       Opportunity Site   Maximum Density set by FAR (1.85). Maximum dwe...   \n",
       "3       Opportunity Site   Maximum Density set by FAR (1.85). Maximum dwe...   \n",
       "4       Opportunity Site   Maximum Density set by FAR (1.85). Maximum dwe...   \n",
       "\n",
       "   Optional Information 3 Unnamed: 22  \n",
       "0                     NaN         NaN  \n",
       "1                     NaN         NaN  \n",
       "2                     NaN         NaN  \n",
       "3                     NaN         NaN  \n",
       "4                     NaN         NaN  \n",
       "\n",
       "[5 rows x 23 columns]"
      ]
     },
     "execution_count": 48,
     "metadata": {},
     "output_type": "execute_result"
    }
   ],
   "source": [
    "si_nov = pd.read_csv('./data/nov_table_a.csv', low_memory=False)\n",
    "si_nov = si_nov[~si_nov.isna().all(axis=1)]\n",
    "si_nov = si_nov[:-1]\n",
    "si_nov.head()"
   ]
  },
  {
   "cell_type": "markdown",
   "id": "551186a0",
   "metadata": {},
   "source": [
    "#### Pipeline"
   ]
  },
  {
   "cell_type": "code",
   "execution_count": 49,
   "id": "a71d0785",
   "metadata": {},
   "outputs": [
    {
     "name": "stdout",
     "output_type": "stream",
     "text": [
      "4969\n",
      "2507\n",
      "1324\n",
      "668\n"
     ]
    }
   ],
   "source": [
    "# city projections\n",
    "tot_pipe = 7476\n",
    "li_pipe = 1992\n",
    "\n",
    "# expected total pipeline units\n",
    "print(round(sum(mv_history.units * mv_history.pct_built) / mv_history.units.sum() * tot_pipe))\n",
    "\n",
    "# delta\n",
    "print(round(tot_pipe - sum(mv_history.units * mv_history.pct_built) / mv_history.units.sum() * tot_pipe))\n",
    "\n",
    "# expected li pipeline units \n",
    "print(round(sum(mv_history.units * mv_history.pct_built) / mv_history.units.sum() * li_pipe))\n",
    "\n",
    "# delta (li)\n",
    "print(round(li_pipe - sum(mv_history.units * mv_history.pct_built) / mv_history.units.sum() * li_pipe))"
   ]
  },
  {
   "cell_type": "code",
   "execution_count": 50,
   "id": "cb90e396",
   "metadata": {},
   "outputs": [
    {
     "data": {
      "text/plain": [
       "P(38) - El Camino Real Precise Plan    52\n",
       "P(41) - East Whisman Precise Plan      15\n",
       "P(40) - San Antonio Precise Plan        9\n",
       "P(39) - North Bayshore Precise Plan     7\n",
       "CN                                      5\n",
       "CRA                                     4\n",
       "P(27) - Grant-Phyllis Precise Plan      3\n",
       "P(19) - Downtown Precise Plan           1\n",
       "Name: Zoning Designation (Current), dtype: int64"
      ]
     },
     "execution_count": 50,
     "metadata": {},
     "output_type": "execute_result"
    }
   ],
   "source": [
    "opps = si_nov[~si_nov['Site Status'].str.contains('Pending')]\n",
    "opps['Zoning Designation (Current)'].value_counts()"
   ]
  },
  {
   "cell_type": "code",
   "execution_count": 59,
   "id": "9fb11399",
   "metadata": {},
   "outputs": [],
   "source": [
    "ecr = opps[opps['Zoning Designation (Current)'].str.contains(\"El Camino Real\")]\n",
    "ew = opps[opps['Zoning Designation (Current)'].str.contains(\"East Whisman\")]\n",
    "sa = opps[opps['Zoning Designation (Current)'].str.contains(\"San Antonio\")]\n",
    "nb = opps[opps['Zoning Designation (Current)'].str.contains(\"North Bayshore\")]\n",
    "pp_inflations = {}"
   ]
  },
  {
   "cell_type": "code",
   "execution_count": 63,
   "id": "98a2b511",
   "metadata": {},
   "outputs": [],
   "source": [
    "for pp, name, expect in zip([ecr, ew, sa, nb], ['ecr', 'ew', 'sa', 'nb'], [ecr_exp, ew_exp, sa_exp, nbs_exp]):\n",
    "    pp_inflations[name] = {'inflate':  round((len(pp) / expect)*100 - 100, 2),\n",
    "                            'claim': round(float(len(pp)) / 8.0, 3), \n",
    "                            'hist': round(expect / 8, 3)}"
   ]
  },
  {
   "cell_type": "code",
   "execution_count": 64,
   "id": "ce6f68d0",
   "metadata": {},
   "outputs": [
    {
     "name": "stdout",
     "output_type": "stream",
     "text": [
      "Precise Plan      Historical    Claimed    Inflation\n",
      "--------------  ------------  ---------  -----------\n",
      "EW                     0.667      1.875       181.25\n",
      "ECR                    3.125      6.5         108\n",
      "NB                     0.4        0.875       118.75\n",
      "SA                     0.875      1.125        28.57\n"
     ]
    }
   ],
   "source": [
    "# Table 2\n",
    "print(tabulate([['EW', pp_inflations['ew']['hist'], pp_inflations['ew']['claim'], pp_inflations['ew']['inflate']],\n",
    "                ['ECR', pp_inflations['ecr']['hist'], pp_inflations['ecr']['claim'], pp_inflations['ecr']['inflate']],\n",
    "                ['NB', pp_inflations['nb']['hist'], pp_inflations['nb']['claim'], pp_inflations['nb']['inflate']],\n",
    "                ['SA', pp_inflations['sa']['hist'], pp_inflations['sa']['claim'], pp_inflations['sa']['inflate']]], \n",
    "               headers=['Precise Plan', 'Historical', 'Claimed', 'Inflation']))\n"
   ]
  },
  {
   "cell_type": "code",
   "execution_count": 65,
   "id": "d9ce4e76",
   "metadata": {},
   "outputs": [],
   "source": [
    "# from table 62 (november)\n",
    "ew_li, ew_tot = 997, 1312\n",
    "ecr_li, ecr_tot = 1127, 1905\n",
    "nb_li, nb_tot = 463, 2137\n",
    "sa_li, sa_tot = 191, 310\n",
    "\n",
    "run_sum_li, run_sum_tot = 0, 0"
   ]
  },
  {
   "cell_type": "code",
   "execution_count": 66,
   "id": "2081d541",
   "metadata": {},
   "outputs": [],
   "source": [
    "pp_expecteds = {}\n",
    "for pp, name, expect, li, tot in zip([ecr, ew, sa, nb], \n",
    "                                ['ecr', 'ew', 'sa', 'nb'], \n",
    "                                [ecr_exp, ew_exp, sa_exp, nbs_exp],\n",
    "                                [ecr_li, ew_li, sa_li, nb_li],\n",
    "                                [ecr_tot, ew_tot, sa_tot, nb_tot]):\n",
    "    pp_expecteds[name] = {'li': round(li*(expect / len(pp)), 2), 'tot': round(tot*(expect / len(pp)), 2)} \n",
    "    run_sum_li += li*(1 - expect / len(pp))\n",
    "    run_sum_tot += tot*(1 - expect / len(pp))"
   ]
  },
  {
   "cell_type": "code",
   "execution_count": 67,
   "id": "7a06a56e",
   "metadata": {},
   "outputs": [
    {
     "data": {
      "text/plain": [
       "1521.4714896214896"
      ]
     },
     "execution_count": 67,
     "metadata": {},
     "output_type": "execute_result"
    }
   ],
   "source": [
    "run_sum_li\n"
   ]
  },
  {
   "cell_type": "code",
   "execution_count": 68,
   "id": "56a9cf6a",
   "metadata": {},
   "outputs": [
    {
     "data": {
      "text/plain": [
       "3063.6203296703297"
      ]
     },
     "execution_count": 68,
     "metadata": {},
     "output_type": "execute_result"
    }
   ],
   "source": [
    "run_sum_tot"
   ]
  },
  {
   "cell_type": "code",
   "execution_count": 69,
   "id": "ba7ac8e2",
   "metadata": {},
   "outputs": [],
   "source": [
    "# Create Table 3\n"
   ]
  },
  {
   "cell_type": "code",
   "execution_count": 70,
   "id": "94038f14",
   "metadata": {},
   "outputs": [
    {
     "name": "stdout",
     "output_type": "stream",
     "text": [
      "Precise Plan    income      MVPlanning    MVYIMBY    DIFFERENCE\n",
      "--------------  --------  ------------  ---------  ------------\n",
      "EW              li                 997     354.49        642.51\n",
      "EW              tot               1312     466.49        845.51\n",
      "ECR             li                1127     541.83        585.17\n",
      "ECR             tot               1905     915.87        989.13\n",
      "NB              li                 463     211.66        251.34\n",
      "NB              tot               2137     976.91       1160.09\n",
      "SA              li                 191     148.56         42.44\n",
      "SA              tot                310     241.11         68.89\n",
      "All Four        li                2778    1256.54       1521.46\n",
      "All Four        tot               5664    2600.38       3063.62\n"
     ]
    }
   ],
   "source": [
    "four_pp_li = ew_li + ecr_li + nb_li + sa_li\n",
    "four_pp_tot = ew_tot + ecr_tot + nb_tot + sa_tot\n",
    "all_expected_li = sum([v['li'] for k, v in pp_expecteds.items()])\n",
    "all_expected_tot = sum([v['tot'] for k, v in pp_expecteds.items()])\n",
    "print(tabulate([['EW', 'li', ew_li, pp_expecteds['ew']['li'], ew_li - pp_expecteds['ew']['li']],\n",
    "                ['EW', 'tot', ew_tot, pp_expecteds['ew']['tot'], ew_tot - pp_expecteds['ew']['tot']],\n",
    "                ['ECR', 'li', ecr_li, pp_expecteds['ecr']['li'], ecr_li - pp_expecteds['ecr']['li']],\n",
    "                ['ECR', 'tot', ecr_tot, pp_expecteds['ecr']['tot'], ecr_tot - pp_expecteds['ecr']['tot']],\n",
    "                ['NB', 'li', nb_li, pp_expecteds['nb']['li'], nb_li - pp_expecteds['nb']['li']],\n",
    "                ['NB', 'tot', nb_tot, pp_expecteds['nb']['tot'], nb_tot - pp_expecteds['nb']['tot']],\n",
    "                ['SA', 'li', sa_li, pp_expecteds['sa']['li'], sa_li - pp_expecteds['sa']['li']],\n",
    "                ['SA', 'tot', sa_tot, pp_expecteds['sa']['tot'], sa_tot - pp_expecteds['sa']['tot']],\n",
    "                ['All Four', 'li', four_pp_li, all_expected_li, four_pp_li - all_expected_li],\n",
    "                ['All Four', 'tot', four_pp_tot, all_expected_tot, four_pp_tot - all_expected_tot]], \n",
    "               headers=['Precise Plan', 'income', 'MVPlanning', 'MVYIMBY', 'DIFFERENCE']))\n"
   ]
  },
  {
   "cell_type": "code",
   "execution_count": 71,
   "id": "e653f1cf",
   "metadata": {},
   "outputs": [],
   "source": [
    "ew_li, ew_tot = 997, 1312\n",
    "ecr_li, ecr_tot = 1127, 1905\n",
    "nb_li, nb_tot = 463, 2137\n",
    "sa_li, sa_tot = 191, 310"
   ]
  },
  {
   "cell_type": "code",
   "execution_count": 72,
   "id": "147af483",
   "metadata": {},
   "outputs": [
    {
     "data": {
      "text/plain": [
       "1606"
      ]
     },
     "execution_count": 72,
     "metadata": {},
     "output_type": "execute_result"
    }
   ],
   "source": [
    "# Add downtown, grant-phyllis, and not-in-pp to LI credit \n",
    "1257 + 148 + 0 + 201"
   ]
  },
  {
   "cell_type": "code",
   "execution_count": 73,
   "id": "8bdb4b01",
   "metadata": {},
   "outputs": [
    {
     "data": {
      "text/plain": [
       "3201"
      ]
     },
     "execution_count": 73,
     "metadata": {},
     "output_type": "execute_result"
    }
   ],
   "source": [
    "# Add downtown, grant-phyllis, and not-in-pp to total credit \n",
    "2600 + 273 + 6 + 322"
   ]
  },
  {
   "cell_type": "markdown",
   "id": "21329470",
   "metadata": {},
   "source": [
    "### Approved projects"
   ]
  },
  {
   "cell_type": "code",
   "execution_count": 78,
   "id": "1e3cd6a1",
   "metadata": {},
   "outputs": [],
   "source": [
    "# See https://docs.google.com/spreadsheets/d/1dOutYacAJ_BmBkRc1_Vdt9l6PV9boGpC3FOcniIvrEk/edit#gid=0\n",
    "gamel_li, gamel_tot = 29, 92\n",
    "ecr950_li, ecr950_tot = 70, 71\n",
    "logue_li, logue_tot = 24, 408\n",
    "cal2580_li, cal2580_tot = 0, 165\n",
    "ecr870_li, ecr_870_tot = 33, 191"
   ]
  },
  {
   "cell_type": "code",
   "execution_count": 95,
   "id": "a27834b9",
   "metadata": {},
   "outputs": [
    {
     "data": {
      "text/plain": [
       "86"
      ]
     },
     "execution_count": 95,
     "metadata": {},
     "output_type": "execute_result"
    }
   ],
   "source": [
    "gamel_li + logue_li + ecr870_li "
   ]
  },
  {
   "cell_type": "code",
   "execution_count": 97,
   "id": "171894d5",
   "metadata": {},
   "outputs": [
    {
     "data": {
      "text/plain": [
       "423"
      ]
     },
     "execution_count": 97,
     "metadata": {},
     "output_type": "execute_result"
    }
   ],
   "source": [
    "509 - 86"
   ]
  },
  {
   "cell_type": "code",
   "execution_count": 98,
   "id": "cb25ed70",
   "metadata": {},
   "outputs": [
    {
     "data": {
      "text/plain": [
       "691"
      ]
     },
     "execution_count": 98,
     "metadata": {},
     "output_type": "execute_result"
    }
   ],
   "source": [
    "gamel_tot + logue_tot + ecr_870_tot"
   ]
  },
  {
   "cell_type": "code",
   "execution_count": 100,
   "id": "d0cc45fb",
   "metadata": {},
   "outputs": [
    {
     "data": {
      "text/plain": [
       "3383"
      ]
     },
     "execution_count": 100,
     "metadata": {},
     "output_type": "execute_result"
    }
   ],
   "source": [
    "423 + 1324 + 1606 + 30"
   ]
  },
  {
   "cell_type": "code",
   "execution_count": 99,
   "id": "c2827f42",
   "metadata": {},
   "outputs": [
    {
     "data": {
      "text/plain": [
       "3251"
      ]
     },
     "execution_count": 99,
     "metadata": {},
     "output_type": "execute_result"
    }
   ],
   "source": [
    "3942 - 691"
   ]
  },
  {
   "cell_type": "code",
   "execution_count": 101,
   "id": "9d5562ce",
   "metadata": {},
   "outputs": [
    {
     "data": {
      "text/plain": [
       "11480"
      ]
     },
     "execution_count": 101,
     "metadata": {},
     "output_type": "execute_result"
    }
   ],
   "source": [
    "3251 + 4969 + 3201 + 59"
   ]
  },
  {
   "cell_type": "code",
   "execution_count": 102,
   "id": "12547513",
   "metadata": {},
   "outputs": [
    {
     "data": {
      "text/plain": [
       "6299"
      ]
     },
     "execution_count": 102,
     "metadata": {},
     "output_type": "execute_result"
    }
   ],
   "source": [
    "691 + 2507 + 3064 + 37"
   ]
  },
  {
   "cell_type": "code",
   "execution_count": 103,
   "id": "0102015b",
   "metadata": {},
   "outputs": [
    {
     "data": {
      "text/plain": [
       "2293"
      ]
     },
     "execution_count": 103,
     "metadata": {},
     "output_type": "execute_result"
    }
   ],
   "source": [
    "86 + 668 + 1521 + 18 "
   ]
  },
  {
   "cell_type": "code",
   "execution_count": 106,
   "id": "001d6046",
   "metadata": {},
   "outputs": [
    {
     "data": {
      "text/plain": [
       "11480"
      ]
     },
     "execution_count": 106,
     "metadata": {},
     "output_type": "execute_result"
    }
   ],
   "source": [
    "17779 - 6299"
   ]
  },
  {
   "cell_type": "code",
   "execution_count": 91,
   "id": "61164d8d",
   "metadata": {},
   "outputs": [
    {
     "data": {
      "text/html": [
       "<div>\n",
       "<style scoped>\n",
       "    .dataframe tbody tr th:only-of-type {\n",
       "        vertical-align: middle;\n",
       "    }\n",
       "\n",
       "    .dataframe tbody tr th {\n",
       "        vertical-align: top;\n",
       "    }\n",
       "\n",
       "    .dataframe thead th {\n",
       "        text-align: right;\n",
       "    }\n",
       "</style>\n",
       "<table border=\"1\" class=\"dataframe\">\n",
       "  <thead>\n",
       "    <tr style=\"text-align: right;\">\n",
       "      <th></th>\n",
       "      <th>Jurisdiction Name</th>\n",
       "      <th>Site Address/Intersection</th>\n",
       "      <th>5 Digit ZIP Code</th>\n",
       "      <th>Assessor Parcel Number</th>\n",
       "      <th>Consolidated Sites</th>\n",
       "      <th>General Plan Designation (Current)</th>\n",
       "      <th>Zoning Designation (Current)</th>\n",
       "      <th>Minimum Density Allowed (units/acre)</th>\n",
       "      <th>Max Density Allowed (units/acre)</th>\n",
       "      <th>Parcel Size (Acres)</th>\n",
       "      <th>...</th>\n",
       "      <th>Site Status</th>\n",
       "      <th>Identified in Last/Last Two Planning Cycle(s)</th>\n",
       "      <th>Lower Income Capacity</th>\n",
       "      <th>Moderate Income Capacity</th>\n",
       "      <th>Above Moderate Income Capacity</th>\n",
       "      <th>Total Capacity</th>\n",
       "      <th>Optional Information 1</th>\n",
       "      <th>Optional Information 2</th>\n",
       "      <th>Optional Information 3</th>\n",
       "      <th>Unnamed: 22</th>\n",
       "    </tr>\n",
       "  </thead>\n",
       "  <tbody>\n",
       "    <tr>\n",
       "      <th>0</th>\n",
       "      <td>MOUNTAIN VIEW</td>\n",
       "      <td>1500 SHORELINE BL</td>\n",
       "      <td>94043-1314</td>\n",
       "      <td>11613030.0</td>\n",
       "      <td>Not Applicable</td>\n",
       "      <td>North Bayshore Mixed-Use</td>\n",
       "      <td>P(39) - North Bayshore Precise Plan</td>\n",
       "      <td>0.0</td>\n",
       "      <td>~157</td>\n",
       "      <td>15.75</td>\n",
       "      <td>...</td>\n",
       "      <td>Available</td>\n",
       "      <td>Not Used in Prior Housing Element</td>\n",
       "      <td>150.0</td>\n",
       "      <td>150.0</td>\n",
       "      <td>1432.0</td>\n",
       "      <td>1732.0</td>\n",
       "      <td>Opportunity Site</td>\n",
       "      <td>Maximum Density set by FAR (3.5). Maximum dwel...</td>\n",
       "      <td>NaN</td>\n",
       "      <td>NaN</td>\n",
       "    </tr>\n",
       "    <tr>\n",
       "      <th>1</th>\n",
       "      <td>MOUNTAIN VIEW</td>\n",
       "      <td>1280 SPACE PARK WY</td>\n",
       "      <td>94043-1434</td>\n",
       "      <td>11614071.0</td>\n",
       "      <td>Not Applicable</td>\n",
       "      <td>North Bayshore Mixed-Use</td>\n",
       "      <td>P(39) - North Bayshore Precise Plan</td>\n",
       "      <td>0.0</td>\n",
       "      <td>~157</td>\n",
       "      <td>0.98</td>\n",
       "      <td>...</td>\n",
       "      <td>Available</td>\n",
       "      <td>Not Used in Prior Housing Element</td>\n",
       "      <td>107.0</td>\n",
       "      <td>0.0</td>\n",
       "      <td>0.0</td>\n",
       "      <td>107.0</td>\n",
       "      <td>Opportunity Site</td>\n",
       "      <td>Maximum Density set by FAR (3.5). Maximum dwel...</td>\n",
       "      <td>NaN</td>\n",
       "      <td>NaN</td>\n",
       "    </tr>\n",
       "    <tr>\n",
       "      <th>2</th>\n",
       "      <td>MOUNTAIN VIEW</td>\n",
       "      <td>1060 LA AVENIDA</td>\n",
       "      <td>94043-1422</td>\n",
       "      <td>11614107.0</td>\n",
       "      <td>Not Applicable</td>\n",
       "      <td>North Bayshore Mixed-Use</td>\n",
       "      <td>P(39) - North Bayshore Precise Plan</td>\n",
       "      <td>0.0</td>\n",
       "      <td>~71</td>\n",
       "      <td>1.24</td>\n",
       "      <td>...</td>\n",
       "      <td>Available</td>\n",
       "      <td>Not Used in Prior Housing Element</td>\n",
       "      <td>61.0</td>\n",
       "      <td>0.0</td>\n",
       "      <td>0.0</td>\n",
       "      <td>61.0</td>\n",
       "      <td>Opportunity Site</td>\n",
       "      <td>Maximum Density set by FAR (1.85). Maximum dwe...</td>\n",
       "      <td>NaN</td>\n",
       "      <td>NaN</td>\n",
       "    </tr>\n",
       "    <tr>\n",
       "      <th>3</th>\n",
       "      <td>MOUNTAIN VIEW</td>\n",
       "      <td>1070 LA AVENIDA</td>\n",
       "      <td>94043-1422</td>\n",
       "      <td>11614108.0</td>\n",
       "      <td>Not Applicable</td>\n",
       "      <td>North Bayshore Mixed-Use</td>\n",
       "      <td>P(39) - North Bayshore Precise Plan</td>\n",
       "      <td>0.0</td>\n",
       "      <td>~71</td>\n",
       "      <td>1.07</td>\n",
       "      <td>...</td>\n",
       "      <td>Available</td>\n",
       "      <td>Not Used in Prior Housing Element</td>\n",
       "      <td>53.0</td>\n",
       "      <td>0.0</td>\n",
       "      <td>0.0</td>\n",
       "      <td>53.0</td>\n",
       "      <td>Opportunity Site</td>\n",
       "      <td>Maximum Density set by FAR (1.85). Maximum dwe...</td>\n",
       "      <td>NaN</td>\n",
       "      <td>NaN</td>\n",
       "    </tr>\n",
       "    <tr>\n",
       "      <th>4</th>\n",
       "      <td>MOUNTAIN VIEW</td>\n",
       "      <td>1080 LA AVENIDA A</td>\n",
       "      <td>94043-1422</td>\n",
       "      <td>11614109.0</td>\n",
       "      <td>Not Applicable</td>\n",
       "      <td>North Bayshore Mixed-Use</td>\n",
       "      <td>P(39) - North Bayshore Precise Plan</td>\n",
       "      <td>0.0</td>\n",
       "      <td>~71</td>\n",
       "      <td>0.92</td>\n",
       "      <td>...</td>\n",
       "      <td>Available</td>\n",
       "      <td>Not Used in Prior Housing Element</td>\n",
       "      <td>0.0</td>\n",
       "      <td>45.0</td>\n",
       "      <td>0.0</td>\n",
       "      <td>45.0</td>\n",
       "      <td>Opportunity Site</td>\n",
       "      <td>Maximum Density set by FAR (1.85). Maximum dwe...</td>\n",
       "      <td>NaN</td>\n",
       "      <td>NaN</td>\n",
       "    </tr>\n",
       "    <tr>\n",
       "      <th>...</th>\n",
       "      <td>...</td>\n",
       "      <td>...</td>\n",
       "      <td>...</td>\n",
       "      <td>...</td>\n",
       "      <td>...</td>\n",
       "      <td>...</td>\n",
       "      <td>...</td>\n",
       "      <td>...</td>\n",
       "      <td>...</td>\n",
       "      <td>...</td>\n",
       "      <td>...</td>\n",
       "      <td>...</td>\n",
       "      <td>...</td>\n",
       "      <td>...</td>\n",
       "      <td>...</td>\n",
       "      <td>...</td>\n",
       "      <td>...</td>\n",
       "      <td>...</td>\n",
       "      <td>...</td>\n",
       "      <td>...</td>\n",
       "      <td>...</td>\n",
       "    </tr>\n",
       "    <tr>\n",
       "      <th>91</th>\n",
       "      <td>MOUNTAIN VIEW</td>\n",
       "      <td>121 E EL CAMINO REAL</td>\n",
       "      <td>94040-2701</td>\n",
       "      <td>19742004.0</td>\n",
       "      <td>Not Applicable</td>\n",
       "      <td>Mixed-Use Corridor (ECR Village Center)</td>\n",
       "      <td>P(38) - El Camino Real Precise Plan</td>\n",
       "      <td>0.0</td>\n",
       "      <td>47-93</td>\n",
       "      <td>7.96</td>\n",
       "      <td>...</td>\n",
       "      <td>Available</td>\n",
       "      <td>Not Used in Prior Housing Element</td>\n",
       "      <td>96.0</td>\n",
       "      <td>0.0</td>\n",
       "      <td>0.0</td>\n",
       "      <td>96.0</td>\n",
       "      <td>Opportunity Site - El Camino Real</td>\n",
       "      <td>Maximum Density set by FAR (1.85). Maximum dwe...</td>\n",
       "      <td>Rezoned to 2.3 FAR, allowing approximately 65-...</td>\n",
       "      <td>NaN</td>\n",
       "    </tr>\n",
       "    <tr>\n",
       "      <th>92</th>\n",
       "      <td>MOUNTAIN VIEW</td>\n",
       "      <td>789 E EL CAMINO REAL</td>\n",
       "      <td>94040-2833</td>\n",
       "      <td>19801003.0</td>\n",
       "      <td>Not Applicable</td>\n",
       "      <td>Mixed-Use Corridor</td>\n",
       "      <td>P(38) - El Camino Real Precise Plan</td>\n",
       "      <td>0.0</td>\n",
       "      <td>65-111</td>\n",
       "      <td>4.59</td>\n",
       "      <td>...</td>\n",
       "      <td>Available</td>\n",
       "      <td>Not Used in Prior Housing Element</td>\n",
       "      <td>55.0</td>\n",
       "      <td>0.0</td>\n",
       "      <td>0.0</td>\n",
       "      <td>55.0</td>\n",
       "      <td>Opportunity Site</td>\n",
       "      <td>Maximum Density set by FAR (1.85). Maximum dwe...</td>\n",
       "      <td>NaN</td>\n",
       "      <td>NaN</td>\n",
       "    </tr>\n",
       "    <tr>\n",
       "      <th>93</th>\n",
       "      <td>MOUNTAIN VIEW</td>\n",
       "      <td>825 E EL CAMINO REAL</td>\n",
       "      <td>94040-2807</td>\n",
       "      <td>19807003.0</td>\n",
       "      <td>Not Applicable</td>\n",
       "      <td>Mixed-Use Corridor</td>\n",
       "      <td>P(38) - El Camino Real Precise Plan</td>\n",
       "      <td>0.0</td>\n",
       "      <td>65-111</td>\n",
       "      <td>0.29</td>\n",
       "      <td>...</td>\n",
       "      <td>Available</td>\n",
       "      <td>Not Used in Prior Housing Element</td>\n",
       "      <td>0.0</td>\n",
       "      <td>17.0</td>\n",
       "      <td>0.0</td>\n",
       "      <td>17.0</td>\n",
       "      <td>Opportunity Site</td>\n",
       "      <td>Maximum Density set by FAR (1.85). Maximum dwe...</td>\n",
       "      <td>NaN</td>\n",
       "      <td>NaN</td>\n",
       "    </tr>\n",
       "    <tr>\n",
       "      <th>94</th>\n",
       "      <td>MOUNTAIN VIEW</td>\n",
       "      <td>831 E EL CAMINO REAL</td>\n",
       "      <td>94040-2807</td>\n",
       "      <td>19807004.0</td>\n",
       "      <td>Not Applicable</td>\n",
       "      <td>Mixed-Use Corridor</td>\n",
       "      <td>P(38) - El Camino Real Precise Plan</td>\n",
       "      <td>0.0</td>\n",
       "      <td>65-111</td>\n",
       "      <td>1.16</td>\n",
       "      <td>...</td>\n",
       "      <td>Available</td>\n",
       "      <td>Not Used in Prior Housing Element</td>\n",
       "      <td>70.0</td>\n",
       "      <td>0.0</td>\n",
       "      <td>0.0</td>\n",
       "      <td>70.0</td>\n",
       "      <td>Opportunity Site</td>\n",
       "      <td>Maximum Density set by FAR (1.85). Maximum dwe...</td>\n",
       "      <td>NaN</td>\n",
       "      <td>NaN</td>\n",
       "    </tr>\n",
       "    <tr>\n",
       "      <th>95</th>\n",
       "      <td>MOUNTAIN VIEW</td>\n",
       "      <td>891 E EL CAMINO REAL</td>\n",
       "      <td>94040-2807</td>\n",
       "      <td>19807008.0</td>\n",
       "      <td>Not Applicable</td>\n",
       "      <td>Mixed-Use Corridor</td>\n",
       "      <td>P(38) - El Camino Real Precise Plan</td>\n",
       "      <td>0.0</td>\n",
       "      <td>65-111</td>\n",
       "      <td>0.40</td>\n",
       "      <td>...</td>\n",
       "      <td>Available</td>\n",
       "      <td>Not Used in Prior Housing Element</td>\n",
       "      <td>0.0</td>\n",
       "      <td>24.0</td>\n",
       "      <td>0.0</td>\n",
       "      <td>24.0</td>\n",
       "      <td>Opportunity Site</td>\n",
       "      <td>Maximum Density set by FAR (1.85). Maximum dwe...</td>\n",
       "      <td>NaN</td>\n",
       "      <td>NaN</td>\n",
       "    </tr>\n",
       "  </tbody>\n",
       "</table>\n",
       "<p>96 rows × 23 columns</p>\n",
       "</div>"
      ],
      "text/plain": [
       "   Jurisdiction Name Site Address/Intersection 5 Digit ZIP Code  \\\n",
       "0      MOUNTAIN VIEW         1500 SHORELINE BL       94043-1314   \n",
       "1      MOUNTAIN VIEW        1280 SPACE PARK WY       94043-1434   \n",
       "2      MOUNTAIN VIEW           1060 LA AVENIDA       94043-1422   \n",
       "3      MOUNTAIN VIEW           1070 LA AVENIDA       94043-1422   \n",
       "4      MOUNTAIN VIEW         1080 LA AVENIDA A       94043-1422   \n",
       "..               ...                       ...              ...   \n",
       "91     MOUNTAIN VIEW      121 E EL CAMINO REAL       94040-2701   \n",
       "92     MOUNTAIN VIEW      789 E EL CAMINO REAL       94040-2833   \n",
       "93     MOUNTAIN VIEW      825 E EL CAMINO REAL       94040-2807   \n",
       "94     MOUNTAIN VIEW      831 E EL CAMINO REAL       94040-2807   \n",
       "95     MOUNTAIN VIEW      891 E EL CAMINO REAL       94040-2807   \n",
       "\n",
       "    Assessor Parcel Number Consolidated Sites  \\\n",
       "0               11613030.0     Not Applicable   \n",
       "1               11614071.0     Not Applicable   \n",
       "2               11614107.0     Not Applicable   \n",
       "3               11614108.0     Not Applicable   \n",
       "4               11614109.0     Not Applicable   \n",
       "..                     ...                ...   \n",
       "91              19742004.0     Not Applicable   \n",
       "92              19801003.0     Not Applicable   \n",
       "93              19807003.0     Not Applicable   \n",
       "94              19807004.0     Not Applicable   \n",
       "95              19807008.0     Not Applicable   \n",
       "\n",
       "         General Plan Designation (Current)  \\\n",
       "0                  North Bayshore Mixed-Use   \n",
       "1                  North Bayshore Mixed-Use   \n",
       "2                  North Bayshore Mixed-Use   \n",
       "3                  North Bayshore Mixed-Use   \n",
       "4                  North Bayshore Mixed-Use   \n",
       "..                                      ...   \n",
       "91  Mixed-Use Corridor (ECR Village Center)   \n",
       "92                       Mixed-Use Corridor   \n",
       "93                       Mixed-Use Corridor   \n",
       "94                       Mixed-Use Corridor   \n",
       "95                       Mixed-Use Corridor   \n",
       "\n",
       "           Zoning Designation (Current)  Minimum Density Allowed (units/acre)  \\\n",
       "0   P(39) - North Bayshore Precise Plan                                   0.0   \n",
       "1   P(39) - North Bayshore Precise Plan                                   0.0   \n",
       "2   P(39) - North Bayshore Precise Plan                                   0.0   \n",
       "3   P(39) - North Bayshore Precise Plan                                   0.0   \n",
       "4   P(39) - North Bayshore Precise Plan                                   0.0   \n",
       "..                                  ...                                   ...   \n",
       "91  P(38) - El Camino Real Precise Plan                                   0.0   \n",
       "92  P(38) - El Camino Real Precise Plan                                   0.0   \n",
       "93  P(38) - El Camino Real Precise Plan                                   0.0   \n",
       "94  P(38) - El Camino Real Precise Plan                                   0.0   \n",
       "95  P(38) - El Camino Real Precise Plan                                   0.0   \n",
       "\n",
       "   Max Density Allowed (units/acre)  Parcel Size (Acres)  ... Site Status  \\\n",
       "0                              ~157                15.75  ...   Available   \n",
       "1                              ~157                 0.98  ...   Available   \n",
       "2                               ~71                 1.24  ...   Available   \n",
       "3                               ~71                 1.07  ...   Available   \n",
       "4                               ~71                 0.92  ...   Available   \n",
       "..                              ...                  ...  ...         ...   \n",
       "91                            47-93                 7.96  ...   Available   \n",
       "92                           65-111                 4.59  ...   Available   \n",
       "93                           65-111                 0.29  ...   Available   \n",
       "94                           65-111                 1.16  ...   Available   \n",
       "95                           65-111                 0.40  ...   Available   \n",
       "\n",
       "   Identified in Last/Last Two Planning Cycle(s) Lower Income Capacity  \\\n",
       "0              Not Used in Prior Housing Element                 150.0   \n",
       "1              Not Used in Prior Housing Element                 107.0   \n",
       "2              Not Used in Prior Housing Element                  61.0   \n",
       "3              Not Used in Prior Housing Element                  53.0   \n",
       "4              Not Used in Prior Housing Element                   0.0   \n",
       "..                                           ...                   ...   \n",
       "91             Not Used in Prior Housing Element                  96.0   \n",
       "92             Not Used in Prior Housing Element                  55.0   \n",
       "93             Not Used in Prior Housing Element                   0.0   \n",
       "94             Not Used in Prior Housing Element                  70.0   \n",
       "95             Not Used in Prior Housing Element                   0.0   \n",
       "\n",
       "   Moderate Income Capacity Above Moderate Income Capacity  Total Capacity  \\\n",
       "0                     150.0                         1432.0          1732.0   \n",
       "1                       0.0                            0.0           107.0   \n",
       "2                       0.0                            0.0            61.0   \n",
       "3                       0.0                            0.0            53.0   \n",
       "4                      45.0                            0.0            45.0   \n",
       "..                      ...                            ...             ...   \n",
       "91                      0.0                            0.0            96.0   \n",
       "92                      0.0                            0.0            55.0   \n",
       "93                     17.0                            0.0            17.0   \n",
       "94                      0.0                            0.0            70.0   \n",
       "95                     24.0                            0.0            24.0   \n",
       "\n",
       "               Optional Information 1  \\\n",
       "0                   Opportunity Site    \n",
       "1                   Opportunity Site    \n",
       "2                   Opportunity Site    \n",
       "3                   Opportunity Site    \n",
       "4                   Opportunity Site    \n",
       "..                                ...   \n",
       "91  Opportunity Site - El Camino Real   \n",
       "92                  Opportunity Site    \n",
       "93                  Opportunity Site    \n",
       "94                  Opportunity Site    \n",
       "95                  Opportunity Site    \n",
       "\n",
       "                               Optional Information 2  \\\n",
       "0   Maximum Density set by FAR (3.5). Maximum dwel...   \n",
       "1   Maximum Density set by FAR (3.5). Maximum dwel...   \n",
       "2   Maximum Density set by FAR (1.85). Maximum dwe...   \n",
       "3   Maximum Density set by FAR (1.85). Maximum dwe...   \n",
       "4   Maximum Density set by FAR (1.85). Maximum dwe...   \n",
       "..                                                ...   \n",
       "91  Maximum Density set by FAR (1.85). Maximum dwe...   \n",
       "92  Maximum Density set by FAR (1.85). Maximum dwe...   \n",
       "93  Maximum Density set by FAR (1.85). Maximum dwe...   \n",
       "94  Maximum Density set by FAR (1.85). Maximum dwe...   \n",
       "95  Maximum Density set by FAR (1.85). Maximum dwe...   \n",
       "\n",
       "                               Optional Information 3 Unnamed: 22  \n",
       "0                                                 NaN         NaN  \n",
       "1                                                 NaN         NaN  \n",
       "2                                                 NaN         NaN  \n",
       "3                                                 NaN         NaN  \n",
       "4                                                 NaN         NaN  \n",
       "..                                                ...         ...  \n",
       "91  Rezoned to 2.3 FAR, allowing approximately 65-...         NaN  \n",
       "92                                                NaN         NaN  \n",
       "93                                                NaN         NaN  \n",
       "94                                                NaN         NaN  \n",
       "95                                                NaN         NaN  \n",
       "\n",
       "[96 rows x 23 columns]"
      ]
     },
     "execution_count": 91,
     "metadata": {},
     "output_type": "execute_result"
    }
   ],
   "source": [
    "opps"
   ]
  },
  {
   "cell_type": "code",
   "execution_count": 94,
   "id": "1df1d008",
   "metadata": {},
   "outputs": [
    {
     "data": {
      "text/html": [
       "<div>\n",
       "<style scoped>\n",
       "    .dataframe tbody tr th:only-of-type {\n",
       "        vertical-align: middle;\n",
       "    }\n",
       "\n",
       "    .dataframe tbody tr th {\n",
       "        vertical-align: top;\n",
       "    }\n",
       "\n",
       "    .dataframe thead th {\n",
       "        text-align: right;\n",
       "    }\n",
       "</style>\n",
       "<table border=\"1\" class=\"dataframe\">\n",
       "  <thead>\n",
       "    <tr style=\"text-align: right;\">\n",
       "      <th></th>\n",
       "      <th>Jurisdiction Name</th>\n",
       "      <th>Site Address/Intersection</th>\n",
       "      <th>5 Digit ZIP Code</th>\n",
       "      <th>Assessor Parcel Number</th>\n",
       "      <th>Consolidated Sites</th>\n",
       "      <th>General Plan Designation (Current)</th>\n",
       "      <th>Zoning Designation (Current)</th>\n",
       "      <th>Minimum Density Allowed (units/acre)</th>\n",
       "      <th>Max Density Allowed (units/acre)</th>\n",
       "      <th>Parcel Size (Acres)</th>\n",
       "      <th>...</th>\n",
       "      <th>Site Status</th>\n",
       "      <th>Identified in Last/Last Two Planning Cycle(s)</th>\n",
       "      <th>Lower Income Capacity</th>\n",
       "      <th>Moderate Income Capacity</th>\n",
       "      <th>Above Moderate Income Capacity</th>\n",
       "      <th>Total Capacity</th>\n",
       "      <th>Optional Information 1</th>\n",
       "      <th>Optional Information 2</th>\n",
       "      <th>Optional Information 3</th>\n",
       "      <th>Unnamed: 22</th>\n",
       "    </tr>\n",
       "  </thead>\n",
       "  <tbody>\n",
       "    <tr>\n",
       "      <th>34</th>\n",
       "      <td>MOUNTAIN VIEW</td>\n",
       "      <td>1288 W EL CAMINO REAL</td>\n",
       "      <td>94040-2402</td>\n",
       "      <td>15430044.0</td>\n",
       "      <td>Not Applicable</td>\n",
       "      <td>Mixed-Use Corridor</td>\n",
       "      <td>P(38) - El Camino Real Precise Plan</td>\n",
       "      <td>0.0</td>\n",
       "      <td>65-111</td>\n",
       "      <td>0.96</td>\n",
       "      <td>...</td>\n",
       "      <td>Available</td>\n",
       "      <td>Not Used in Prior Housing Element</td>\n",
       "      <td>58.0</td>\n",
       "      <td>0.0</td>\n",
       "      <td>0.0</td>\n",
       "      <td>58.0</td>\n",
       "      <td>Opportunity Site</td>\n",
       "      <td>Maximum Density set by FAR (1.85). Maximum dwe...</td>\n",
       "      <td>NaN</td>\n",
       "      <td>NaN</td>\n",
       "    </tr>\n",
       "  </tbody>\n",
       "</table>\n",
       "<p>1 rows × 23 columns</p>\n",
       "</div>"
      ],
      "text/plain": [
       "   Jurisdiction Name Site Address/Intersection 5 Digit ZIP Code  \\\n",
       "34     MOUNTAIN VIEW     1288 W EL CAMINO REAL       94040-2402   \n",
       "\n",
       "    Assessor Parcel Number Consolidated Sites  \\\n",
       "34              15430044.0     Not Applicable   \n",
       "\n",
       "   General Plan Designation (Current)         Zoning Designation (Current)  \\\n",
       "34                 Mixed-Use Corridor  P(38) - El Camino Real Precise Plan   \n",
       "\n",
       "    Minimum Density Allowed (units/acre) Max Density Allowed (units/acre)  \\\n",
       "34                                   0.0                           65-111   \n",
       "\n",
       "    Parcel Size (Acres)  ... Site Status  \\\n",
       "34                 0.96  ...   Available   \n",
       "\n",
       "   Identified in Last/Last Two Planning Cycle(s) Lower Income Capacity  \\\n",
       "34             Not Used in Prior Housing Element                  58.0   \n",
       "\n",
       "   Moderate Income Capacity Above Moderate Income Capacity  Total Capacity  \\\n",
       "34                      0.0                            0.0            58.0   \n",
       "\n",
       "    Optional Information 1                             Optional Information 2  \\\n",
       "34       Opportunity Site   Maximum Density set by FAR (1.85). Maximum dwe...   \n",
       "\n",
       "    Optional Information 3 Unnamed: 22  \n",
       "34                     NaN         NaN  \n",
       "\n",
       "[1 rows x 23 columns]"
      ]
     },
     "execution_count": 94,
     "metadata": {},
     "output_type": "execute_result"
    }
   ],
   "source": [
    "opps[opps['Site Address/Intersection'].str.contains('1288')]"
   ]
  },
  {
   "cell_type": "markdown",
   "id": "fd719550",
   "metadata": {},
   "source": [
    "### Changes to approved project"
   ]
  },
  {
   "cell_type": "code",
   "execution_count": 21,
   "id": "0ce6c088",
   "metadata": {},
   "outputs": [],
   "source": [
    "new_approvals = (\"\"\"1001 North Shoreline Blvd\n",
    "1100 La Avenida\n",
    "1255 Pear Ave\n",
    "1313 and 1347 W El Camino Real\n",
    "1411-1495 W El Camino\n",
    "1720 Villa Street\n",
    "1919 Gamel Way\n",
    "1958 Latham St\n",
    "198 Easy Street\n",
    "2580-2590 California Street\n",
    "2645 Fayette Drive\n",
    "334 San Antonio Rd\n",
    "400 Logue Avenue\n",
    "555 East Evelyn Avenue\n",
    "555 W Middlefield Rd\n",
    "570 Rengstorff Ave\n",
    "601 Escuela Ave\n",
    "773 Cuesta Drive\n",
    "777 W Middlefield Rd\n",
    "828-836 Sierra Vista Ave, and 1975/1979 Colony St\n",
    "851-853 Sierra Vista Avenue\n",
    "870 E El Camino Real\n",
    "901 E El Camino Real\n",
    "950 West El Camino Real\n",
    "City Lot 12 (Bryant St)\"\"\").split('\\n')"
   ]
  },
  {
   "cell_type": "code",
   "execution_count": 25,
   "id": "86771ae0",
   "metadata": {},
   "outputs": [],
   "source": [
    "old_approvals = (\n",
    "\"\"\"1001 North Shoreline Boulevard\n",
    "1100 La Avenida\n",
    "1255 Pear Avenue\n",
    "1313 and 1347 W El Camino Real\n",
    "1919 Gamel Way\n",
    "1958 Latham Street\n",
    "198 Easy Street\n",
    "2645 Fayette Drive\n",
    "294 Tyrella Avenue\n",
    "400 Logue Avenue\n",
    "555 W Middlefield Rd\n",
    "570 Rengstorff Avenue\n",
    "601 Escuela Avenue\n",
    "676 Dana Street\n",
    "773 Cuesta Drive\n",
    "777 W Middlefield Road\n",
    "828-836 Sierra Vista Avenue, and 1975/1979 Colony Street\n",
    "851-853 Sierra Vista Avenue\n",
    "901 E El Camino Real\n",
    "City Lot 12 (Bryant Street)\n",
    "\"\"\").split('\\n')"
   ]
  },
  {
   "cell_type": "code",
   "execution_count": 26,
   "id": "45889bce",
   "metadata": {},
   "outputs": [],
   "source": [
    "old_approvals = [name.replace(\"Avenue\", \"Ave\") for name in old_approvals]\n",
    "new_approvals = [name.replace(\"Avenue\", \"Ave\") for name in new_approvals]\n",
    "\n",
    "new_approvals = [name.replace(\"Road\", \"Rd\") for name in new_approvals]\n",
    "old_approvals = [name.replace(\"Road\", \"Rd\") for name in old_approvals]\n",
    "\n",
    "new_approvals = [name.replace(\"Street\", \"St\") for name in new_approvals]\n",
    "old_approvals = [name.replace(\"Street\", \"St\") for name in old_approvals]\n",
    "\n",
    "old_approvals = [name.replace(\"Boulevard\", \"Blvd\") for name in old_approvals]\n",
    "new_approvals = [name.replace(\"Boulevard\", \"Blvd\") for name in new_approvals]"
   ]
  },
  {
   "cell_type": "code",
   "execution_count": 27,
   "id": "e5aa7285",
   "metadata": {},
   "outputs": [
    {
     "data": {
      "text/plain": [
       "{'1411-1495 W El Camino',\n",
       " '1720 Villa St',\n",
       " '2580-2590 California St',\n",
       " '334 San Antonio Rd',\n",
       " '555 East Evelyn Ave',\n",
       " '870 E El Camino Real',\n",
       " '950 West El Camino Real'}"
      ]
     },
     "execution_count": 27,
     "metadata": {},
     "output_type": "execute_result"
    }
   ],
   "source": [
    "set(new_approvals) - set(old_approvals)"
   ]
  },
  {
   "cell_type": "code",
   "execution_count": null,
   "id": "4c04fc6f",
   "metadata": {},
   "outputs": [],
   "source": []
  }
 ],
 "metadata": {
  "kernelspec": {
   "display_name": "Python 3 (ipykernel)",
   "language": "python",
   "name": "python3"
  },
  "language_info": {
   "codemirror_mode": {
    "name": "ipython",
    "version": 3
   },
   "file_extension": ".py",
   "mimetype": "text/x-python",
   "name": "python",
   "nbconvert_exporter": "python",
   "pygments_lexer": "ipython3",
   "version": "3.9.6"
  }
 },
 "nbformat": 4,
 "nbformat_minor": 5
}
