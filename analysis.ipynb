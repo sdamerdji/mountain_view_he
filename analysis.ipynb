{
 "cells": [
  {
   "cell_type": "code",
   "execution_count": 251,
   "id": "classified-decline",
   "metadata": {},
   "outputs": [],
   "source": [
    "import pandas as pd\n",
    "import geopandas as gpd\n",
    "from scipy.stats import pearsonr\n",
    "import matplotlib.pyplot as plt\n",
    "from statsmodels.tools.tools import add_constant\n",
    "import numpy as np"
   ]
  },
  {
   "cell_type": "markdown",
   "id": "announced-exchange",
   "metadata": {},
   "source": [
    "### Load data"
   ]
  },
  {
   "cell_type": "markdown",
   "id": "covered-reducing",
   "metadata": {},
   "source": [
    "Load dataset with snapshot of 2014 pipeline snapshot and outcomes."
   ]
  },
  {
   "cell_type": "code",
   "execution_count": 7,
   "id": "environmental-status",
   "metadata": {},
   "outputs": [],
   "source": [
    "mv_history = pd.read_csv('./data/pipeline_history.csv')"
   ]
  },
  {
   "cell_type": "code",
   "execution_count": 15,
   "id": "minimal-pottery",
   "metadata": {},
   "outputs": [
    {
     "data": {
      "text/html": [
       "<div>\n",
       "<style scoped>\n",
       "    .dataframe tbody tr th:only-of-type {\n",
       "        vertical-align: middle;\n",
       "    }\n",
       "\n",
       "    .dataframe tbody tr th {\n",
       "        vertical-align: top;\n",
       "    }\n",
       "\n",
       "    .dataframe thead th {\n",
       "        text-align: right;\n",
       "    }\n",
       "</style>\n",
       "<table border=\"1\" class=\"dataframe\">\n",
       "  <thead>\n",
       "    <tr style=\"text-align: right;\">\n",
       "      <th></th>\n",
       "      <th>Address</th>\n",
       "      <th>Pg</th>\n",
       "      <th>Built</th>\n",
       "      <th>Units</th>\n",
       "    </tr>\n",
       "  </thead>\n",
       "  <tbody>\n",
       "    <tr>\n",
       "      <th>0</th>\n",
       "      <td>420 San Antonio</td>\n",
       "      <td>3</td>\n",
       "      <td>1.00</td>\n",
       "      <td>373</td>\n",
       "    </tr>\n",
       "    <tr>\n",
       "      <th>1</th>\n",
       "      <td>2580 California St</td>\n",
       "      <td>4</td>\n",
       "      <td>0.26</td>\n",
       "      <td>632</td>\n",
       "    </tr>\n",
       "    <tr>\n",
       "      <th>2</th>\n",
       "      <td>1701 ECR</td>\n",
       "      <td>7</td>\n",
       "      <td>1.00</td>\n",
       "      <td>24</td>\n",
       "    </tr>\n",
       "    <tr>\n",
       "      <th>3</th>\n",
       "      <td>1101 ECR</td>\n",
       "      <td>8</td>\n",
       "      <td>1.00</td>\n",
       "      <td>52</td>\n",
       "    </tr>\n",
       "    <tr>\n",
       "      <th>4</th>\n",
       "      <td>801 ECR</td>\n",
       "      <td>8</td>\n",
       "      <td>1.00</td>\n",
       "      <td>164</td>\n",
       "    </tr>\n",
       "  </tbody>\n",
       "</table>\n",
       "</div>"
      ],
      "text/plain": [
       "              Address  Pg  Built  Units\n",
       "0     420 San Antonio   3   1.00    373\n",
       "1  2580 California St   4   0.26    632\n",
       "2            1701 ECR   7   1.00     24\n",
       "3            1101 ECR   8   1.00     52\n",
       "4             801 ECR   8   1.00    164"
      ]
     },
     "execution_count": 15,
     "metadata": {},
     "output_type": "execute_result"
    }
   ],
   "source": [
    "mv_history.head()"
   ]
  },
  {
   "cell_type": "markdown",
   "id": "worst-north",
   "metadata": {},
   "source": [
    "Load site inventory datasets."
   ]
  },
  {
   "cell_type": "code",
   "execution_count": null,
   "id": "worse-glucose",
   "metadata": {},
   "outputs": [],
   "source": [
    "si_geo = gpd.read_file('./data/MV_Site_Inventory/MV_Site_Inventory.shp')"
   ]
  },
  {
   "cell_type": "code",
   "execution_count": 66,
   "id": "partial-greeting",
   "metadata": {},
   "outputs": [],
   "source": [
    "si = pd.read_csv('./data/hcd_table_a.csv', low_memory=False)\n",
    "si = si[~si.isna().all(axis=1)]\n",
    "si = si[:-1]"
   ]
  },
  {
   "cell_type": "code",
   "execution_count": 215,
   "id": "marine-liverpool",
   "metadata": {},
   "outputs": [],
   "source": [
    "permits = pd.read_csv('./data/APRs.csv')"
   ]
  },
  {
   "cell_type": "code",
   "execution_count": 252,
   "id": "fluid-farmer",
   "metadata": {},
   "outputs": [],
   "source": [
    "ABAG = None\n",
    "def load_abag_permits() -> gpd.GeoDataFrame:\n",
    "    \"\"\"\n",
    "    Loads all 2013-2017 building permits from ABAG as a GeoDataFrame.\n",
    "    \"\"\"\n",
    "    global ABAG\n",
    "    if ABAG is None:\n",
    "        geometry_df = gpd.read_file(\"./data/abag_permits/permits.shp\")\n",
    "        data_df = pd.read_csv(\"./data/abag_permits/permits.csv\")\n",
    "\n",
    "        # There shouldn't be any rows with geometry data that don't have label data\n",
    "        assert geometry_df[\"joinid\"].isin(data_df[\"joinid\"]).all()\n",
    "\n",
    "        ABAG = gpd.GeoDataFrame(data_df.merge(geometry_df, how=\"left\", on=\"joinid\"))\n",
    "\n",
    "    # Filter out permits from before the start of the 5th Housing Element cycle.\n",
    "    ABAG = ABAG[ABAG['permyear'] >= 2015].copy()\n",
    "\n",
    "    ABAG['apn'] = ABAG['apn'].replace({np.nan: None})\n",
    "\n",
    "    return ABAG"
   ]
  },
  {
   "cell_type": "code",
   "execution_count": 258,
   "id": "loved-inspector",
   "metadata": {},
   "outputs": [],
   "source": [
    "abag_perms = load_abag_permits()\n",
    "abag_mv = abag_perms[(abag_perms['jurisdictn'] == 'Mountain View')]"
   ]
  },
  {
   "cell_type": "code",
   "execution_count": 259,
   "id": "outer-maine",
   "metadata": {},
   "outputs": [
    {
     "data": {
      "text/plain": [
       "Index(['objectid', 'joinid', 'permyear', 'county', 'jurisdictn', 'apn',\n",
       "       'address', 'zip', 'projname', 'hcategory', 'vlowdr', 'vlowndr',\n",
       "       'vlowtot', 'lowdr', 'lowndr', 'lowtot', 'moddr', 'modndr', 'modtot',\n",
       "       'amodtot', 'totalunit', 'tenure', 'mapped', 'mapnotes', 'pda',\n",
       "       'pdacycle', 'pdajoinid', 'tpa', 'tpacycle', 'hsngsite', 'rhnacycle',\n",
       "       'notes', 'ObjectId2', 'OBJECTID', 'geometry'],\n",
       "      dtype='object')"
      ]
     },
     "execution_count": 259,
     "metadata": {},
     "output_type": "execute_result"
    }
   ],
   "source": [
    "abag_mv.columns"
   ]
  },
  {
   "cell_type": "code",
   "execution_count": 260,
   "id": "focal-thomas",
   "metadata": {},
   "outputs": [
    {
     "data": {
      "text/plain": [
       "Index(['Jurisidiction', 'County', 'Reporting Year', 'Prior APN', 'APN',\n",
       "       'Address', 'Project Name', 'Jurisdiction Tracking ID', 'Unit Category',\n",
       "       'Tenure', 'Entitled Very Low Income Deed (Restricted)',\n",
       "       'Entitled Very Low Income Non-Deed (Restricted)',\n",
       "       'Entitled Low Income Deed (Restricted)',\n",
       "       'Entitled Low Income Non-Deed (Restricted)',\n",
       "       'Entitled Moderate Income Deed (Restricted)',\n",
       "       'Entitled Moderate Income Non-Deed (Restricted)',\n",
       "       'Entitled Above Moderate Income', 'Entitlement Date Approved',\n",
       "       'Total Units Entitled', 'Permitted Very Low Income Deed (Restricted)',\n",
       "       'Permitted Very Low Income Non-Deed (Restricted)',\n",
       "       'Permitted Low Income Deed (Restricted)',\n",
       "       'Permitted Low Income Non-Deed (Restricted)',\n",
       "       'Permitted Moderate Income Deed (Restricted)',\n",
       "       'Permitted Moderate Income Non-Deed (Restricted)',\n",
       "       'Permitted Above Moderate Income', 'Permit Date Issued',\n",
       "       'Total  Units Permitted', 'Completed Very Low Income Deed (Restricted)',\n",
       "       'Completed Very Low Income Non-Deed (Restricted)',\n",
       "       'Completed  Low Income Deed (Restricted)',\n",
       "       'Completed Low Income Non-Deed (Restricted)',\n",
       "       'Completed  Moderate Income Deed (Restricted)',\n",
       "       'Completed Moderate Income Non-Deed (Restricted)',\n",
       "       'Completed  Above Moderate Income', 'Completed Date',\n",
       "       'Total Units Completed', 'Total Extremely Low Income Units',\n",
       "       'SB 35 Approved?', 'Infill Unit?', 'Financial Assistance Program',\n",
       "       'Deed Restriction Type',\n",
       "       'Affordable Without Financial Assistance Notes',\n",
       "       'Years of Affordability', 'Demolished/Destroyed Units',\n",
       "       'Demolished or Destroyed?', 'Tenure Type of Demolished/Destroyed Unit',\n",
       "       'Notes'],\n",
       "      dtype='object')"
      ]
     },
     "execution_count": 260,
     "metadata": {},
     "output_type": "execute_result"
    }
   ],
   "source": [
    "permits.columns"
   ]
  },
  {
   "cell_type": "markdown",
   "id": "fuzzy-registrar",
   "metadata": {},
   "source": [
    "### Pipeline History Analysis"
   ]
  },
  {
   "cell_type": "code",
   "execution_count": 14,
   "id": "russian-friend",
   "metadata": {},
   "outputs": [
    {
     "data": {
      "text/plain": [
       "0.6719286871961102"
      ]
     },
     "execution_count": 14,
     "metadata": {},
     "output_type": "execute_result"
    }
   ],
   "source": [
    "sum(mv_history.Units * mv_history.Built) / mv_history.Units.sum()"
   ]
  },
  {
   "cell_type": "code",
   "execution_count": 16,
   "id": "threaded-workshop",
   "metadata": {},
   "outputs": [
    {
     "data": {
      "text/plain": [
       "(-0.24156975644156864, 0.3048589611212049)"
      ]
     },
     "execution_count": 16,
     "metadata": {},
     "output_type": "execute_result"
    }
   ],
   "source": [
    "pearsonr(mv_history.Units, mv_history.Built)"
   ]
  },
  {
   "cell_type": "markdown",
   "id": "separated-young",
   "metadata": {},
   "source": [
    "### Pipeline Predictions"
   ]
  },
  {
   "cell_type": "code",
   "execution_count": 153,
   "id": "ranking-genetics",
   "metadata": {},
   "outputs": [
    {
     "name": "stdout",
     "output_type": "stream",
     "text": [
      "Optimization terminated successfully    (Exit mode 0)\n",
      "            Current function value: 0.4578744955743205\n",
      "            Iterations: 50\n",
      "            Function evaluations: 480\n",
      "            Gradient evaluations: 50\n"
     ]
    }
   ],
   "source": [
    "reg = sm.Logit(mv_history.Built, add_constant(mv_history.Units)).fit_regularized()\n",
    "\n",
    "def predict_success(n_units):\n",
    "    \"\"\"P(devs) adjusted for number of units in project.\"\"\"\n",
    "    return reg.predict([1, n_units])"
   ]
  },
  {
   "cell_type": "code",
   "execution_count": 154,
   "id": "completed-frame",
   "metadata": {},
   "outputs": [],
   "source": [
    "def predict_success_floor(n_units):\n",
    "    \"\"\"\n",
    "    P(devs) adjusted for number of units in project, with a floor that \n",
    "    pipeline sites are at least as likely to be developed as opportunity sites.\n",
    "    \"\"\"\n",
    "    return max(reg.predict([1, n_units]), .206)"
   ]
  },
  {
   "cell_type": "code",
   "execution_count": 91,
   "id": "responsible-truth",
   "metadata": {},
   "outputs": [],
   "source": [
    "pipeline = si[si['Optional Information 1'].str.contains('Pending')]"
   ]
  },
  {
   "cell_type": "markdown",
   "id": "legitimate-scope",
   "metadata": {},
   "source": [
    "This dataset excludes approved projects, which is why it has less total capacity than the draft claims."
   ]
  },
  {
   "cell_type": "code",
   "execution_count": 139,
   "id": "north-probability",
   "metadata": {},
   "outputs": [
    {
     "data": {
      "text/plain": [
       "6913.0"
      ]
     },
     "execution_count": 139,
     "metadata": {},
     "output_type": "execute_result"
    }
   ],
   "source": [
    "pipeline['Total Capacity'].sum()"
   ]
  },
  {
   "cell_type": "code",
   "execution_count": 99,
   "id": "incomplete-exhibit",
   "metadata": {},
   "outputs": [
    {
     "data": {
      "text/plain": [
       "Pending Project    66\n",
       "Name: Site Status, dtype: int64"
      ]
     },
     "execution_count": 99,
     "metadata": {},
     "output_type": "execute_result"
    }
   ],
   "source": [
    "pipeline['Site Status'].value_counts()"
   ]
  },
  {
   "cell_type": "markdown",
   "id": "outstanding-prague",
   "metadata": {},
   "source": [
    "#### Pipeline capacity with plain Logistic Regression"
   ]
  },
  {
   "cell_type": "code",
   "execution_count": 171,
   "id": "meaning-iceland",
   "metadata": {},
   "outputs": [],
   "source": [
    "n_approved_units = 1847\n",
    "n_approved_li_units = 226\n",
    "p_devs = pipeline['Total Capacity'].apply(predict_success)"
   ]
  },
  {
   "cell_type": "code",
   "execution_count": 172,
   "id": "eastern-story",
   "metadata": {},
   "outputs": [
    {
     "data": {
      "text/plain": [
       "3961.4157200269683"
      ]
     },
     "execution_count": 172,
     "metadata": {},
     "output_type": "execute_result"
    }
   ],
   "source": [
    "sum(p_devs * pipeline['Total Capacity']).item() + n_approved_units"
   ]
  },
  {
   "cell_type": "code",
   "execution_count": 173,
   "id": "injured-hardware",
   "metadata": {},
   "outputs": [
    {
     "data": {
      "text/plain": [
       "1145.655594727962"
      ]
     },
     "execution_count": 173,
     "metadata": {},
     "output_type": "execute_result"
    }
   ],
   "source": [
    "sum(p_devs * pipeline['Lower Income Capacity']).item() + n_approved_li_units"
   ]
  },
  {
   "cell_type": "markdown",
   "id": "oriental-whale",
   "metadata": {},
   "source": [
    "1847 is the number of total units in approved projects. This capacity is excluded from excel sheet."
   ]
  },
  {
   "cell_type": "markdown",
   "id": "sporting-owner",
   "metadata": {},
   "source": [
    "#### Pipeline capacity with constraint that P(dev | pipeline) > P(dev | opp) for all sites"
   ]
  },
  {
   "cell_type": "code",
   "execution_count": 174,
   "id": "filled-survey",
   "metadata": {},
   "outputs": [],
   "source": [
    "p_devs = pipeline['Total Capacity'].apply(predict_success_floor)"
   ]
  },
  {
   "cell_type": "code",
   "execution_count": 175,
   "id": "fitting-remainder",
   "metadata": {},
   "outputs": [
    {
     "data": {
      "text/plain": [
       "4651.169153669649"
      ]
     },
     "execution_count": 175,
     "metadata": {},
     "output_type": "execute_result"
    }
   ],
   "source": [
    "sum(p_devs * pipeline['Total Capacity']).item() + n_approved_units"
   ]
  },
  {
   "cell_type": "code",
   "execution_count": 176,
   "id": "russian-medicine",
   "metadata": {},
   "outputs": [
    {
     "data": {
      "text/plain": [
       "1253.8843652965609"
      ]
     },
     "execution_count": 176,
     "metadata": {},
     "output_type": "execute_result"
    }
   ],
   "source": [
    "sum(p_devs * pipeline['Lower Income Capacity']).item() + n_approved_li_units"
   ]
  },
  {
   "cell_type": "markdown",
   "id": "bizarre-tunisia",
   "metadata": {},
   "source": [
    "### Opportunity Sites"
   ]
  },
  {
   "cell_type": "code",
   "execution_count": 181,
   "id": "designing-rehabilitation",
   "metadata": {},
   "outputs": [],
   "source": [
    "opps = si[~si['Site Status'].str.contains('Pending')]"
   ]
  },
  {
   "cell_type": "code",
   "execution_count": 185,
   "id": "victorian-climate",
   "metadata": {},
   "outputs": [
    {
     "data": {
      "text/plain": [
       "(array([20., 28.,  8., 21.,  8.,  3.,  2.,  1.,  0.,  1.,  1.,  0.,  0.,\n",
       "         0.,  0.,  0.,  1.,  1.,  0.,  1.,  0.,  0.,  0.,  0.,  0.,  0.,\n",
       "         0.,  0.,  0.,  1.]),\n",
       " array([0.1  , 0.362, 0.624, 0.886, 1.148, 1.41 , 1.672, 1.934, 2.196,\n",
       "        2.458, 2.72 , 2.982, 3.244, 3.506, 3.768, 4.03 , 4.292, 4.554,\n",
       "        4.816, 5.078, 5.34 , 5.602, 5.864, 6.126, 6.388, 6.65 , 6.912,\n",
       "        7.174, 7.436, 7.698, 7.96 ]),\n",
       " <BarContainer object of 30 artists>)"
      ]
     },
     "execution_count": 185,
     "metadata": {},
     "output_type": "execute_result"
    },
    {
     "data": {
      "image/png": "[encoded data removed]",
      "text/plain": [
       "<Figure size 432x288 with 1 Axes>"
      ]
     },
     "metadata": {
      "needs_background": "light"
     },
     "output_type": "display_data"
    }
   ],
   "source": [
    "plt.hist(opps['Parcel Size (Acres)'], bins=30)"
   ]
  },
  {
   "cell_type": "code",
   "execution_count": 186,
   "id": "patent-block",
   "metadata": {},
   "outputs": [
    {
     "data": {
      "text/plain": [
       "34"
      ]
     },
     "execution_count": 186,
     "metadata": {},
     "output_type": "execute_result"
    }
   ],
   "source": [
    "sum(opps['Parcel Size (Acres)'] < .5)"
   ]
  },
  {
   "cell_type": "code",
   "execution_count": 197,
   "id": "inclusive-drama",
   "metadata": {},
   "outputs": [
    {
     "data": {
      "text/plain": [
       "P(38) - El Camino Real Precise Plan    55\n",
       "P(41) - East Whisman Precise Plan      15\n",
       "P(40) - San Antonio Precise Plan        9\n",
       "P(39) - North Bayshore Precise Plan     6\n",
       "CN                                      5\n",
       "CRA                                     4\n",
       "P(27) - Grant-Phyllis Precise Plan      2\n",
       "P(19) - Downtown Precise Plan           1\n",
       "Name: Zoning Designation (Current), dtype: int64"
      ]
     },
     "execution_count": 197,
     "metadata": {},
     "output_type": "execute_result"
    }
   ],
   "source": [
    "opps['Zoning Designation (Current)'].value_counts()"
   ]
  },
  {
   "cell_type": "code",
   "execution_count": 204,
   "id": "reasonable-provider",
   "metadata": {},
   "outputs": [],
   "source": [
    "ecr = opps[opps['Zoning Designation (Current)'].str.contains(\"El Camino Real\")]"
   ]
  },
  {
   "cell_type": "code",
   "execution_count": 205,
   "id": "solar-logistics",
   "metadata": {},
   "outputs": [],
   "source": [
    "ew = opps[opps['Zoning Designation (Current)'].str.contains(\"East Whisman\")]"
   ]
  },
  {
   "cell_type": "code",
   "execution_count": 206,
   "id": "czech-chicken",
   "metadata": {},
   "outputs": [],
   "source": [
    "sa = opps[opps['Zoning Designation (Current)'].str.contains(\"San Antonio\")]"
   ]
  },
  {
   "cell_type": "code",
   "execution_count": 207,
   "id": "regulation-vault",
   "metadata": {},
   "outputs": [],
   "source": [
    "nb = opps[opps['Zoning Designation (Current)'].str.contains(\"North Bayshore\")]"
   ]
  },
  {
   "cell_type": "code",
   "execution_count": 211,
   "id": "current-carolina",
   "metadata": {},
   "outputs": [
    {
     "data": {
      "text/plain": [
       "(55, 15, 9, 6)"
      ]
     },
     "execution_count": 211,
     "metadata": {},
     "output_type": "execute_result"
    }
   ],
   "source": [
    "len(ecr), len(ew), len(sa), len(nb)"
   ]
  },
  {
   "cell_type": "code",
   "execution_count": 213,
   "id": "modern-significance",
   "metadata": {},
   "outputs": [
    {
     "name": "stdout",
     "output_type": "stream",
     "text": [
      "55 projects in 8 years for ecr\n",
      "15 projects in 8 years for ew\n",
      "9 projects in 8 years for sa\n",
      "6 projects in 8 years for nb\n"
     ]
    }
   ],
   "source": [
    "for pp, name in zip([ecr, ew, sa, nb], ['ecr', 'ew', 'sa', 'nb']):\n",
    "    print(len(pp), 'projects in 8 years for', name)"
   ]
  },
  {
   "cell_type": "code",
   "execution_count": 229,
   "id": "confused-costa",
   "metadata": {},
   "outputs": [
    {
     "data": {
      "text/plain": [
       "(13, 48)"
      ]
     },
     "execution_count": 229,
     "metadata": {},
     "output_type": "execute_result"
    }
   ],
   "source": [
    "permits[permits['Address'].str.lower().str.contains('el camino')].shape"
   ]
  },
  {
   "cell_type": "code",
   "execution_count": null,
   "id": "civic-password",
   "metadata": {},
   "outputs": [],
   "source": []
  }
 ],
 "metadata": {
  "kernelspec": {
   "display_name": "Python 3",
   "language": "python",
   "name": "python3"
  },
  "language_info": {
   "codemirror_mode": {
    "name": "ipython",
    "version": 3
   },
   "file_extension": ".py",
   "mimetype": "text/x-python",
   "name": "python",
   "nbconvert_exporter": "python",
   "pygments_lexer": "ipython3",
   "version": "3.8.9"
  }
 },
 "nbformat": 4,
 "nbformat_minor": 5
}
