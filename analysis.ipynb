{
 "cells": [
  {
   "cell_type": "code",
   "execution_count": 1,
   "id": "improved-religious",
   "metadata": {},
   "outputs": [
    {
     "name": "stderr",
     "output_type": "stream",
     "text": [
      "/Users/Salim/Library/Python/3.8/lib/python/site-packages/geopandas/_compat.py:106: UserWarning: The Shapely GEOS version (3.8.0-CAPI-1.13.1 ) is incompatible with the GEOS version PyGEOS was compiled with (3.9.1-CAPI-1.14.2). Conversions between both will be slow.\n",
      "  warnings.warn(\n"
     ]
    }
   ],
   "source": [
    "import pandas as pd\n",
    "import geopandas as gpd\n",
    "from scipy.stats import pearsonr\n",
    "import matplotlib.pyplot as plt\n",
    "from statsmodels.tools.tools import add_constant\n",
    "import numpy as np\n",
    "import statsmodels.api as sm"
   ]
  },
  {
   "cell_type": "markdown",
   "id": "clinical-michael",
   "metadata": {},
   "source": [
    "### Load data"
   ]
  },
  {
   "cell_type": "markdown",
   "id": "collectible-archive",
   "metadata": {},
   "source": [
    "Load dataset with snapshot of 2014 pipeline snapshot and outcomes."
   ]
  },
  {
   "cell_type": "code",
   "execution_count": 2,
   "id": "civic-retirement",
   "metadata": {},
   "outputs": [],
   "source": [
    "mv_history = pd.read_csv('./data/pipeline_history.csv')"
   ]
  },
  {
   "cell_type": "markdown",
   "id": "governmental-manufacturer",
   "metadata": {},
   "source": [
    "The variable 'Built' indicates how much of the project was built by June 2022. The variable 'Units' indicates how large the project was as of June 2014 - or, if the project had no size listed in 2014, then the eventual size of the project. The variable 'Pg' indicates what page of the [2014 Planning Division Update](https://web.archive.org/web/20140709150825/http://mountainview.gov/civicax/filebank/blobdload.aspx?BlobID=13170) the project is listed on. This dataframe was created manually by reading the 2014 PDU."
   ]
  },
  {
   "cell_type": "code",
   "execution_count": 3,
   "id": "micro-concentrate",
   "metadata": {},
   "outputs": [
    {
     "data": {
      "text/html": [
       "<div>\n",
       "<style scoped>\n",
       "    .dataframe tbody tr th:only-of-type {\n",
       "        vertical-align: middle;\n",
       "    }\n",
       "\n",
       "    .dataframe tbody tr th {\n",
       "        vertical-align: top;\n",
       "    }\n",
       "\n",
       "    .dataframe thead th {\n",
       "        text-align: right;\n",
       "    }\n",
       "</style>\n",
       "<table border=\"1\" class=\"dataframe\">\n",
       "  <thead>\n",
       "    <tr style=\"text-align: right;\">\n",
       "      <th></th>\n",
       "      <th>address</th>\n",
       "      <th>page</th>\n",
       "      <th>pct_built</th>\n",
       "      <th>units</th>\n",
       "    </tr>\n",
       "  </thead>\n",
       "  <tbody>\n",
       "    <tr>\n",
       "      <th>0</th>\n",
       "      <td>420 San Antonio Road</td>\n",
       "      <td>3</td>\n",
       "      <td>1.00</td>\n",
       "      <td>373</td>\n",
       "    </tr>\n",
       "    <tr>\n",
       "      <th>1</th>\n",
       "      <td>2580 California Street</td>\n",
       "      <td>4</td>\n",
       "      <td>0.26</td>\n",
       "      <td>632</td>\n",
       "    </tr>\n",
       "    <tr>\n",
       "      <th>2</th>\n",
       "      <td>1701 W. El Camino Real</td>\n",
       "      <td>7</td>\n",
       "      <td>1.00</td>\n",
       "      <td>24</td>\n",
       "    </tr>\n",
       "    <tr>\n",
       "      <th>3</th>\n",
       "      <td>1101 W. El Camino Real</td>\n",
       "      <td>8</td>\n",
       "      <td>1.00</td>\n",
       "      <td>52</td>\n",
       "    </tr>\n",
       "    <tr>\n",
       "      <th>4</th>\n",
       "      <td>801 W. El Camino Real</td>\n",
       "      <td>8</td>\n",
       "      <td>1.00</td>\n",
       "      <td>164</td>\n",
       "    </tr>\n",
       "  </tbody>\n",
       "</table>\n",
       "</div>"
      ],
      "text/plain": [
       "                  address  page  pct_built  units\n",
       "0    420 San Antonio Road     3       1.00    373\n",
       "1  2580 California Street     4       0.26    632\n",
       "2  1701 W. El Camino Real     7       1.00     24\n",
       "3  1101 W. El Camino Real     8       1.00     52\n",
       "4   801 W. El Camino Real     8       1.00    164"
      ]
     },
     "execution_count": 3,
     "metadata": {},
     "output_type": "execute_result"
    }
   ],
   "source": [
    "mv_history.head()"
   ]
  },
  {
   "cell_type": "markdown",
   "id": "biological-algorithm",
   "metadata": {},
   "source": [
    "Load site inventory datasets."
   ]
  },
  {
   "cell_type": "code",
   "execution_count": 4,
   "id": "elder-falls",
   "metadata": {},
   "outputs": [],
   "source": [
    "si_geo = gpd.read_file('./data/MV_Site_Inventory/MV_Site_Inventory.shp')"
   ]
  },
  {
   "cell_type": "code",
   "execution_count": 5,
   "id": "stupid-trainer",
   "metadata": {},
   "outputs": [],
   "source": [
    "si = pd.read_csv('./data/hcd_table_a.csv', low_memory=False)\n",
    "si = si[~si.isna().all(axis=1)]\n",
    "si = si[:-1]"
   ]
  },
  {
   "cell_type": "code",
   "execution_count": 6,
   "id": "recreational-progressive",
   "metadata": {},
   "outputs": [],
   "source": [
    "permits = gpd.read_file('./data/all_permits.json')"
   ]
  },
  {
   "cell_type": "code",
   "execution_count": 7,
   "id": "opened-devil",
   "metadata": {},
   "outputs": [],
   "source": [
    "zoning = gpd.read_file('./data/Zoning_Districts/Zoning_Districts.shp')"
   ]
  },
  {
   "cell_type": "markdown",
   "id": "variable-seating",
   "metadata": {},
   "source": [
    "### Pending Projects History Analysis"
   ]
  },
  {
   "cell_type": "code",
   "execution_count": 9,
   "id": "classified-algorithm",
   "metadata": {},
   "outputs": [
    {
     "data": {
      "text/plain": [
       "0.6646353322528363"
      ]
     },
     "execution_count": 9,
     "metadata": {},
     "output_type": "execute_result"
    }
   ],
   "source": [
    "sum(mv_history.units * mv_history.pct_built) / mv_history.units.sum()"
   ]
  },
  {
   "cell_type": "markdown",
   "id": "sixth-bracket",
   "metadata": {},
   "source": [
    "What would a 33% discount factor do to the city's projections?"
   ]
  },
  {
   "cell_type": "code",
   "execution_count": 47,
   "id": "dynamic-geology",
   "metadata": {},
   "outputs": [
    {
     "data": {
      "text/plain": [
       "4594.624051863858"
      ]
     },
     "execution_count": 47,
     "metadata": {},
     "output_type": "execute_result"
    }
   ],
   "source": [
    "# city projections\n",
    "tot_pipe = 6913\n",
    "li_pipe = 1896\n",
    "\n",
    "# expected total units\n",
    "sum(mv_history.units * mv_history.pct_built) / mv_history.units.sum() * tot_pipe"
   ]
  },
  {
   "cell_type": "code",
   "execution_count": 48,
   "id": "naughty-chocolate",
   "metadata": {},
   "outputs": [
    {
     "data": {
      "text/plain": [
       "2318.375948136142"
      ]
     },
     "execution_count": 48,
     "metadata": {},
     "output_type": "execute_result"
    }
   ],
   "source": [
    "# delta\n",
    "tot_pipe - sum(mv_history.units * mv_history.pct_built) / mv_history.units.sum() * tot_pipe"
   ]
  },
  {
   "cell_type": "code",
   "execution_count": 49,
   "id": "adult-stopping",
   "metadata": {},
   "outputs": [
    {
     "data": {
      "text/plain": [
       "1260.1485899513777"
      ]
     },
     "execution_count": 49,
     "metadata": {},
     "output_type": "execute_result"
    }
   ],
   "source": [
    "# expected li units \n",
    "sum(mv_history.units * mv_history.pct_built) / mv_history.units.sum() * li_pipe"
   ]
  },
  {
   "cell_type": "code",
   "execution_count": 50,
   "id": "little-habitat",
   "metadata": {},
   "outputs": [
    {
     "data": {
      "text/plain": [
       "635.8514100486223"
      ]
     },
     "execution_count": 50,
     "metadata": {},
     "output_type": "execute_result"
    }
   ],
   "source": [
    "# delta (li)\n",
    "li_pipe - sum(mv_history.units * mv_history.pct_built) / mv_history.units.sum() * li_pipe"
   ]
  },
  {
   "cell_type": "code",
   "execution_count": 46,
   "id": "numerical-doctor",
   "metadata": {},
   "outputs": [
    {
     "data": {
      "text/plain": [
       "(-0.15362040968120402, 0.5178707812714507)"
      ]
     },
     "execution_count": 46,
     "metadata": {},
     "output_type": "execute_result"
    }
   ],
   "source": [
    "pearsonr(mv_history.units, mv_history.pct_built)"
   ]
  },
  {
   "cell_type": "markdown",
   "id": "digital-package",
   "metadata": {},
   "source": [
    "### Pending Projects Predictions"
   ]
  },
  {
   "cell_type": "code",
   "execution_count": 66,
   "id": "funded-adelaide",
   "metadata": {},
   "outputs": [
    {
     "name": "stdout",
     "output_type": "stream",
     "text": [
      "Optimization terminated successfully.\n",
      "         Current function value: 0.536679\n",
      "         Iterations 5\n"
     ]
    }
   ],
   "source": [
    "np.random.seed(0)\n",
    "reg = sm.Logit(mv_history.pct_built, add_constant(mv_history.units)).fit()\n",
    "\n",
    "def predict_success(n_units):\n",
    "    \"\"\"P(devs) adjusted for number of units in project.\"\"\"\n",
    "    return reg.predict([1, n_units])"
   ]
  },
  {
   "cell_type": "code",
   "execution_count": 67,
   "id": "electronic-broadcasting",
   "metadata": {},
   "outputs": [
    {
     "data": {
      "text/html": [
       "<table class=\"simpletable\">\n",
       "<caption>Logit Regression Results</caption>\n",
       "<tr>\n",
       "  <th>Dep. Variable:</th>       <td>pct_built</td>    <th>  No. Observations:  </th>  <td>    20</td> \n",
       "</tr>\n",
       "<tr>\n",
       "  <th>Model:</th>                 <td>Logit</td>      <th>  Df Residuals:      </th>  <td>    18</td> \n",
       "</tr>\n",
       "<tr>\n",
       "  <th>Method:</th>                 <td>MLE</td>       <th>  Df Model:          </th>  <td>     1</td> \n",
       "</tr>\n",
       "<tr>\n",
       "  <th>Date:</th>            <td>Wed, 13 Jul 2022</td> <th>  Pseudo R-squ.:     </th> <td>0.008282</td>\n",
       "</tr>\n",
       "<tr>\n",
       "  <th>Time:</th>                <td>12:01:41</td>     <th>  Log-Likelihood:    </th> <td> -10.734</td>\n",
       "</tr>\n",
       "<tr>\n",
       "  <th>converged:</th>             <td>True</td>       <th>  LL-Null:           </th> <td> -10.823</td>\n",
       "</tr>\n",
       "<tr>\n",
       "  <th>Covariance Type:</th>     <td>nonrobust</td>    <th>  LLR p-value:       </th>  <td>0.6720</td> \n",
       "</tr>\n",
       "</table>\n",
       "<table class=\"simpletable\">\n",
       "<tr>\n",
       "    <td></td>       <th>coef</th>     <th>std err</th>      <th>z</th>      <th>P>|z|</th>  <th>[0.025</th>    <th>0.975]</th>  \n",
       "</tr>\n",
       "<tr>\n",
       "  <th>const</th> <td>    1.3975</td> <td>    0.655</td> <td>    2.134</td> <td> 0.033</td> <td>    0.114</td> <td>    2.681</td>\n",
       "</tr>\n",
       "<tr>\n",
       "  <th>units</th> <td>   -0.0017</td> <td>    0.003</td> <td>   -0.656</td> <td> 0.512</td> <td>   -0.007</td> <td>    0.003</td>\n",
       "</tr>\n",
       "</table>"
      ],
      "text/plain": [
       "<class 'statsmodels.iolib.summary.Summary'>\n",
       "\"\"\"\n",
       "                           Logit Regression Results                           \n",
       "==============================================================================\n",
       "Dep. Variable:              pct_built   No. Observations:                   20\n",
       "Model:                          Logit   Df Residuals:                       18\n",
       "Method:                           MLE   Df Model:                            1\n",
       "Date:                Wed, 13 Jul 2022   Pseudo R-squ.:                0.008282\n",
       "Time:                        12:01:41   Log-Likelihood:                -10.734\n",
       "converged:                       True   LL-Null:                       -10.823\n",
       "Covariance Type:            nonrobust   LLR p-value:                    0.6720\n",
       "==============================================================================\n",
       "                 coef    std err          z      P>|z|      [0.025      0.975]\n",
       "------------------------------------------------------------------------------\n",
       "const          1.3975      0.655      2.134      0.033       0.114       2.681\n",
       "units         -0.0017      0.003     -0.656      0.512      -0.007       0.003\n",
       "==============================================================================\n",
       "\"\"\""
      ]
     },
     "execution_count": 67,
     "metadata": {},
     "output_type": "execute_result"
    }
   ],
   "source": [
    "reg.summary()"
   ]
  },
  {
   "cell_type": "code",
   "execution_count": 52,
   "id": "optional-lloyd",
   "metadata": {},
   "outputs": [],
   "source": [
    "def predict_success_floor(n_units):\n",
    "    \"\"\"\n",
    "    P(devs) adjusted for number of units in project, with a floor that \n",
    "    pipeline sites are at least as likely to be developed as opportunity sites.\n",
    "    \"\"\"\n",
    "    return max(reg.predict([1, n_units]), .206)"
   ]
  },
  {
   "cell_type": "code",
   "execution_count": 53,
   "id": "apparent-honolulu",
   "metadata": {},
   "outputs": [],
   "source": [
    "pipeline = si[si['Optional Information 1'].str.contains('Pending')]"
   ]
  },
  {
   "cell_type": "markdown",
   "id": "vanilla-consultancy",
   "metadata": {},
   "source": [
    "This dataset excludes approved projects, which is why it has less total capacity than the draft claims."
   ]
  },
  {
   "cell_type": "code",
   "execution_count": 54,
   "id": "clean-toyota",
   "metadata": {},
   "outputs": [
    {
     "data": {
      "text/plain": [
       "6913.0"
      ]
     },
     "execution_count": 54,
     "metadata": {},
     "output_type": "execute_result"
    }
   ],
   "source": [
    "pipeline['Total Capacity'].sum()"
   ]
  },
  {
   "cell_type": "code",
   "execution_count": 55,
   "id": "institutional-billion",
   "metadata": {},
   "outputs": [
    {
     "data": {
      "text/plain": [
       "Pending Project    66\n",
       "Name: Site Status, dtype: int64"
      ]
     },
     "execution_count": 55,
     "metadata": {},
     "output_type": "execute_result"
    }
   ],
   "source": [
    "pipeline['Site Status'].value_counts()"
   ]
  },
  {
   "cell_type": "markdown",
   "id": "annual-dodge",
   "metadata": {},
   "source": [
    "#### Pipeline capacity with plain Logistic Regression"
   ]
  },
  {
   "cell_type": "code",
   "execution_count": 56,
   "id": "active-laser",
   "metadata": {},
   "outputs": [],
   "source": [
    "p_devs = pipeline['Total Capacity'].apply(predict_success)"
   ]
  },
  {
   "cell_type": "code",
   "execution_count": 57,
   "id": "monthly-minutes",
   "metadata": {},
   "outputs": [
    {
     "data": {
      "text/plain": [
       "2231.4679642693827"
      ]
     },
     "execution_count": 57,
     "metadata": {},
     "output_type": "execute_result"
    }
   ],
   "source": [
    "sum(p_devs * pipeline['Total Capacity']).item()"
   ]
  },
  {
   "cell_type": "code",
   "execution_count": 58,
   "id": "legislative-exemption",
   "metadata": {},
   "outputs": [
    {
     "data": {
      "text/plain": [
       "920.160886663414"
      ]
     },
     "execution_count": 58,
     "metadata": {},
     "output_type": "execute_result"
    }
   ],
   "source": [
    "sum(p_devs * pipeline['Lower Income Capacity']).item()"
   ]
  },
  {
   "cell_type": "markdown",
   "id": "ranking-decimal",
   "metadata": {},
   "source": [
    "#### Pipeline capacity with constraint that P(dev | pipeline) > P(dev | opp) for all sites"
   ]
  },
  {
   "cell_type": "code",
   "execution_count": 59,
   "id": "incorporate-professional",
   "metadata": {},
   "outputs": [],
   "source": [
    "p_devs = pipeline['Total Capacity'].apply(predict_success_floor)"
   ]
  },
  {
   "cell_type": "code",
   "execution_count": 60,
   "id": "unauthorized-michigan",
   "metadata": {},
   "outputs": [
    {
     "data": {
      "text/plain": [
       "2872.4262057831024"
      ]
     },
     "execution_count": 60,
     "metadata": {},
     "output_type": "execute_result"
    }
   ],
   "source": [
    "sum(p_devs * pipeline['Total Capacity']).item() "
   ]
  },
  {
   "cell_type": "code",
   "execution_count": 61,
   "id": "lovely-slave",
   "metadata": {},
   "outputs": [
    {
     "data": {
      "text/plain": [
       "4040.5737942168976"
      ]
     },
     "execution_count": 61,
     "metadata": {},
     "output_type": "execute_result"
    }
   ],
   "source": [
    "tot_pipe - sum(p_devs * pipeline['Total Capacity']).item() "
   ]
  },
  {
   "cell_type": "code",
   "execution_count": 62,
   "id": "interstate-culture",
   "metadata": {},
   "outputs": [
    {
     "data": {
      "text/plain": [
       "1020.7332348117777"
      ]
     },
     "execution_count": 62,
     "metadata": {},
     "output_type": "execute_result"
    }
   ],
   "source": [
    "sum(p_devs * pipeline['Lower Income Capacity']).item()"
   ]
  },
  {
   "cell_type": "code",
   "execution_count": 63,
   "id": "collect-treat",
   "metadata": {},
   "outputs": [
    {
     "data": {
      "text/plain": [
       "875.2667651882223"
      ]
     },
     "execution_count": 63,
     "metadata": {},
     "output_type": "execute_result"
    }
   ],
   "source": [
    "li_pipe - sum(p_devs * pipeline['Lower Income Capacity']).item() "
   ]
  },
  {
   "cell_type": "markdown",
   "id": "bulgarian-championship",
   "metadata": {},
   "source": [
    "### Opportunity Sites"
   ]
  },
  {
   "cell_type": "code",
   "execution_count": null,
   "id": "pretty-density",
   "metadata": {},
   "outputs": [],
   "source": [
    "opps = si[~si['Site Status'].str.contains('Pending')]"
   ]
  },
  {
   "cell_type": "code",
   "execution_count": null,
   "id": "collaborative-traffic",
   "metadata": {},
   "outputs": [],
   "source": [
    "opps['Zoning Designation (Current)'].value_counts()"
   ]
  },
  {
   "cell_type": "markdown",
   "id": "rubber-smoke",
   "metadata": {},
   "source": [
    "Find opportunity sites for each of four major precise plan areas."
   ]
  },
  {
   "cell_type": "code",
   "execution_count": null,
   "id": "subtle-hypothesis",
   "metadata": {},
   "outputs": [],
   "source": [
    "ecr = opps[opps['Zoning Designation (Current)'].str.contains(\"El Camino Real\")]"
   ]
  },
  {
   "cell_type": "code",
   "execution_count": null,
   "id": "intellectual-edinburgh",
   "metadata": {},
   "outputs": [],
   "source": [
    "ew = opps[opps['Zoning Designation (Current)'].str.contains(\"East Whisman\")]"
   ]
  },
  {
   "cell_type": "code",
   "execution_count": null,
   "id": "superior-violation",
   "metadata": {},
   "outputs": [],
   "source": [
    "sa = opps[opps['Zoning Designation (Current)'].str.contains(\"San Antonio\")]"
   ]
  },
  {
   "cell_type": "code",
   "execution_count": null,
   "id": "social-grammar",
   "metadata": {},
   "outputs": [],
   "source": [
    "nb = opps[opps['Zoning Designation (Current)'].str.contains(\"North Bayshore\")]"
   ]
  },
  {
   "cell_type": "markdown",
   "id": "nuclear-maria",
   "metadata": {},
   "source": [
    "There are 55 opportunity sites in El Camino Real Precise Plan, 15 in the East Whisman precise plan, 9 in the San Antonio precise plan, and 6 in the North Bayshore precise plan."
   ]
  },
  {
   "cell_type": "code",
   "execution_count": null,
   "id": "sized-textbook",
   "metadata": {},
   "outputs": [],
   "source": [
    "len(ecr), len(ew), len(sa), len(nb)"
   ]
  },
  {
   "cell_type": "markdown",
   "id": "acknowledged-moldova",
   "metadata": {},
   "source": [
    "### Cleaning permits dataset"
   ]
  },
  {
   "cell_type": "markdown",
   "id": "specific-roberts",
   "metadata": {},
   "source": [
    "Half of older permits have same geometry."
   ]
  },
  {
   "cell_type": "code",
   "execution_count": null,
   "id": "incorrect-neighborhood",
   "metadata": {},
   "outputs": [],
   "source": [
    "permits.apn = permits.apn.str.split('-').str.join('')"
   ]
  },
  {
   "cell_type": "code",
   "execution_count": null,
   "id": "authentic-glass",
   "metadata": {},
   "outputs": [],
   "source": [
    "permits.apn = permits.apn.str.replace('Â\\xa0', '').values.tolist()"
   ]
  },
  {
   "cell_type": "code",
   "execution_count": null,
   "id": "naval-overview",
   "metadata": {},
   "outputs": [],
   "source": [
    "permits.apn = permits.apn.str.strip()"
   ]
  },
  {
   "cell_type": "code",
   "execution_count": null,
   "id": "dynamic-advertising",
   "metadata": {},
   "outputs": [],
   "source": [
    "permits = permits[(~permits.apn.duplicated()) | (permits.apn.isnull())]"
   ]
  },
  {
   "cell_type": "code",
   "execution_count": null,
   "id": "reasonable-january",
   "metadata": {},
   "outputs": [],
   "source": [
    "permits = gpd.sjoin(permits, zoning.to_crs('EPSG:4326'))"
   ]
  },
  {
   "cell_type": "code",
   "execution_count": null,
   "id": "cheap-producer",
   "metadata": {},
   "outputs": [],
   "source": [
    "plt.hist(permits[permits.PRECPLAN == 'P(39)'].permyear)"
   ]
  },
  {
   "cell_type": "code",
   "execution_count": null,
   "id": "productive-zimbabwe",
   "metadata": {},
   "outputs": [],
   "source": [
    "pp_permits = permits['PRECPLAN'].value_counts()"
   ]
  },
  {
   "cell_type": "code",
   "execution_count": null,
   "id": "exceptional-breast",
   "metadata": {},
   "outputs": [],
   "source": [
    "ecr_ppid = 'P(38)'\n",
    "nbs_ppid = 'P(39)'\n",
    "sa_ppid = 'P(40)'\n",
    "ew_ppid = 'P(41)'"
   ]
  },
  {
   "cell_type": "code",
   "execution_count": null,
   "id": "affected-relaxation",
   "metadata": {},
   "outputs": [],
   "source": [
    "ecr_yrs, ew_yrs, sa_yrs, nbs_yrs = 8, 3, 8, 5"
   ]
  },
  {
   "cell_type": "code",
   "execution_count": null,
   "id": "early-spirit",
   "metadata": {},
   "outputs": [],
   "source": [
    "ecr_exp = pp_permits[ecr_ppid] / ecr_yrs * 8"
   ]
  },
  {
   "cell_type": "code",
   "execution_count": null,
   "id": "humanitarian-cheese",
   "metadata": {},
   "outputs": [],
   "source": [
    "pp_permits[ecr_ppid] / ecr_yrs"
   ]
  },
  {
   "cell_type": "code",
   "execution_count": null,
   "id": "handmade-emission",
   "metadata": {},
   "outputs": [],
   "source": [
    "nbs_exp = pp_permits[nbs_ppid] / nbs_yrs * 8"
   ]
  },
  {
   "cell_type": "code",
   "execution_count": null,
   "id": "affected-transparency",
   "metadata": {},
   "outputs": [],
   "source": [
    "pp_permits[nbs_ppid] / nbs_yrs"
   ]
  },
  {
   "cell_type": "code",
   "execution_count": null,
   "id": "cardiac-shoot",
   "metadata": {},
   "outputs": [],
   "source": [
    "sa_exp = pp_permits[sa_ppid] / sa_yrs * 8"
   ]
  },
  {
   "cell_type": "code",
   "execution_count": null,
   "id": "canadian-robinson",
   "metadata": {},
   "outputs": [],
   "source": [
    "pp_permits[sa_ppid] / sa_yrs"
   ]
  },
  {
   "cell_type": "code",
   "execution_count": null,
   "id": "czech-honor",
   "metadata": {},
   "outputs": [],
   "source": [
    "ew_exp = pp_permits[ew_ppid] / ew_yrs * 8"
   ]
  },
  {
   "cell_type": "code",
   "execution_count": null,
   "id": "binary-capability",
   "metadata": {},
   "outputs": [],
   "source": [
    "pp_permits[ew_ppid] / ew_yrs"
   ]
  },
  {
   "cell_type": "code",
   "execution_count": null,
   "id": "entire-relation",
   "metadata": {},
   "outputs": [],
   "source": [
    "for pp, name, expect in zip([ecr, ew, sa, nb], ['ecr', 'ew', 'sa', 'nb'], [ecr_exp, ew_exp, sa_exp, nbs_exp]):\n",
    "    print('For', name, 'the city claims', len(pp), 'projects in 8 years', ' but historical trends suggest')\n",
    "    print(int(round(expect, 0)), \"is more reasonable. That'd discount their site capacity claims by\", round(1 - (int(round(expect,0)) / len(pp)), 2), '%')\n",
    "    print('\\n')"
   ]
  },
  {
   "cell_type": "code",
   "execution_count": null,
   "id": "dominant-index",
   "metadata": {},
   "outputs": [],
   "source": [
    "for pp, name, expect in zip([ecr, ew, sa, nb], ['ecr', 'ew', 'sa', 'nb'], [ecr_exp, ew_exp, sa_exp, nbs_exp]):\n",
    "    print('For', name, 'the city claims', len(pp), 'projects in 8 years, but historical trends suggest')\n",
    "    print(int(round(expect, 0)), \"is more reasonable. That'd inflate their site capacity claims by\", \n",
    "          int(round(round(len(pp) / expect, 3)*100 - 100, 0)), '%')\n",
    "    print('\\n')"
   ]
  },
  {
   "cell_type": "code",
   "execution_count": null,
   "id": "checked-biology",
   "metadata": {},
   "outputs": [],
   "source": [
    "ecr_li, ecr_tot = 1283, 2530\n",
    "ew_li, ew_tot = 997, 1312\n",
    "sa_li, sa_tot = 182, 325\n",
    "nb_li, nb_tot = 313, 405\n",
    "run_sum_li, run_sum_tot = 0, 0"
   ]
  },
  {
   "cell_type": "code",
   "execution_count": null,
   "id": "optional-hostel",
   "metadata": {},
   "outputs": [],
   "source": [
    "for pp, name, expect, li, tot in zip([ecr, ew, sa, nb], \n",
    "                                ['ecr', 'ew', 'sa', 'nb'], \n",
    "                                [ecr_exp, ew_exp, sa_exp, nbs_exp],\n",
    "                                [ecr_li, ew_li, sa_li, nb_li],\n",
    "                                [ecr_tot, ew_tot, sa_tot, nb_tot]):\n",
    "    print('For', name, li*(1 - expect / len(pp)))\n",
    "    print('\\n')\n",
    "    print('For', name, tot*(1 - expect / len(pp)))\n",
    "    print('\\n')\n",
    "    run_sum_li += li*(1 - expect / len(pp))\n",
    "    run_sum_tot += tot*(1 - expect / len(pp))"
   ]
  },
  {
   "cell_type": "code",
   "execution_count": null,
   "id": "limited-central",
   "metadata": {},
   "outputs": [],
   "source": [
    "run_sum_li"
   ]
  },
  {
   "cell_type": "code",
   "execution_count": null,
   "id": "younger-georgia",
   "metadata": {},
   "outputs": [],
   "source": [
    "run_sum_tot"
   ]
  },
  {
   "cell_type": "code",
   "execution_count": null,
   "id": "fabulous-strand",
   "metadata": {},
   "outputs": [],
   "source": [
    "5502 - run_sum_tot"
   ]
  },
  {
   "cell_type": "code",
   "execution_count": null,
   "id": "painful-quest",
   "metadata": {},
   "outputs": [],
   "source": [
    "3240 - run_sum_li"
   ]
  },
  {
   "cell_type": "code",
   "execution_count": null,
   "id": "increased-conditions",
   "metadata": {},
   "outputs": [],
   "source": [
    "2775 + 465\n"
   ]
  },
  {
   "cell_type": "code",
   "execution_count": null,
   "id": "acknowledged-lying",
   "metadata": {},
   "outputs": [],
   "source": [
    "4698 + 804"
   ]
  },
  {
   "cell_type": "code",
   "execution_count": null,
   "id": "sustained-setup",
   "metadata": {},
   "outputs": [],
   "source": []
  }
 ],
 "metadata": {
  "kernelspec": {
   "display_name": "Python 3",
   "language": "python",
   "name": "python3"
  },
  "language_info": {
   "codemirror_mode": {
    "name": "ipython",
    "version": 3
   },
   "file_extension": ".py",
   "mimetype": "text/x-python",
   "name": "python",
   "nbconvert_exporter": "python",
   "pygments_lexer": "ipython3",
   "version": "3.8.9"
  }
 },
 "nbformat": 4,
 "nbformat_minor": 5
}
