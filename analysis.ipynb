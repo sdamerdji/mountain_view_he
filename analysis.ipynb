{
 "cells": [
  {
   "cell_type": "code",
   "execution_count": 12,
   "id": "documented-stake",
   "metadata": {},
   "outputs": [],
   "source": [
    "import pandas as pd\n",
    "import geopandas as gpd\n",
    "from scipy.stats import pearsonr\n",
    "import matplotlib.pyplot as plt\n",
    "from statsmodels.tools.tools import add_constant\n",
    "import numpy as np\n",
    "import statsmodels.api as sm"
   ]
  },
  {
   "cell_type": "markdown",
   "id": "suspected-worth",
   "metadata": {},
   "source": [
    "### Load data"
   ]
  },
  {
   "cell_type": "markdown",
   "id": "major-grass",
   "metadata": {},
   "source": [
    "Load dataset with snapshot of 2014 pipeline snapshot and outcomes."
   ]
  },
  {
   "cell_type": "code",
   "execution_count": 2,
   "id": "vocational-plant",
   "metadata": {},
   "outputs": [],
   "source": [
    "mv_history = pd.read_csv('./data/pipeline_history.csv')"
   ]
  },
  {
   "cell_type": "code",
   "execution_count": 3,
   "id": "expressed-polymer",
   "metadata": {},
   "outputs": [
    {
     "data": {
      "text/html": [
       "<div>\n",
       "<style scoped>\n",
       "    .dataframe tbody tr th:only-of-type {\n",
       "        vertical-align: middle;\n",
       "    }\n",
       "\n",
       "    .dataframe tbody tr th {\n",
       "        vertical-align: top;\n",
       "    }\n",
       "\n",
       "    .dataframe thead th {\n",
       "        text-align: right;\n",
       "    }\n",
       "</style>\n",
       "<table border=\"1\" class=\"dataframe\">\n",
       "  <thead>\n",
       "    <tr style=\"text-align: right;\">\n",
       "      <th></th>\n",
       "      <th>Address</th>\n",
       "      <th>Pg</th>\n",
       "      <th>Built</th>\n",
       "      <th>Units</th>\n",
       "    </tr>\n",
       "  </thead>\n",
       "  <tbody>\n",
       "    <tr>\n",
       "      <th>0</th>\n",
       "      <td>420 San Antonio</td>\n",
       "      <td>3</td>\n",
       "      <td>1.00</td>\n",
       "      <td>373</td>\n",
       "    </tr>\n",
       "    <tr>\n",
       "      <th>1</th>\n",
       "      <td>2580 California St</td>\n",
       "      <td>4</td>\n",
       "      <td>0.26</td>\n",
       "      <td>632</td>\n",
       "    </tr>\n",
       "    <tr>\n",
       "      <th>2</th>\n",
       "      <td>1701 ECR</td>\n",
       "      <td>7</td>\n",
       "      <td>1.00</td>\n",
       "      <td>24</td>\n",
       "    </tr>\n",
       "    <tr>\n",
       "      <th>3</th>\n",
       "      <td>1101 ECR</td>\n",
       "      <td>8</td>\n",
       "      <td>1.00</td>\n",
       "      <td>52</td>\n",
       "    </tr>\n",
       "    <tr>\n",
       "      <th>4</th>\n",
       "      <td>801 ECR</td>\n",
       "      <td>8</td>\n",
       "      <td>1.00</td>\n",
       "      <td>164</td>\n",
       "    </tr>\n",
       "  </tbody>\n",
       "</table>\n",
       "</div>"
      ],
      "text/plain": [
       "              Address  Pg  Built  Units\n",
       "0     420 San Antonio   3   1.00    373\n",
       "1  2580 California St   4   0.26    632\n",
       "2            1701 ECR   7   1.00     24\n",
       "3            1101 ECR   8   1.00     52\n",
       "4             801 ECR   8   1.00    164"
      ]
     },
     "execution_count": 3,
     "metadata": {},
     "output_type": "execute_result"
    }
   ],
   "source": [
    "mv_history.head()"
   ]
  },
  {
   "cell_type": "markdown",
   "id": "tough-classics",
   "metadata": {},
   "source": [
    "Load site inventory datasets."
   ]
  },
  {
   "cell_type": "code",
   "execution_count": 4,
   "id": "genetic-invention",
   "metadata": {},
   "outputs": [],
   "source": [
    "si_geo = gpd.read_file('./data/MV_Site_Inventory/MV_Site_Inventory.shp')"
   ]
  },
  {
   "cell_type": "code",
   "execution_count": 5,
   "id": "unusual-moral",
   "metadata": {},
   "outputs": [],
   "source": [
    "si = pd.read_csv('./data/hcd_table_a.csv', low_memory=False)\n",
    "si = si[~si.isna().all(axis=1)]\n",
    "si = si[:-1]"
   ]
  },
  {
   "cell_type": "code",
   "execution_count": 65,
   "id": "accomplished-steps",
   "metadata": {},
   "outputs": [],
   "source": [
    "permits = gpd.read_file('./data/all_permits.json')"
   ]
  },
  {
   "cell_type": "code",
   "execution_count": 7,
   "id": "conditional-rubber",
   "metadata": {},
   "outputs": [],
   "source": [
    "zoning = gpd.read_file('./data/Zoning_Districts/Zoning_Districts.shp')"
   ]
  },
  {
   "cell_type": "markdown",
   "id": "dangerous-borough",
   "metadata": {},
   "source": [
    "### Pipeline History Analysis"
   ]
  },
  {
   "cell_type": "code",
   "execution_count": 8,
   "id": "worst-gregory",
   "metadata": {},
   "outputs": [
    {
     "data": {
      "text/plain": [
       "0.6719286871961102"
      ]
     },
     "execution_count": 8,
     "metadata": {},
     "output_type": "execute_result"
    }
   ],
   "source": [
    "sum(mv_history.Units * mv_history.Built) / mv_history.Units.sum()"
   ]
  },
  {
   "cell_type": "code",
   "execution_count": 9,
   "id": "revised-confirmation",
   "metadata": {},
   "outputs": [
    {
     "data": {
      "text/plain": [
       "(-0.24156975644156864, 0.3048589611212049)"
      ]
     },
     "execution_count": 9,
     "metadata": {},
     "output_type": "execute_result"
    }
   ],
   "source": [
    "pearsonr(mv_history.Units, mv_history.Built)"
   ]
  },
  {
   "cell_type": "markdown",
   "id": "polish-tension",
   "metadata": {},
   "source": [
    "### Pipeline Predictions"
   ]
  },
  {
   "cell_type": "code",
   "execution_count": 14,
   "id": "impossible-strain",
   "metadata": {},
   "outputs": [
    {
     "name": "stdout",
     "output_type": "stream",
     "text": [
      "Optimization terminated successfully    (Exit mode 0)\n",
      "            Current function value: 0.4578744955743205\n",
      "            Iterations: 50\n",
      "            Function evaluations: 480\n",
      "            Gradient evaluations: 50\n"
     ]
    }
   ],
   "source": [
    "reg = sm.Logit(mv_history.Built, add_constant(mv_history.Units)).fit_regularized()\n",
    "\n",
    "def predict_success(n_units):\n",
    "    \"\"\"P(devs) adjusted for number of units in project.\"\"\"\n",
    "    return reg.predict([1, n_units])"
   ]
  },
  {
   "cell_type": "code",
   "execution_count": 15,
   "id": "substantial-satin",
   "metadata": {},
   "outputs": [],
   "source": [
    "def predict_success_floor(n_units):\n",
    "    \"\"\"\n",
    "    P(devs) adjusted for number of units in project, with a floor that \n",
    "    pipeline sites are at least as likely to be developed as opportunity sites.\n",
    "    \"\"\"\n",
    "    return max(reg.predict([1, n_units]), .206)"
   ]
  },
  {
   "cell_type": "code",
   "execution_count": 16,
   "id": "technological-question",
   "metadata": {},
   "outputs": [],
   "source": [
    "pipeline = si[si['Optional Information 1'].str.contains('Pending')]"
   ]
  },
  {
   "cell_type": "markdown",
   "id": "wound-healthcare",
   "metadata": {},
   "source": [
    "This dataset excludes approved projects, which is why it has less total capacity than the draft claims."
   ]
  },
  {
   "cell_type": "code",
   "execution_count": 17,
   "id": "harmful-object",
   "metadata": {},
   "outputs": [
    {
     "data": {
      "text/plain": [
       "6913.0"
      ]
     },
     "execution_count": 17,
     "metadata": {},
     "output_type": "execute_result"
    }
   ],
   "source": [
    "pipeline['Total Capacity'].sum()"
   ]
  },
  {
   "cell_type": "code",
   "execution_count": 18,
   "id": "comparative-bhutan",
   "metadata": {},
   "outputs": [
    {
     "data": {
      "text/plain": [
       "Pending Project    66\n",
       "Name: Site Status, dtype: int64"
      ]
     },
     "execution_count": 18,
     "metadata": {},
     "output_type": "execute_result"
    }
   ],
   "source": [
    "pipeline['Site Status'].value_counts()"
   ]
  },
  {
   "cell_type": "markdown",
   "id": "confident-equality",
   "metadata": {},
   "source": [
    "#### Pipeline capacity with plain Logistic Regression"
   ]
  },
  {
   "cell_type": "code",
   "execution_count": 19,
   "id": "absent-diagram",
   "metadata": {},
   "outputs": [],
   "source": [
    "n_approved_units = 1847\n",
    "n_approved_li_units = 226\n",
    "p_devs = pipeline['Total Capacity'].apply(predict_success)"
   ]
  },
  {
   "cell_type": "code",
   "execution_count": 20,
   "id": "stunning-circle",
   "metadata": {},
   "outputs": [
    {
     "data": {
      "text/plain": [
       "3961.4157200269683"
      ]
     },
     "execution_count": 20,
     "metadata": {},
     "output_type": "execute_result"
    }
   ],
   "source": [
    "sum(p_devs * pipeline['Total Capacity']).item() + n_approved_units"
   ]
  },
  {
   "cell_type": "code",
   "execution_count": 21,
   "id": "dominant-acoustic",
   "metadata": {},
   "outputs": [
    {
     "data": {
      "text/plain": [
       "1145.655594727962"
      ]
     },
     "execution_count": 21,
     "metadata": {},
     "output_type": "execute_result"
    }
   ],
   "source": [
    "sum(p_devs * pipeline['Lower Income Capacity']).item() + n_approved_li_units"
   ]
  },
  {
   "cell_type": "markdown",
   "id": "greater-maine",
   "metadata": {},
   "source": [
    "1847 is the number of total units in approved projects. This capacity is excluded from excel sheet."
   ]
  },
  {
   "cell_type": "markdown",
   "id": "enabling-focus",
   "metadata": {},
   "source": [
    "#### Pipeline capacity with constraint that P(dev | pipeline) > P(dev | opp) for all sites"
   ]
  },
  {
   "cell_type": "code",
   "execution_count": 22,
   "id": "potential-affect",
   "metadata": {},
   "outputs": [],
   "source": [
    "p_devs = pipeline['Total Capacity'].apply(predict_success_floor)"
   ]
  },
  {
   "cell_type": "code",
   "execution_count": 23,
   "id": "plain-reporter",
   "metadata": {},
   "outputs": [
    {
     "data": {
      "text/plain": [
       "4651.169153669649"
      ]
     },
     "execution_count": 23,
     "metadata": {},
     "output_type": "execute_result"
    }
   ],
   "source": [
    "sum(p_devs * pipeline['Total Capacity']).item() + n_approved_units"
   ]
  },
  {
   "cell_type": "code",
   "execution_count": 24,
   "id": "veterinary-creativity",
   "metadata": {},
   "outputs": [
    {
     "data": {
      "text/plain": [
       "1253.8843652965609"
      ]
     },
     "execution_count": 24,
     "metadata": {},
     "output_type": "execute_result"
    }
   ],
   "source": [
    "sum(p_devs * pipeline['Lower Income Capacity']).item() + n_approved_li_units"
   ]
  },
  {
   "cell_type": "markdown",
   "id": "julian-witch",
   "metadata": {},
   "source": [
    "### Opportunity Sites"
   ]
  },
  {
   "cell_type": "code",
   "execution_count": 25,
   "id": "documented-fiber",
   "metadata": {},
   "outputs": [],
   "source": [
    "opps = si[~si['Site Status'].str.contains('Pending')]"
   ]
  },
  {
   "cell_type": "code",
   "execution_count": 27,
   "id": "according-explanation",
   "metadata": {},
   "outputs": [
    {
     "data": {
      "text/plain": [
       "P(38) - El Camino Real Precise Plan    55\n",
       "P(41) - East Whisman Precise Plan      15\n",
       "P(40) - San Antonio Precise Plan        9\n",
       "P(39) - North Bayshore Precise Plan     6\n",
       "CN                                      5\n",
       "CRA                                     4\n",
       "P(27) - Grant-Phyllis Precise Plan      2\n",
       "P(19) - Downtown Precise Plan           1\n",
       "Name: Zoning Designation (Current), dtype: int64"
      ]
     },
     "execution_count": 27,
     "metadata": {},
     "output_type": "execute_result"
    }
   ],
   "source": [
    "opps['Zoning Designation (Current)'].value_counts()"
   ]
  },
  {
   "cell_type": "markdown",
   "id": "novel-glasgow",
   "metadata": {},
   "source": [
    "Find opportunity sites for each of four major precise plan areas."
   ]
  },
  {
   "cell_type": "code",
   "execution_count": 28,
   "id": "thermal-passport",
   "metadata": {},
   "outputs": [],
   "source": [
    "ecr = opps[opps['Zoning Designation (Current)'].str.contains(\"El Camino Real\")]"
   ]
  },
  {
   "cell_type": "code",
   "execution_count": 29,
   "id": "convertible-pledge",
   "metadata": {},
   "outputs": [],
   "source": [
    "ew = opps[opps['Zoning Designation (Current)'].str.contains(\"East Whisman\")]"
   ]
  },
  {
   "cell_type": "code",
   "execution_count": 30,
   "id": "acceptable-principle",
   "metadata": {},
   "outputs": [],
   "source": [
    "sa = opps[opps['Zoning Designation (Current)'].str.contains(\"San Antonio\")]"
   ]
  },
  {
   "cell_type": "code",
   "execution_count": 31,
   "id": "dated-promotion",
   "metadata": {},
   "outputs": [],
   "source": [
    "nb = opps[opps['Zoning Designation (Current)'].str.contains(\"North Bayshore\")]"
   ]
  },
  {
   "cell_type": "markdown",
   "id": "thirty-corrections",
   "metadata": {},
   "source": [
    "There are 55 opportunity sites in El Camino Real Precise Plan, 15 in the East Whisman precise plan, 9 in the San Antonio precise plan, and 6 in the North Bayshore precise plan."
   ]
  },
  {
   "cell_type": "code",
   "execution_count": 32,
   "id": "senior-vertical",
   "metadata": {},
   "outputs": [
    {
     "data": {
      "text/plain": [
       "(55, 15, 9, 6)"
      ]
     },
     "execution_count": 32,
     "metadata": {},
     "output_type": "execute_result"
    }
   ],
   "source": [
    "len(ecr), len(ew), len(sa), len(nb)"
   ]
  },
  {
   "cell_type": "markdown",
   "id": "muslim-debut",
   "metadata": {},
   "source": [
    "### Cleaning permits dataset"
   ]
  },
  {
   "cell_type": "markdown",
   "id": "excessive-banks",
   "metadata": {},
   "source": [
    "Half of older permits have same geometry."
   ]
  },
  {
   "cell_type": "code",
   "execution_count": 66,
   "id": "numerous-candy",
   "metadata": {},
   "outputs": [],
   "source": [
    "permits.apn = permits.apn.str.split('-').str.join('')"
   ]
  },
  {
   "cell_type": "code",
   "execution_count": 67,
   "id": "muslim-guide",
   "metadata": {},
   "outputs": [],
   "source": [
    "permits.apn = permits.apn.str.replace('Â\\xa0', '').values.tolist()"
   ]
  },
  {
   "cell_type": "code",
   "execution_count": 68,
   "id": "unlikely-hebrew",
   "metadata": {},
   "outputs": [],
   "source": [
    "permits.apn = permits.apn.str.strip()"
   ]
  },
  {
   "cell_type": "code",
   "execution_count": 69,
   "id": "sitting-criticism",
   "metadata": {},
   "outputs": [],
   "source": [
    "permits = permits[(~permits.apn.duplicated()) | (permits.apn.isnull())]"
   ]
  },
  {
   "cell_type": "code",
   "execution_count": 70,
   "id": "wound-probability",
   "metadata": {},
   "outputs": [],
   "source": [
    "pp_permits = gpd.sjoin(permits, zoning.to_crs('EPSG:4326'))['PRECPLAN'].value_counts()"
   ]
  },
  {
   "cell_type": "code",
   "execution_count": 71,
   "id": "hundred-reach",
   "metadata": {},
   "outputs": [],
   "source": [
    "ecr_ppid = 'P(38)'\n",
    "nbs_ppid = 'P(39)'\n",
    "sa_ppid = 'P(40)'\n",
    "ew_ppid = 'P(41)'"
   ]
  },
  {
   "cell_type": "code",
   "execution_count": 79,
   "id": "forbidden-collector",
   "metadata": {},
   "outputs": [],
   "source": [
    "ecr_yrs, ew_yrs, sa_yrs, nbs_yrs = 8, 3, 8, 5"
   ]
  },
  {
   "cell_type": "code",
   "execution_count": 80,
   "id": "excessive-recognition",
   "metadata": {},
   "outputs": [],
   "source": [
    "ecr_exp = pp_permits[ecr_ppid] / ecr_yrs * 8"
   ]
  },
  {
   "cell_type": "code",
   "execution_count": 81,
   "id": "entertaining-benchmark",
   "metadata": {},
   "outputs": [],
   "source": [
    "nbs_exp = pp_permits[nbs_ppid] / ew_yrs * 8"
   ]
  },
  {
   "cell_type": "code",
   "execution_count": 82,
   "id": "precious-nelson",
   "metadata": {},
   "outputs": [],
   "source": [
    "sa_exp = pp_permits[sa_ppid] / sa_yrs * 8"
   ]
  },
  {
   "cell_type": "code",
   "execution_count": 83,
   "id": "mounted-option",
   "metadata": {},
   "outputs": [],
   "source": [
    "ew_exp = pp_permits[ew_ppid] / nbs_yrs * 8"
   ]
  },
  {
   "cell_type": "code",
   "execution_count": 84,
   "id": "correct-compilation",
   "metadata": {},
   "outputs": [
    {
     "name": "stdout",
     "output_type": "stream",
     "text": [
      "For ecr the city claims 55 projects in 8 years  but historical trends suggest\n",
      "25 is more reasonable. That'd discount their site capacity claims by 0.55 %\n",
      "\n",
      "\n",
      "For ew the city claims 15 projects in 8 years  but historical trends suggest\n",
      "3 is more reasonable. That'd discount their site capacity claims by 0.8 %\n",
      "\n",
      "\n",
      "For sa the city claims 9 projects in 8 years  but historical trends suggest\n",
      "7 is more reasonable. That'd discount their site capacity claims by 0.22 %\n",
      "\n",
      "\n",
      "For nb the city claims 6 projects in 8 years  but historical trends suggest\n",
      "5 is more reasonable. That'd discount their site capacity claims by 0.17 %\n",
      "\n",
      "\n"
     ]
    }
   ],
   "source": [
    "for pp, name, expect in zip([ecr, ew, sa, nb], ['ecr', 'ew', 'sa', 'nb'], [ecr_exp, ew_exp, sa_exp, nbs_exp]):\n",
    "    print('For', name, 'the city claims', len(pp), 'projects in 8 years', ' but historical trends suggest')\n",
    "    print(int(round(expect, 0)), \"is more reasonable. That'd discount their site capacity claims by\", round(1 - (int(round(expect,0)) / len(pp)), 2), '%')\n",
    "    print('\\n')"
   ]
  },
  {
   "cell_type": "code",
   "execution_count": 85,
   "id": "after-fiber",
   "metadata": {},
   "outputs": [
    {
     "name": "stdout",
     "output_type": "stream",
     "text": [
      "For ecr the city claims 55 projects in 8 years, but historical trends suggest\n",
      "25 is more reasonable. That'd inflate their site capacity claims by 220.00000000000003 %\n",
      "\n",
      "\n",
      "For ew the city claims 15 projects in 8 years, but historical trends suggest\n",
      "3 is more reasonable. That'd inflate their site capacity claims by 468.79999999999995 %\n",
      "\n",
      "\n",
      "For sa the city claims 9 projects in 8 years, but historical trends suggest\n",
      "7 is more reasonable. That'd inflate their site capacity claims by 128.6 %\n",
      "\n",
      "\n",
      "For nb the city claims 6 projects in 8 years, but historical trends suggest\n",
      "5 is more reasonable. That'd inflate their site capacity claims by 112.5 %\n",
      "\n",
      "\n"
     ]
    }
   ],
   "source": [
    "for pp, name, expect in zip([ecr, ew, sa, nb], ['ecr', 'ew', 'sa', 'nb'], [ecr_exp, ew_exp, sa_exp, nbs_exp]):\n",
    "    print('For', name, 'the city claims', len(pp), 'projects in 8 years, but historical trends suggest')\n",
    "    print(int(round(expect, 0)), \"is more reasonable. That'd inflate their site capacity claims by\", \n",
    "          round(len(pp) / expect, 3)*100, '%')\n",
    "    print('\\n')"
   ]
  }
 ],
 "metadata": {
  "kernelspec": {
   "display_name": "Python 3",
   "language": "python",
   "name": "python3"
  },
  "language_info": {
   "codemirror_mode": {
    "name": "ipython",
    "version": 3
   },
   "file_extension": ".py",
   "mimetype": "text/x-python",
   "name": "python",
   "nbconvert_exporter": "python",
   "pygments_lexer": "ipython3",
   "version": "3.8.9"
  }
 },
 "nbformat": 4,
 "nbformat_minor": 5
}
