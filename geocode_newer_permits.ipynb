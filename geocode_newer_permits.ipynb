{
 "cells": [
  {
   "cell_type": "code",
   "execution_count": 1,
   "id": "secure-practitioner",
   "metadata": {},
   "outputs": [
    {
     "name": "stderr",
     "output_type": "stream",
     "text": [
      "/Users/Salim/Library/Python/3.8/lib/python/site-packages/geopandas/_compat.py:106: UserWarning: The Shapely GEOS version (3.8.0-CAPI-1.13.1 ) is incompatible with the GEOS version PyGEOS was compiled with (3.9.1-CAPI-1.14.2). Conversions between both will be slow.\n",
      "  warnings.warn(\n"
     ]
    }
   ],
   "source": [
    "\"\"\"\n",
    "A filesystem cache of previous queries to Geocod.io, so that we don't waste too many queries\n",
    "(I only get 2500 free queries per day).\n",
    "Assumes that the project root (or wherever you started your python shell/Jupyter notebook from) has\n",
    "a file \"geocodio_api_key.json\" with the contents:\n",
    "    {\n",
    "        \"key\": \"API_KEY_HERE\"\n",
    "    }\n",
    "\"\"\"\n",
    "import json\n",
    "import os\n",
    "from pathlib import Path\n",
    "from typing import Dict, Iterable, List\n",
    "from geocodio import GeocodioClient\n",
    "import pandas as pd\n",
    "import geopandas as gpd\n",
    "from shapely.geometry import Point\n",
    "\n",
    "# A cache of format \"address -> Geocode response dict\" that we will keep committed\n",
    "# in the repo.\n",
    "CACHE_PATH = Path('./data/geocode_cache.json')\n",
    "\n",
    "def get_client():\n",
    "    return GeocodioClient(json.loads(Path('./geocodio_api_key.json').read_text())['key'])\n",
    "\n",
    "def load_cache() -> Dict[str, dict]:\n",
    "    if not CACHE_PATH.exists():\n",
    "        return {}\n",
    "    with CACHE_PATH.open() as f:\n",
    "        return json.load(f)\n",
    "\n",
    "def overwrite_cache(cache: Dict[str, dict]) -> None:\n",
    "    with CACHE_PATH.open('w') as f:\n",
    "        json.dump(cache, f)\n",
    "\n",
    "def lookup(addresses: Iterable[str]) -> List[dict]:\n",
    "    \"\"\"\n",
    "    Please don't run this function in parallel, because the cache isn't thread-safe.\n",
    "    Since it takes an Iterable, it's easy to use this with a Pandas series:\n",
    "        df['geocode_results'] = geocode_cache.lookup(df['address'])\n",
    "    \"\"\"\n",
    "    cache = load_cache()\n",
    "    addresses_to_lookup = list(set(addresses) - set(cache.keys()))\n",
    "\n",
    "    if len(addresses_to_lookup):\n",
    "        api_results = get_client().geocode(addresses_to_lookup)\n",
    "        for address, response in zip(addresses_to_lookup, api_results):\n",
    "            cache[address] = dict(response)\n",
    "\n",
    "        overwrite_cache(cache)\n",
    "\n",
    "    return [cache[address] for address in addresses]"
   ]
  },
  {
   "cell_type": "code",
   "execution_count": 2,
   "id": "monetary-reporter",
   "metadata": {},
   "outputs": [],
   "source": [
    "results = lookup(['137  Fair Oaks St, Mountain View, CA'])\n",
    "points = [Point(r['results'][0]['location']['lat'], r['results'][0]['location']['lng']) for r in results]"
   ]
  },
  {
   "cell_type": "code",
   "execution_count": 3,
   "id": "derived-purse",
   "metadata": {},
   "outputs": [],
   "source": [
    "newer_permits = pd.read_csv('./data/APRs.csv')"
   ]
  },
  {
   "cell_type": "code",
   "execution_count": 4,
   "id": "handy-terrorism",
   "metadata": {},
   "outputs": [],
   "source": [
    "newer_permits['Address'] = newer_permits['Address'].str.title() + ', Mountain View, CA'"
   ]
  },
  {
   "cell_type": "code",
   "execution_count": 5,
   "id": "danish-collect",
   "metadata": {},
   "outputs": [
    {
     "data": {
      "text/plain": [
       "0             137  Fair Oaks St, Mountain View, CA\n",
       "1           285 Carmelita Drive, Mountain View, CA\n",
       "2                423  Loreto St, Mountain View, CA\n",
       "3             125  Fair Oaks St, Mountain View, CA\n",
       "4      545 Mountain View Avenue, Mountain View, CA\n",
       "                          ...                     \n",
       "615             333  Apricot Ln, Mountain View, CA\n",
       "616         257 Calderon Avenue, Mountain View, CA\n",
       "617     315 Sierra Vista Avenue, Mountain View, CA\n",
       "618             351  Martens Av, Mountain View, CA\n",
       "619           135  Fair Oaks St, Mountain View, CA\n",
       "Name: Address, Length: 620, dtype: object"
      ]
     },
     "execution_count": 5,
     "metadata": {},
     "output_type": "execute_result"
    }
   ],
   "source": [
    "newer_permits['Address']"
   ]
  },
  {
   "cell_type": "code",
   "execution_count": 6,
   "id": "hybrid-chest",
   "metadata": {},
   "outputs": [],
   "source": [
    "all_results = lookup(newer_permits['Address'])"
   ]
  },
  {
   "cell_type": "code",
   "execution_count": 17,
   "id": "explicit-content",
   "metadata": {},
   "outputs": [],
   "source": [
    "def geocode_results_to_geoseries(georesults, df):\n",
    "    return gpd.GeoSeries([geocode_result_to_point(result) for result in georesults], index=df.index)"
   ]
  },
  {
   "cell_type": "code",
   "execution_count": 18,
   "id": "naughty-composer",
   "metadata": {},
   "outputs": [],
   "source": [
    "def geocode_result_to_point(georesult):\n",
    "    if not georesult.get('results'):\n",
    "        return np.nan\n",
    "    loc = georesult['results'][0]['location']\n",
    "    return Point(loc['lng'], loc['lat'])"
   ]
  },
  {
   "cell_type": "code",
   "execution_count": 19,
   "id": "subtle-stone",
   "metadata": {},
   "outputs": [],
   "source": [
    "newer_permits = gpd.GeoDataFrame(newer_permits, \n",
    "                                 geometry=geocode_results_to_geoseries(all_results, newer_permits), \n",
    "                                 crs='EPSG:4326')"
   ]
  },
  {
   "cell_type": "code",
   "execution_count": 20,
   "id": "intimate-vintage",
   "metadata": {},
   "outputs": [],
   "source": [
    "newer_permits.to_file(\"./data/newer_permits.json\", driver=\"GeoJSON\")"
   ]
  },
  {
   "cell_type": "code",
   "execution_count": null,
   "id": "bored-therapy",
   "metadata": {},
   "outputs": [],
   "source": []
  }
 ],
 "metadata": {
  "kernelspec": {
   "display_name": "Python 3",
   "language": "python",
   "name": "python3"
  },
  "language_info": {
   "codemirror_mode": {
    "name": "ipython",
    "version": 3
   },
   "file_extension": ".py",
   "mimetype": "text/x-python",
   "name": "python",
   "nbconvert_exporter": "python",
   "pygments_lexer": "ipython3",
   "version": "3.8.9"
  }
 },
 "nbformat": 4,
 "nbformat_minor": 5
}
