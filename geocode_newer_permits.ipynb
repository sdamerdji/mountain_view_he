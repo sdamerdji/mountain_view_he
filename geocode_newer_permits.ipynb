{
 "cells": [
  {
   "cell_type": "code",
   "execution_count": 134,
   "id": "imperial-bench",
   "metadata": {},
   "outputs": [],
   "source": [
    "\"\"\"\n",
    "A filesystem cache of previous queries to Geocod.io, so that we don't waste too many queries\n",
    "(I only get 2500 free queries per day).\n",
    "Assumes that the project root (or wherever you started your python shell/Jupyter notebook from) has\n",
    "a file \"geocodio_api_key.json\" with the contents:\n",
    "    {\n",
    "        \"key\": \"API_KEY_HERE\"\n",
    "    }\n",
    "\"\"\"\n",
    "import json\n",
    "import os\n",
    "from pathlib import Path\n",
    "from typing import Dict, Iterable, List\n",
    "from geocodio import GeocodioClient\n",
    "import pandas as pd\n",
    "import geopandas as gpd\n",
    "from shapely.geometry import Point\n",
    "import numpy as np\n",
    "\n",
    "# A cache of format \"address -> Geocode response dict\" that we will keep committed\n",
    "# in the repo.\n",
    "CACHE_PATH = Path('./data/geocode_cache.json')\n",
    "\n",
    "def get_client():\n",
    "    return GeocodioClient(json.loads(Path('./geocodio_api_key.json').read_text())['key'])\n",
    "\n",
    "def load_cache() -> Dict[str, dict]:\n",
    "    if not CACHE_PATH.exists():\n",
    "        return {}\n",
    "    with CACHE_PATH.open() as f:\n",
    "        return json.load(f)\n",
    "\n",
    "def overwrite_cache(cache: Dict[str, dict]) -> None:\n",
    "    with CACHE_PATH.open('w') as f:\n",
    "        json.dump(cache, f)\n",
    "\n",
    "def lookup(addresses: Iterable[str]) -> List[dict]:\n",
    "    \"\"\"\n",
    "    Please don't run this function in parallel, because the cache isn't thread-safe.\n",
    "    Since it takes an Iterable, it's easy to use this with a Pandas series:\n",
    "        df['geocode_results'] = geocode_cache.lookup(df['address'])\n",
    "    \"\"\"\n",
    "    cache = load_cache()\n",
    "    addresses_to_lookup = list(set(addresses) - set(cache.keys()))\n",
    "\n",
    "    if len(addresses_to_lookup):\n",
    "        api_results = get_client().geocode(addresses_to_lookup)\n",
    "        for address, response in zip(addresses_to_lookup, api_results):\n",
    "            cache[address] = dict(response)\n",
    "\n",
    "        overwrite_cache(cache)\n",
    "\n",
    "    return [cache[address] for address in addresses]"
   ]
  },
  {
   "cell_type": "code",
   "execution_count": 135,
   "id": "productive-service",
   "metadata": {},
   "outputs": [],
   "source": [
    "results = lookup(['137  Fair Oaks St, Mountain View, CA'])\n",
    "points = [Point(r['results'][0]['location']['lat'], r['results'][0]['location']['lng']) for r in results]"
   ]
  },
  {
   "cell_type": "code",
   "execution_count": 136,
   "id": "prospective-accommodation",
   "metadata": {},
   "outputs": [],
   "source": [
    "newer_permits = pd.read_csv('./data/APRs.csv')"
   ]
  },
  {
   "cell_type": "code",
   "execution_count": 137,
   "id": "blessed-gentleman",
   "metadata": {},
   "outputs": [
    {
     "data": {
      "text/plain": [
       "(620, 48)"
      ]
     },
     "execution_count": 137,
     "metadata": {},
     "output_type": "execute_result"
    }
   ],
   "source": [
    "newer_permits.shape"
   ]
  },
  {
   "cell_type": "code",
   "execution_count": 138,
   "id": "collective-lover",
   "metadata": {},
   "outputs": [],
   "source": [
    "newer_permits['Address'] = newer_permits['Address'].str.title() + ', Mountain View, CA'"
   ]
  },
  {
   "cell_type": "code",
   "execution_count": 139,
   "id": "endless-league",
   "metadata": {},
   "outputs": [
    {
     "data": {
      "text/plain": [
       "0             137  Fair Oaks St, Mountain View, CA\n",
       "1           285 Carmelita Drive, Mountain View, CA\n",
       "2                423  Loreto St, Mountain View, CA\n",
       "3             125  Fair Oaks St, Mountain View, CA\n",
       "4      545 Mountain View Avenue, Mountain View, CA\n",
       "                          ...                     \n",
       "615             333  Apricot Ln, Mountain View, CA\n",
       "616         257 Calderon Avenue, Mountain View, CA\n",
       "617     315 Sierra Vista Avenue, Mountain View, CA\n",
       "618             351  Martens Av, Mountain View, CA\n",
       "619           135  Fair Oaks St, Mountain View, CA\n",
       "Name: Address, Length: 620, dtype: object"
      ]
     },
     "execution_count": 139,
     "metadata": {},
     "output_type": "execute_result"
    }
   ],
   "source": [
    "newer_permits['Address']"
   ]
  },
  {
   "cell_type": "code",
   "execution_count": 140,
   "id": "foster-florist",
   "metadata": {},
   "outputs": [],
   "source": [
    "all_results = lookup(newer_permits['Address'])"
   ]
  },
  {
   "cell_type": "code",
   "execution_count": 141,
   "id": "saving-mumbai",
   "metadata": {},
   "outputs": [],
   "source": [
    "def geocode_results_to_geoseries(georesults, df):\n",
    "    return gpd.GeoSeries([geocode_result_to_point(result) for result in georesults], index=df.index)"
   ]
  },
  {
   "cell_type": "code",
   "execution_count": 142,
   "id": "rough-forward",
   "metadata": {},
   "outputs": [],
   "source": [
    "def geocode_result_to_point(georesult):\n",
    "    if not georesult.get('results'):\n",
    "        return np.nan\n",
    "    loc = georesult['results'][0]['location']\n",
    "    return Point(loc['lng'], loc['lat'])"
   ]
  },
  {
   "cell_type": "code",
   "execution_count": 143,
   "id": "junior-mumbai",
   "metadata": {},
   "outputs": [],
   "source": [
    "newer_permits = gpd.GeoDataFrame(newer_permits, \n",
    "                                 geometry=geocode_results_to_geoseries(all_results, newer_permits), \n",
    "                                 crs='EPSG:4326')"
   ]
  },
  {
   "cell_type": "code",
   "execution_count": 144,
   "id": "unsigned-demographic",
   "metadata": {},
   "outputs": [],
   "source": [
    "newer_permits.to_file(\"./data/newer_permits.json\", driver=\"GeoJSON\")"
   ]
  },
  {
   "cell_type": "code",
   "execution_count": 145,
   "id": "rocky-cancer",
   "metadata": {},
   "outputs": [
    {
     "data": {
      "text/plain": [
       "(620, 49)"
      ]
     },
     "execution_count": 145,
     "metadata": {},
     "output_type": "execute_result"
    }
   ],
   "source": [
    "newer_permits.shape"
   ]
  },
  {
   "cell_type": "code",
   "execution_count": 146,
   "id": "logical-world",
   "metadata": {},
   "outputs": [],
   "source": [
    "ABAG = None\n",
    "def load_abag_permits() -> gpd.GeoDataFrame:\n",
    "    \"\"\"\n",
    "    Loads all 2013-2017 building permits from ABAG as a GeoDataFrame.\n",
    "    \"\"\"\n",
    "    global ABAG\n",
    "    if ABAG is None:\n",
    "        geometry_df = gpd.read_file(\"./data/abag_permits/permits.shp\")\n",
    "        data_df = pd.read_csv(\"./data/abag_permits/permits.csv\")\n",
    "\n",
    "        # There shouldn't be any rows with geometry data that don't have label data\n",
    "        assert geometry_df[\"joinid\"].isin(data_df[\"joinid\"]).all()\n",
    "\n",
    "        ABAG = gpd.GeoDataFrame(data_df.merge(geometry_df, how=\"left\", on=\"joinid\"))\n",
    "\n",
    "    # Filter out permits from before the start of the 5th Housing Element cycle.\n",
    "    ABAG = ABAG[ABAG['permyear'] >= 2015].copy()\n",
    "\n",
    "    ABAG['apn'] = ABAG['apn'].replace({np.nan: None})\n",
    "\n",
    "    return ABAG"
   ]
  },
  {
   "cell_type": "code",
   "execution_count": 147,
   "id": "gross-aberdeen",
   "metadata": {},
   "outputs": [],
   "source": [
    "abag_perms = load_abag_permits()\n",
    "older_permits = abag_perms[(abag_perms['jurisdictn'] == 'Mountain View')]"
   ]
  },
  {
   "cell_type": "code",
   "execution_count": 148,
   "id": "bigger-library",
   "metadata": {},
   "outputs": [
    {
     "data": {
      "text/plain": [
       "Index(['objectid', 'joinid', 'permyear', 'county', 'jurisdictn', 'apn',\n",
       "       'address', 'zip', 'projname', 'hcategory', 'vlowdr', 'vlowndr',\n",
       "       'vlowtot', 'lowdr', 'lowndr', 'lowtot', 'moddr', 'modndr', 'modtot',\n",
       "       'amodtot', 'totalunit', 'tenure', 'mapped', 'mapnotes', 'pda',\n",
       "       'pdacycle', 'pdajoinid', 'tpa', 'tpacycle', 'hsngsite', 'rhnacycle',\n",
       "       'notes', 'ObjectId2', 'OBJECTID', 'geometry'],\n",
       "      dtype='object')"
      ]
     },
     "execution_count": 148,
     "metadata": {},
     "output_type": "execute_result"
    }
   ],
   "source": [
    "older_permits.columns"
   ]
  },
  {
   "cell_type": "code",
   "execution_count": 149,
   "id": "stunning-sugar",
   "metadata": {},
   "outputs": [],
   "source": [
    "# Remove constant columns\n",
    "older_permits = older_permits.loc[:,~(older_permits == older_permits.iloc[0]).all()]"
   ]
  },
  {
   "cell_type": "code",
   "execution_count": 150,
   "id": "supreme-intro",
   "metadata": {},
   "outputs": [],
   "source": [
    "# Remove columns with no real values\n",
    "older_permits = older_permits.iloc[:, ~older_permits.isna().all().values]"
   ]
  },
  {
   "cell_type": "code",
   "execution_count": 152,
   "id": "oriental-merit",
   "metadata": {},
   "outputs": [],
   "source": [
    "older_permits = older_permits.copy()"
   ]
  },
  {
   "cell_type": "code",
   "execution_count": 154,
   "id": "knowing-rotation",
   "metadata": {},
   "outputs": [
    {
     "data": {
      "text/plain": [
       "Index(['joinid', 'permyear', 'apn', 'address', 'zip', 'projname', 'hcategory',\n",
       "       'vlowdr', 'vlowtot', 'lowdr', 'lowtot', 'amodtot', 'totalunit',\n",
       "       'tenure', 'mapnotes', 'pda', 'pdacycle', 'pdajoinid', 'tpa', 'tpacycle',\n",
       "       'hsngsite', 'rhnacycle', 'notes', 'ObjectId2', 'OBJECTID', 'geometry'],\n",
       "      dtype='object')"
      ]
     },
     "execution_count": 154,
     "metadata": {},
     "output_type": "execute_result"
    }
   ],
   "source": [
    "older_permits.columns"
   ]
  },
  {
   "cell_type": "code",
   "execution_count": 155,
   "id": "thrown-history",
   "metadata": {},
   "outputs": [],
   "source": [
    "older_permits.drop(['joinid',\n",
    "                    'zip',\n",
    "                    'pda', \n",
    "                    'pdacycle', \n",
    "                    'pdajoinid',\n",
    "                    'tpa',\n",
    "                    'tpacycle', \n",
    "                    'rhnacycle',\n",
    "                    'ObjectId2',\n",
    "                    'OBJECTID',\n",
    "                    'mapnotes',\n",
    "                    'notes'], axis=1, inplace=True)"
   ]
  },
  {
   "cell_type": "code",
   "execution_count": 214,
   "id": "substantial-premises",
   "metadata": {},
   "outputs": [
    {
     "data": {
      "text/plain": [
       "Index(['permyear', 'apn', 'address', 'projname', 'hcategory', 'vlowdr',\n",
       "       'vlowtot', 'lowdr', 'lowtot', 'amodtot', 'totalunit', 'tenure',\n",
       "       'hsngsite', 'geometry'],\n",
       "      dtype='object')"
      ]
     },
     "execution_count": 214,
     "metadata": {},
     "output_type": "execute_result"
    }
   ],
   "source": [
    "older_permits.columns"
   ]
  },
  {
   "cell_type": "code",
   "execution_count": 156,
   "id": "buried-walnut",
   "metadata": {},
   "outputs": [],
   "source": [
    "newer_permits = newer_permits.iloc[:, ~newer_permits.isna().all().values]"
   ]
  },
  {
   "cell_type": "code",
   "execution_count": 157,
   "id": "dramatic-nothing",
   "metadata": {},
   "outputs": [],
   "source": [
    "newer_permits = newer_permits.loc[:,~(newer_permits == newer_permits.iloc[0]).all()]"
   ]
  },
  {
   "cell_type": "code",
   "execution_count": 158,
   "id": "severe-plane",
   "metadata": {},
   "outputs": [
    {
     "data": {
      "text/plain": [
       "Index(['Reporting Year', 'Prior APN', 'APN', 'Address', 'Project Name',\n",
       "       'Jurisdiction Tracking ID', 'Unit Category', 'Tenure',\n",
       "       'Entitled Very Low Income Deed (Restricted)',\n",
       "       'Entitled Low Income Deed (Restricted)',\n",
       "       'Entitled Moderate Income Deed (Restricted)',\n",
       "       'Entitled Above Moderate Income', 'Entitlement Date Approved',\n",
       "       'Total Units Entitled', 'Permitted Very Low Income Deed (Restricted)',\n",
       "       'Permitted Low Income Deed (Restricted)',\n",
       "       'Permitted Moderate Income Deed (Restricted)',\n",
       "       'Permitted Above Moderate Income', 'Permit Date Issued',\n",
       "       'Total  Units Permitted', 'Completed Very Low Income Deed (Restricted)',\n",
       "       'Completed  Low Income Deed (Restricted)',\n",
       "       'Completed  Above Moderate Income', 'Completed Date',\n",
       "       'Total Units Completed', 'Total Extremely Low Income Units',\n",
       "       'SB 35 Approved?', 'Financial Assistance Program',\n",
       "       'Deed Restriction Type', 'Years of Affordability',\n",
       "       'Demolished/Destroyed Units', 'Demolished or Destroyed?',\n",
       "       'Tenure Type of Demolished/Destroyed Unit', 'Notes', 'geometry'],\n",
       "      dtype='object')"
      ]
     },
     "execution_count": 158,
     "metadata": {},
     "output_type": "execute_result"
    }
   ],
   "source": [
    "newer_permits.columns"
   ]
  },
  {
   "cell_type": "code",
   "execution_count": null,
   "id": "reasonable-merchandise",
   "metadata": {},
   "outputs": [],
   "source": [
    "newer_permits['vlowtot'] = newer_permits['Permitted Very Low Income Deed (Restricted)'] + newer_permits['Permitted Very Low Income Deed (Restricted)']"
   ]
  },
  {
   "cell_type": "code",
   "execution_count": 242,
   "id": "flush-retailer",
   "metadata": {},
   "outputs": [],
   "source": [
    "newer_permits.rename({'Reporting Year': 'permyear',\n",
    "                      'APN': 'apn',\n",
    "                      'Address': 'address',\n",
    "                      'Project Name': 'projname',\n",
    "                      'Unit Category': 'hcategory',\n",
    "                      'Tenure': 'tenure',\n",
    "                      'Notes': 'notes',\n",
    "                      'Permitted Very Low Income Deed (Restricted)': 'vlowdr',\n",
    "                      'Permitted Low Income Deed (Restricted)': 'lowdr',\n",
    "                      'Permitted Above Moderate Income': 'amodtot',\n",
    "                      'Total\\xa0 Units Permitted': 'totalunit',\n",
    "                       }, axis=1, inplace=True)"
   ]
  },
  {
   "cell_type": "code",
   "execution_count": 248,
   "id": "disturbed-nigeria",
   "metadata": {},
   "outputs": [],
   "source": [
    "newer_permits = newer_permits[[c for c in newer_permits.columns if c in older_permits.columns]]"
   ]
  },
  {
   "cell_type": "code",
   "execution_count": 249,
   "id": "wireless-corrections",
   "metadata": {},
   "outputs": [
    {
     "data": {
      "text/plain": [
       "Index(['permyear', 'apn', 'address', 'projname', 'hcategory', 'tenure',\n",
       "       'vlowdr', 'lowdr', 'amodtot', 'totalunit', 'geometry'],\n",
       "      dtype='object')"
      ]
     },
     "execution_count": 249,
     "metadata": {},
     "output_type": "execute_result"
    }
   ],
   "source": [
    "newer_permits.columns"
   ]
  },
  {
   "cell_type": "code",
   "execution_count": 270,
   "id": "interested-intention",
   "metadata": {},
   "outputs": [
    {
     "data": {
      "text/plain": [
       "<Geographic 2D CRS: EPSG:4326>\n",
       "Name: WGS 84\n",
       "Axis Info [ellipsoidal]:\n",
       "- Lat[north]: Geodetic latitude (degree)\n",
       "- Lon[east]: Geodetic longitude (degree)\n",
       "Area of Use:\n",
       "- name: World.\n",
       "- bounds: (-180.0, -90.0, 180.0, 90.0)\n",
       "Datum: World Geodetic System 1984 ensemble\n",
       "- Ellipsoid: WGS 84\n",
       "- Prime Meridian: Greenwich"
      ]
     },
     "execution_count": 270,
     "metadata": {},
     "output_type": "execute_result"
    }
   ],
   "source": [
    "newer_permits.crs"
   ]
  },
  {
   "cell_type": "code",
   "execution_count": 271,
   "id": "democratic-accounting",
   "metadata": {},
   "outputs": [
    {
     "data": {
      "text/plain": [
       "<Geographic 2D CRS: EPSG:4326>\n",
       "Name: WGS 84\n",
       "Axis Info [ellipsoidal]:\n",
       "- Lat[north]: Geodetic latitude (degree)\n",
       "- Lon[east]: Geodetic longitude (degree)\n",
       "Area of Use:\n",
       "- name: World.\n",
       "- bounds: (-180.0, -90.0, 180.0, 90.0)\n",
       "Datum: World Geodetic System 1984 ensemble\n",
       "- Ellipsoid: WGS 84\n",
       "- Prime Meridian: Greenwich"
      ]
     },
     "execution_count": 271,
     "metadata": {},
     "output_type": "execute_result"
    }
   ],
   "source": [
    "older_permits.crs"
   ]
  },
  {
   "cell_type": "code",
   "execution_count": 251,
   "id": "beautiful-button",
   "metadata": {},
   "outputs": [],
   "source": [
    "permits = pd.concat((newer_permits, older_permits), axis=0)"
   ]
  },
  {
   "cell_type": "code",
   "execution_count": 253,
   "id": "powered-capture",
   "metadata": {},
   "outputs": [
    {
     "data": {
      "text/plain": [
       "Owner     537\n",
       "O         168\n",
       "Renter     83\n",
       "R           6\n",
       "Name: tenure, dtype: int64"
      ]
     },
     "execution_count": 253,
     "metadata": {},
     "output_type": "execute_result"
    }
   ],
   "source": [
    "permits['tenure'].value_counts()"
   ]
  },
  {
   "cell_type": "code",
   "execution_count": 257,
   "id": "spanish-maple",
   "metadata": {},
   "outputs": [],
   "source": [
    "permits['tenure'].replace({'O': \"Owner\", 'R': \"Renter\"}, inplace=True)"
   ]
  },
  {
   "cell_type": "code",
   "execution_count": 258,
   "id": "cardiac-reducing",
   "metadata": {},
   "outputs": [
    {
     "data": {
      "text/plain": [
       "Owner     705\n",
       "Renter     89\n",
       "Name: tenure, dtype: int64"
      ]
     },
     "execution_count": 258,
     "metadata": {},
     "output_type": "execute_result"
    }
   ],
   "source": [
    "permits['tenure'].value_counts()"
   ]
  },
  {
   "cell_type": "code",
   "execution_count": 259,
   "id": "bizarre-princess",
   "metadata": {},
   "outputs": [
    {
     "data": {
      "text/plain": [
       "Single-Family Attached Unit               390\n",
       "5+                                        256\n",
       "SF                                        148\n",
       "Accessory Dwelling Unit                   105\n",
       "2 to 4                                     75\n",
       "Single-Family Detached Unit                66\n",
       "5 or More Units Per Structure              57\n",
       "SU                                          7\n",
       "2-, 3-, and 4-Plex Units per Structure      2\n",
       "Name: hcategory, dtype: int64"
      ]
     },
     "execution_count": 259,
     "metadata": {},
     "output_type": "execute_result"
    }
   ],
   "source": [
    "permits['hcategory'].value_counts()"
   ]
  },
  {
   "cell_type": "code",
   "execution_count": 263,
   "id": "polished-remove",
   "metadata": {},
   "outputs": [],
   "source": [
    "permits['hcategory'].replace({'5+': \"5 or More Units Per Structure\", \n",
    "                              '2 to 4': \"2-, 3-, and 4-Plex Units per Structure\"}, inplace=True)"
   ]
  },
  {
   "cell_type": "markdown",
   "id": "lined-screw",
   "metadata": {},
   "source": [
    "I don't know what to do with SU or SF."
   ]
  },
  {
   "cell_type": "code",
   "execution_count": 264,
   "id": "wanted-toilet",
   "metadata": {},
   "outputs": [
    {
     "data": {
      "text/plain": [
       "Single-Family Attached Unit               390\n",
       "5 or More Units Per Structure             313\n",
       "SF                                        148\n",
       "Accessory Dwelling Unit                   105\n",
       "2-, 3-, and 4-Plex Units per Structure     77\n",
       "Single-Family Detached Unit                66\n",
       "SU                                          7\n",
       "Name: hcategory, dtype: int64"
      ]
     },
     "execution_count": 264,
     "metadata": {},
     "output_type": "execute_result"
    }
   ],
   "source": [
    "permits['hcategory'].value_counts()"
   ]
  },
  {
   "cell_type": "code",
   "execution_count": 269,
   "id": "exciting-herald",
   "metadata": {},
   "outputs": [],
   "source": [
    "permits.to_file('./data/all_permits.json', index=False)"
   ]
  },
  {
   "cell_type": "code",
   "execution_count": null,
   "id": "sorted-constitution",
   "metadata": {},
   "outputs": [],
   "source": []
  }
 ],
 "metadata": {
  "kernelspec": {
   "display_name": "Python 3",
   "language": "python",
   "name": "python3"
  },
  "language_info": {
   "codemirror_mode": {
    "name": "ipython",
    "version": 3
   },
   "file_extension": ".py",
   "mimetype": "text/x-python",
   "name": "python",
   "nbconvert_exporter": "python",
   "pygments_lexer": "ipython3",
   "version": "3.8.9"
  }
 },
 "nbformat": 4,
 "nbformat_minor": 5
}
